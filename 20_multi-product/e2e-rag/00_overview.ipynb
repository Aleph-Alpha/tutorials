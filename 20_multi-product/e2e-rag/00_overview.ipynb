{
  "cells": [
    {
      "cell_type": "markdown",
      "metadata": {},
      "source": [
        "# End-to-End RAG Overview\n",
        "\n",
        "Building a complete RAG solution with multiple Pharia products.\n"
      ]
    }
  ],
  "metadata": {
    "language_info": {
      "name": "python"
    }
  },
  "nbformat": 4,
  "nbformat_minor": 2
}
