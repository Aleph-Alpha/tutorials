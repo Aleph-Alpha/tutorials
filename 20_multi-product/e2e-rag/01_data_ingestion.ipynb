{
  "cells": [
    {
      "cell_type": "markdown",
      "metadata": {},
      "source": [
        "# Data Ingestion\n",
        "\n",
        "Preparing and ingesting data for RAG.\n"
      ]
    }
  ],
  "metadata": {
    "language_info": {
      "name": "python"
    }
  },
  "nbformat": 4,
  "nbformat_minor": 2
}
