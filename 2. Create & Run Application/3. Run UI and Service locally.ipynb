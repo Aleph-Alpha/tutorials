{
 "cells": [
  {
   "cell_type": "markdown",
   "metadata": {},
   "source": [
    "## 3. Run UI and service locally\n",
    "\n",
    "After creating the application scaffold, we need to set up each component individually. The application consists of three main parts that operate together:\n",
    "- the user interface (UI)\n",
    "- the service, that is, the application backend\n",
    "- the Skill, that is, the application logic\n",
    "\n",
    "Each component requires its own dependencies to be installed and its environment to be configured.\n",
    "\n",
    "**We need to use separate terminal sessions for each component, as the components run simultaneously during development.**"
   ]
  },
  {
   "cell_type": "markdown",
   "metadata": {},
   "source": [
    "### 3.1 Configure the application UI\n",
    "\n",
    "The UI component provides the web interface that users interact with. It's built using modern web technologies and needs to be configured with authentication to communicate with the PhariaAI platform.\n",
    "\n",
    "<div class=\"alert alert-block alert-info\">\n",
    "<b>Note:</b> To get a token, see the PhariaAI documentation article: <a href=\"https://docs.aleph-alpha.com/products/pharia-ai/pharia-studio/tutorial/add-intelligence-layer/#set-your-environment-variables\">How to obtain a bearer token in PhariaStudio</a>.\n",
    "</div>\n",
    "\n",
    "In your terminal, enter the following commands:"
   ]
  },
  {
   "cell_type": "code",
   "execution_count": null,
   "metadata": {
    "vscode": {
     "languageId": "powershell"
    }
   },
   "outputs": [],
   "source": [
    "cd <your-app-name>/ui\n",
    "pnpm install"
   ]
  },
  {
   "cell_type": "markdown",
   "metadata": {},
   "source": [
    "Before starting the UI, you need to set up authentication. Open the environment file and set your bearer token in `<your-app-name>/ui/.env.` with the identifier `VITE_USER_TOKEN=<your-bearer-token>`"
   ]
  },
  {
   "cell_type": "markdown",
   "metadata": {},
   "source": [
    "Now start the UI development server:"
   ]
  },
  {
   "cell_type": "code",
   "execution_count": null,
   "metadata": {
    "vscode": {
     "languageId": "powershell"
    }
   },
   "outputs": [],
   "source": [
    "pnpm run dev"
   ]
  },
  {
   "cell_type": "markdown",
   "metadata": {},
   "source": [
    "### 3.2 Configure the application service\n",
    "\n",
    "The service component functions as the backend for your application. It handles API requests from the UI, manages application state, and communicates with the Skill component to process user queries. It's built with Python and runs as a web server.\n",
    "\n",
    "In a ```new terminal window``` enter the following commands:"
   ]
  },
  {
   "cell_type": "code",
   "execution_count": null,
   "metadata": {
    "vscode": {
     "languageId": "powershell"
    }
   },
   "outputs": [],
   "source": [
    "cd <your-app-name>/service"
   ]
  },
  {
   "cell_type": "markdown",
   "metadata": {},
   "source": [
    "**Important**: Before setting up the service, ensure your environment is properly configured:"
   ]
  },
  {
   "cell_type": "markdown",
   "metadata": {},
   "source": [
    "- Verify that the ```SERVICE_PHARIA_KERNEL_ADDRESS``` environment variable is set in ```<your-app-name>/service/.env```. This is needed so that we can redirect the users messages to the correct endpoint."
   ]
  },
  {
   "cell_type": "markdown",
   "metadata": {},
   "source": [
    "Now install the dependencies:"
   ]
  },
  {
   "cell_type": "code",
   "execution_count": null,
   "metadata": {
    "vscode": {
     "languageId": "powershell"
    }
   },
   "outputs": [],
   "source": [
    "uv sync --dev"
   ]
  },
  {
   "cell_type": "markdown",
   "metadata": {},
   "source": [
    "After publishing your Skill, you need to connect your application's service component to the published Skill. This requires updating the routing configuration in your service component to point to the correct kernel namespace and Skill name. At this point, don't confuse the Studio namespace, used to set up collections and upload documents, with the kernel namespace, which is the one to be used in this part of tutorial.\n",
    "\n",
    "To be able to connect the UI to the Skill you just published, we adjust the `<Application-name>/service/src/service/routes.py` file to point to the correct kernel namespace and skill. In this file, you need to update the following line of code:\n",
    "\n",
    "```python\n",
    "skill = Skill(namespace=\"app\", name=\"qa\")\n",
    "```\n",
    "\n",
    "Replace the kernel namespace value with the one provided as part of the onboarding material. As for the Skill name, please use the one defined in the previous step. In our case:\n",
    "\n",
    "```python\n",
    "skill = Skill(namespace=\"<namespace-shared-in-material>\", name=\"qa-rag-tutorial\")\n",
    "```\n"
   ]
  },
  {
   "cell_type": "markdown",
   "metadata": {},
   "source": [
    "### Configure Environment Variables\n",
    "\n",
    "Before starting the service, you need to configure the PhariaKernel connection:\n",
    "\n",
    "1. Open `<your-app-name>/service/.env` file\n",
    "2. Find the line `SERVICE_PHARIA_KERNEL_ADDRESS=`\n",
    "3. Copy the `PHARIA_KERNEL_ADDRESS` value from your root project `.env` file\n",
    "4. Set it in the service .env file:\n",
    "   ```bash\n",
    "   SERVICE_PHARIA_KERNEL_ADDRESS=https://pharia-kernel.customer.pharia.com/\n",
    "   ```\n",
    "   (Replace with your actual PhariaKernel address)\n",
    "\n",
    "Once the environment is configured and changes are saved, start your service component:"
   ]
  },
  {
   "cell_type": "code",
   "execution_count": null,
   "metadata": {
    "vscode": {
     "languageId": "powershell"
    }
   },
   "outputs": [],
   "source": [
    "uv run dev"
   ]
  }
 ],
 "metadata": {
  "kernelspec": {
   "display_name": "Python 3 (ipykernel)",
   "language": "python",
   "name": "python3"
  },
  "language_info": {
   "codemirror_mode": {
    "name": "ipython",
    "version": 3
   },
   "file_extension": ".py",
   "mimetype": "text/x-python",
   "name": "python",
   "nbconvert_exporter": "python",
   "pygments_lexer": "ipython3",
   "version": "3.13.3"
  }
 },
 "nbformat": 4,
 "nbformat_minor": 4
}
