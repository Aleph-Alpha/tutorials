{
 "cells": [
  {
   "cell_type": "markdown",
   "metadata": {},
   "source": [
    "## 3 Configure and publish the Skill\n",
    "\n",
    "The Skill component contains the core logic of your application, including document retrieval and answer generation. Unlike the UI and service components, the Skill is designed to be executed by the PhariaKernel platform rather than running directly on your local machine. However, we need to set up the development environment locally.\n",
    "\n",
    "### 3.1 Configure the skill\n",
    "\n",
    "First, configure the environment variables for the OCI registry (<a href=\"https://oras.land/docs/#what-are-oci-registries\">What are OCI registries</a>), which are used to publish the skill. This refers to the .env file in the project root:\n",
    "\n",
    "```bash\n",
    "SKILL_REGISTRY=registry.your-organisation.com\n",
    "SKILL_REPOSITORY=your-pharia-skills-repository\n",
    "SKILL_REGISTRY_USER=your-registry-username\n",
    "SKILL_REGISTRY_TOKEN=your-registry-password\n",
    "```"
   ]
  },
  {
   "cell_type": "markdown",
   "metadata": {},
   "source": [
    "In a ```new terminal window``` navigate to the skill directory and set up the environment:"
   ]
  },
  {
   "cell_type": "code",
   "execution_count": null,
   "metadata": {
    "vscode": {
     "languageId": "powershell"
    }
   },
   "outputs": [],
   "source": [
    "cd <your-app-name>/skills"
   ]
  },
  {
   "cell_type": "markdown",
   "metadata": {},
   "source": [
    "Load the environment variables and install dependencies:"
   ]
  },
  {
   "cell_type": "code",
   "execution_count": null,
   "metadata": {
    "vscode": {
     "languageId": "powershell"
    }
   },
   "outputs": [],
   "source": [
    "#  If you are using linux based system, you can use the following command to source the .env file\n",
    "set -a && source ../.env\n",
    "\n",
    "# If you are using Windows Powershell, you can use the following command to source the .env file\n",
    "Get-Content \"../.env\" | ForEach-Object {\n",
    "    if ($_ -match '^\\s*([^#][^=]+?)\\s*=\\s*(.*)\\s*$') {\n",
    "        $key = $matches[1].Trim()\n",
    "        $value = $matches[2].Trim('\"')  # Optional: remove quotes\n",
    "        [System.Environment]::SetEnvironmentVariable($key, $value, \"Process\")\n",
    "    }\n",
    "}\n"
   ]
  },
  {
   "cell_type": "code",
   "execution_count": null,
   "metadata": {
    "vscode": {
     "languageId": "powershell"
    }
   },
   "outputs": [],
   "source": [
    "uv sync --dev"
   ]
  },
  {
   "cell_type": "markdown",
   "metadata": {},
   "source": [
    "### 3.2 Publish the Skill\n",
    "\n",
    "We need now to add the Skill to the Kernel runtime in order to make it available for production use.\n",
    "\n",
    "In your terminal, ensure you are in the Skill folder (for example, enter `cd <your-app-name>/skill`). First, you build the Skill. This process packages your code and dependencies into a container that can be deployed on PhariaKernel:"
   ]
  },
  {
   "cell_type": "code",
   "execution_count": null,
   "metadata": {
    "vscode": {
     "languageId": "powershell"
    }
   },
   "outputs": [],
   "source": [
    "cd <your-app-name>/skill\n",
    "uv run pharia-skill build qa\n",
    "# If you haven't published the skill in the above command, you can use\n",
    "uv run pharia-skill publish qa --name qa-rag-tutorial"
   ]
  },
  {
   "cell_type": "markdown",
   "metadata": {},
   "source": [
    "You are asked to provide both a name and a tag for your Skill when publishing it. For this tutorial, we choose the name ```qa-rag-tutorial```. This is necessary for some steps ahead.\n",
    "\n",
    "<div class=\"alert alert-block alert-info\">\n",
    "<b>Note:</b> Ensure that your chosen Skill name is unique. If you use an existing Skill's name, the Skill with that name will be <b>overwritten</b>!\n",
    "</div>"
   ]
  },
  {
   "cell_type": "markdown",
   "metadata": {},
   "source": [
    "The last step is to configure PhariaKernel to recognise and serve your Skill. Update your ```namespace.toml``` in your OCI registry (ask your PhariaAI Operator for the location of this file) by adding the new Skill entry."
   ]
  }
 ],
 "metadata": {
  "kernelspec": {
   "display_name": ".venv",
   "language": "python",
   "name": "python3"
  },
  "language_info": {
   "codemirror_mode": {
    "name": "ipython",
    "version": 3
   },
   "file_extension": ".py",
   "mimetype": "text/x-python",
   "name": "python",
   "nbconvert_exporter": "python",
   "pygments_lexer": "ipython3",
   "version": "3.12.9"
  }
 },
 "nbformat": 4,
 "nbformat_minor": 4
}
