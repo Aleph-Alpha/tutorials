{
 "cells": [
  {
   "cell_type": "markdown",
   "metadata": {},
   "source": [
    "## 1. Create a new custom application in PhariaAI\n",
    "\n",
    "<div class=\"alert alert-info\">\n",
    "<b>Note:</b> You can run all the steps within this tutorial on your terminal.\n",
    "</div>\n",
    "\n",
    "The first step is to create the application scaffold using the PhariaAI CLI. This tool automatically generates the necessary files and folder structure for a complete app. The generated app includes the main components: \n",
    "- a user interface, \n",
    "- a backend service, and \n",
    "- a Skill that contains the core AI logic.\n",
    "\n",
    "To create a new app with the PhariaAI CLI, run the following command in your terminal:"
   ]
  },
  {
   "cell_type": "code",
   "execution_count": null,
   "metadata": {
    "vscode": {
     "languageId": "powershell"
    }
   },
   "outputs": [],
   "source": [
    "npx @aleph-alpha/pharia-ai-cli create"
   ]
  },
  {
   "cell_type": "markdown",
   "metadata": {},
   "source": [
    "The CLI prompts you to provide configuration information for your new application. First, it will ask for an application name:"
   ]
  },
  {
   "cell_type": "markdown",
   "metadata": {},
   "source": [
    "```python\n",
    "✔ Please provide a new app name › <your-app-name>\n",
    "```"
   ]
  },
  {
   "cell_type": "markdown",
   "metadata": {},
   "source": [
    "Enter the name: \"rag_tutorial\"."
   ]
  },
  {
   "cell_type": "markdown",
   "metadata": {},
   "source": [
    "Next, the CLI asks you to select a template. Templates provide pre-configured application structures optimised for different use cases:"
   ]
  },
  {
   "cell_type": "markdown",
   "metadata": {},
   "source": [
    "```python\n",
    "✔ Please select a template › base / summary / qa\n",
    "```"
   ]
  },
  {
   "cell_type": "markdown",
   "metadata": {},
   "source": [
    "Select the `qa` template."
   ]
  },
  {
   "cell_type": "markdown",
   "source": "## Example Output\n\nAfter running the `npx @aleph-alpha/pharia-ai-cli create` command and providing your app name and selecting a template, you'll see output similar to this:\n\n<div align=\"center\">\n  <img src=\"./images/create_new_app.png\" width=\"650\" alt=\"Creating a new PhariaAI application\">\n  <p><em>The CLI creates your application structure and provides clear next steps for development</em></p>\n</div>",
   "metadata": {}
  }
 ],
 "metadata": {
  "kernelspec": {
   "display_name": "Python 3 (ipykernel)",
   "language": "python",
   "name": "python3"
  },
  "language_info": {
   "codemirror_mode": {
    "name": "ipython",
    "version": 3
   },
   "file_extension": ".py",
   "mimetype": "text/x-python",
   "name": "python",
   "nbconvert_exporter": "python",
   "pygments_lexer": "ipython3",
   "version": "3.12.9"
  }
 },
 "nbformat": 4,
 "nbformat_minor": 4
}