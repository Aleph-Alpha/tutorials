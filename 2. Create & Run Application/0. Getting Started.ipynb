{
 "cells": [
  {
   "cell_type": "markdown",
   "metadata": {},
   "source": [
    "# Getting Started - Create & Run Application\n",
    "\n",
    "Welcome to the application creation phase of the PhariaAI tutorial! This guide will help you set up your environment to build and run custom applications with PhariaAI.\n",
    "\n",
    "## What you'll learn\n",
    "\n",
    "This tutorial will show you how to:\n",
    "- Activate your existing virtual environment from the previous tutorial\n",
    "- Install additional dependencies needed for application development\n",
    "- Run terminal commands to build and deploy your PhariaAI applications"
   ]
  },
  {
   "cell_type": "markdown",
   "metadata": {},
   "source": [
    "---"
   ]
  },
  {
   "cell_type": "markdown",
   "metadata": {},
   "source": [
    "## Prerequisites and Setup\n",
    "\n",
    "### Accessing Your Virtual Environment\n",
    "\n",
    "If you completed the previous [**\"0. Getting Started - Document Search Setup\"**](../1.%20Enable%20searching%20documents/0.%20Getting%20Started.ipynb) tutorial, you already have a virtual environment set up. Simply activate it:\n",
    "\n",
    "**On macOS/Linux:**\n",
    "```python\n",
    "source .venv/bin/activate\n",
    "```\n",
    "\n",
    "**On Windows:**\n",
    "```PowerShell\n",
    ".venv\\Scripts\\activate\n",
    "```"
   ]
  },
  {
   "cell_type": "markdown",
   "metadata": {},
   "source": [
    "---"
   ]
  },
  {
   "cell_type": "markdown",
   "metadata": {},
   "source": [
    "## Required Software Installation\n",
    "\n",
    "You'll need additional tools for application development and containerization.\n",
    "\n",
    "### 1. Installing Node.js and npx\n",
    "\n",
    "**macOS Installation:**\n",
    "\n",
    "1. **Install Node.js using Homebrew** (if not already installed):\n",
    "   ```bash\n",
    "   brew install node\n",
    "   ```\n",
    "   This automatically includes `npx`.\n",
    "\n",
    "2. **Verify installation:**\n",
    "   ```bash\n",
    "   node --version\n",
    "   npx --version\n",
    "   ```\n",
    "\n",
    "**Windows Installation:**\n",
    "\n",
    "1. **Install Node.js:** Download from https://nodejs.org/en/download (Versions 20.0 or higher)\n",
    "   This automatically includes `npx`.\n",
    "\n",
    "2. **Verify installation:**\n",
    "   ```bash\n",
    "   node --version\n",
    "   npx --version\n",
    "   ```\n",
    "\n",
    "### 2. Docker/Rancher Installation\n",
    "\n",
    "You will need container technology to build images in the later parts of this tutorial:\n",
    "\n",
    "**macOS:**\n",
    "- **Docker:** https://docs.docker.com/desktop/setup/install/mac-install/\n",
    "- **Rancher Desktop** (alternative): https://docs.rancherdesktop.io/getting-started/installation/\n",
    "\n",
    "**Windows:**\n",
    "- **Docker:** https://docs.docker.com/desktop/setup/install/windows-install/\n",
    "- **Rancher Desktop** (alternative): https://docs.rancherdesktop.io/getting-started/installation/\n",
    "\n",
    "\n",
    "### 3. Additional Dependencies\n",
    "\n",
    "If you haven't installed `pharia-skill` from the previous tutorial, add it now:\n",
    "\n",
    "```bash\n",
    "uv pip install pharia-skill\n",
    "```"
   ]
  },
  {
   "cell_type": "markdown",
   "metadata": {},
   "source": [
    "---"
   ]
  },
  {
   "cell_type": "markdown",
   "metadata": {},
   "source": [
    "## Important: Terminal-Based Workflow\n",
    "\n",
    "### Multiple Terminal Sessions Required\n",
    "\n",
    "Unlike the previous tutorial that used Jupyter notebooks, **this section requires working directly in terminal windows**. You will often need to:\n",
    "\n",
    "1. **Keep multiple terminal sessions open simultaneously**\n",
    "2. **Run commands in separate terminal windows**\n",
    "3. **Monitor different processes in parallel**\n",
    "\n",
    "### Example Workflow\n",
    "\n",
    "You might have:\n",
    "- **Terminal 1:** Running the application server\n",
    "- **Terminal 2:** Building Docker images  \n",
    "- **Terminal 3:** Monitoring logs or running additional commands"
   ]
  }
 ],
 "metadata": {
  "kernelspec": {
   "display_name": "Python 3",
   "language": "python",
   "name": "python3"
  },
  "language_info": {
   "codemirror_mode": {
    "name": "ipython",
    "version": 3
   },
   "file_extension": ".py",
   "mimetype": "text/x-python",
   "name": "python",
   "nbconvert_exporter": "python",
   "pygments_lexer": "ipython3",
   "version": "3.11.11"
  }
 },
 "nbformat": 4,
 "nbformat_minor": 4
}
