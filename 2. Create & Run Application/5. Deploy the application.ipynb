{
 "cells": [
  {
   "cell_type": "markdown",
   "metadata": {},
   "source": [
    "## 5. Deploy the application\n",
    "\n",
    "This section describes the final stage of your RAG application journey: deployment to production. After building and testing your application, this step makes your solution available to end users through the PhariaOS environment and PhariaAssistant interface."
   ]
  },
  {
   "cell_type": "markdown",
   "metadata": {},
   "source": [
    "### 5.1 Set up deployment credentials\n",
    "\n",
    "Before deploying your application, you need to set up the necessary environment variables that provide authentication and identify deployment targets. These variables establish the secure connection between your development environment and the production platform.\n",
    "\n",
    "<div class=\"alert alert-block alert-info\">\n",
    "<b>Note:</b> The values for these variables are specific to your organisation's PhariaAI installation. Obtain the correct values from your system administrator or DevOps team before proceeding.\n",
    "</div>\n",
    "\n",
    "Add the following environment variables to your project's `.env` file or set them in your development environment:"
   ]
  },
  {
   "cell_type": "markdown",
   "metadata": {},
   "source": [
    "```python\n",
    "# PhariaOS Manager endpoint\n",
    "PHARIAOS_MANAGER_URL=https://os-manager.your-organization.pharia.com\n",
    "\n",
    "# Container image registry details\n",
    "IMAGE_REGISTRY=registry.your-organization.com\n",
    "IMAGE_REPOSITORY=pharia-apps\n",
    "IMAGE_REGISTRY_USER=your-registry-username\n",
    "IMAGE_REGISTRY_PASSWORD=your-registry-password\n",
    "```"
   ]
  },
  {
   "cell_type": "markdown",
   "metadata": {},
   "source": [
    "### Prerequisite: Ensure Container Runtime is Available\n",
    "\n",
    "Before building and publishing your application, you need a container runtime (Docker or Podman) to build container images.\n",
    "\n",
    "**Check if Docker or Podman is installed:**\n",
    "\n",
    "```bash\n",
    "# Check for Docker\n",
    "which docker\n",
    "\n",
    "# Check for Podman  \n",
    "which podman\n",
    "```\n",
    "\n",
    "**If using Podman (common on macOS with Homebrew):**\n",
    "\n",
    "1. Check if Podman machine exists and is running:\n",
    "   ```bash\n",
    "   podman machine list\n",
    "   ```\n",
    "\n",
    "\n",
    "2. If the machine shows \"Never\" under LAST UP or is stopped, start it:\n",
    "   ```bash\n",
    "   podman machine start\n",
    "   ```\n",
    "\n",
    "\n",
    "3. Verify the connection is working:\n",
    "   ```bash\n",
    "   podman system connection list\n",
    "   ```\n",
    "\n",
    "**If using Docker (with Docker Desktop or Rancher Desktop):**\n",
    "\n",
    "1. Ensure Docker Desktop or Rancher Desktop is running (check your system tray/menu bar)\n",
    "\n",
    "2. Verify Docker is accessible:\n",
    "   ```bash\n",
    "   docker version\n",
    "   ```\n",
    "\n",
    "<div class=\"alert alert-block alert-warning\">\n",
    "<b>Important:</b> The publish command will fail with a connection error if your container runtime is not started. Always ensure Docker or Podman is running before attempting to publish.\n",
    "</div>"
   ]
  },
  {
   "cell_type": "markdown",
   "metadata": {},
   "source": [
    "### 5.2 Build and publish your application\n",
    "\n",
    "The deployment process consists of two main steps: publishing your container image to the registry and deploying the application to PhariaOS.\n",
    "\n",
    "Navigate to your application directory and run the following commands:"
   ]
  },
  {
   "cell_type": "markdown",
   "metadata": {},
   "source": [
    "```bash\n",
    "cd <your-app-name>\n",
    "npx @aleph-alpha/pharia-ai-cli publish\n",
    "```"
   ]
  },
  {
   "cell_type": "markdown",
   "metadata": {},
   "source": [
    "The `publish` command performs the following operations:\n",
    "\n",
    "1. It builds a containerised version of your application\n",
    "2. It authenticates with your container registry\n",
    "3. It pushes the container image to the registry\n",
    "4. It registers the new version in the PhariaAI application catalog\n",
    "\n",
    "**Note:** The publishing process may take a few minutes depending on your application size and network speed. The CLI provides progress indicators during this operation."
   ]
  },
  {
   "cell_type": "markdown",
   "metadata": {},
   "source": "### 5.3 Register and Deploy Your Application\n\nOnce your application has been published to the registry, you need to register it with a project and then deploy it. PhariaAI CLI allows you to link the application to a project in PhariaStudio to manage access. The project ID is available from the Studio URL, as visible in the image.\n\n![pharia-studio-project-id-url.png](../Visualizations/pharia-studio-project-id-url.png)"
  },
  {
   "cell_type": "markdown",
   "metadata": {},
   "source": "First, register your application with a specific project:\n\n```bash\nnpx @aleph-alpha/pharia-ai-cli register --project <PROJECT ID>\n```\n\nThen deploy the registered application:\n\n```bash\nnpx @aleph-alpha/pharia-ai-cli deploy\n```"
  },
  {
   "cell_type": "markdown",
   "metadata": {},
   "source": [
    "\n",
    "After successful deployment, the application will be visible in PhariaStudio under the project specified in the deployment process.\n",
    "\n",
    "![pharia-studio-manage-applications-deployed.png](../Visualizations/pharia-studio-manage-applications-deployed.png)\n",
    "\n",
    "### 5.4 Enable access to the application\n",
    "\n",
    "To enable users to see the application in PhariaAssistant, it is necessary to assign them to the application in PhariaStudio. To do so, it is sufficient to click on the `Add Users` button on the application card.\n",
    "\n",
    "![pharia-studio-manage-application-add-users.png](../Visualizations/pharia-studio-manage-application-add-users.png)\n",
    "\n",
    "The application will now be visible and accessible from PhariaAssistant to all the users that were assigned."
   ]
  },
  {
   "cell_type": "markdown",
   "metadata": {},
   "source": "### 5.5 Update your application\n\nTo update your application after making changes, follow these steps to rebuild, publish and deploy the updated version:\n\n```bash\nnpx @aleph-alpha/pharia-ai-cli publish\nnpx @aleph-alpha/pharia-ai-cli deploy\n```\n\n**Note:** You don't need to register the application again since it's already associated with your project."
  },
  {
   "cell_type": "markdown",
   "metadata": {},
   "source": [
    "### 5.6 Remove your application\n",
    "\n",
    "If you need to remove your application from production, do the following:\n",
    "\n",
    "```bash\n",
    "cd <your-app-name>\n",
    "npx @aleph-alpha/pharia-ai-cli undeploy\n",
    "```"
   ]
  },
  {
   "cell_type": "markdown",
   "metadata": {},
   "source": [
    "You can undeploy an application also via the PhariaStudio interface.\n",
    "\n",
    "The `undeploy` command performs the following operations:\n",
    "\n",
    "1. It removes your application from the PhariaAssistant interface\n",
    "2. It stops all running containers\n",
    "3. It releases allocated resources\n",
    "4. It maintains your container images in the registry for potential future redeployment\n",
    "\n",
    "**Important:** Undeploying an application makes it immediately unavailable to all users. Ensure you communicate this change to stakeholders before proceeding."
   ]
  }
 ],
 "metadata": {
  "kernelspec": {
   "display_name": "Python 3 (ipykernel)",
   "language": "python",
   "name": "python3"
  },
  "language_info": {
   "codemirror_mode": {
    "name": "ipython",
    "version": 3
   },
   "file_extension": ".py",
   "mimetype": "text/x-python",
   "name": "python",
   "nbconvert_exporter": "python",
   "pygments_lexer": "ipython3",
   "version": "3.12.9"
  }
 },
 "nbformat": 4,
 "nbformat_minor": 4
}