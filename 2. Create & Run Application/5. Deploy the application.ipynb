{
 "cells": [
  {
   "cell_type": "markdown",
   "metadata": {},
   "source": [
    "## 5. Deploy the application\n",
    "\n",
    "This section describes the final stage of your RAG application journey: deployment to production. After building and testing your application, this step makes your solution available to end users through the PhariaOS environment and PhariaAssistant interface."
   ]
  },
  {
   "cell_type": "markdown",
   "metadata": {},
   "source": [
    "### 5.1 Set up deployment credentials\n",
    "\n",
    "Before deploying your application, you need to set up the necessary environment variables that provide authentication and identify deployment targets. These variables establish the secure connection between your development environment and the production platform.\n",
    "\n",
    "<div class=\"alert alert-block alert-info\">\n",
    "<b>Note:</b> The values for these variables are specific to your organisation's PhariaAI installation. Obtain the correct values from your system administrator or DevOps team before proceeding.\n",
    "</div>\n",
    "\n",
    "Add the following environment variables to your project's `.env` file or set them in your development environment:"
   ]
  },
  {
   "cell_type": "markdown",
   "metadata": {},
   "source": [
    "```python\n",
    "# PhariaOS Manager endpoint\n",
    "PHARIAOS_MANAGER_URL=https://os-manager.your-organization.pharia.com\n",
    "\n",
    "# Container image registry details\n",
    "IMAGE_REGISTRY=registry.your-organization.com\n",
    "IMAGE_REPOSITORY=pharia-apps\n",
    "IMAGE_REGISTRY_USER=your-registry-username\n",
    "IMAGE_REGISTRY_PASSWORD=your-registry-password\n",
    "```"
   ]
  },
  {
   "cell_type": "markdown",
   "metadata": {},
   "source": [
    "### 5.2 Build and publish your application\n",
    "\n",
    "The deployment process consists of two main steps: publishing your container image to the registry and deploying the application to PhariaOS.\n",
    "\n",
    "Navigate to your application directory and run the following commands:"
   ]
  },
  {
   "cell_type": "markdown",
   "metadata": {},
   "source": [
    "```bash\n",
    "cd <your-app-name>\n",
    "npx @aleph-alpha/pharia-ai-cli publish\n",
    "```"
   ]
  },
  {
   "cell_type": "markdown",
   "metadata": {},
   "source": [
    "The `publish` command performs the following operations:\n",
    "\n",
    "1. It builds a containerised version of your application\n",
    "2. It authenticates with your container registry\n",
    "3. It pushes the container image to the registry\n",
    "4. It registers the new version in the PhariaAI application catalog\n",
    "\n",
    "**Note:** The publishing process may take a few minutes depending on your application size and network speed. The CLI provides progress indicators during this operation."
   ]
  },
  {
   "cell_type": "markdown",
   "metadata": {},
   "source": [
    "### 5.3 Deploy Your Application\n",
    "\n",
    "Once your application has been published to the registry, the next step is deployment. PhariaAI CLI offers the possibility to link the application to a project in PhariaStudio in order to manage access to the application. The project ID is available from the Studio URL, as visible in the image.\n",
    "\n",
    "![pharia-studio-project-id-url.png](../Visualizations/pharia-studio-project-id-url.png)"
   ]
  },
  {
   "cell_type": "markdown",
   "metadata": {},
   "source": [
    "```bash\n",
    "npx @aleph-alpha/pharia-ai-cli deploy --project <PROJECT ID>\n",
    "```\n"
   ]
  },
  {
   "cell_type": "markdown",
   "metadata": {},
   "source": [
    "\n",
    "After successful deployment, the application will be visible in PhariaStudio under the project specified in the deployment process.\n",
    "\n",
    "![pharia-studio-manage-applications-deployed.png](../Visualizations/pharia-studio-manage-applications-deployed.png)\n",
    "\n",
    "### 5.4 Enable access to the application\n",
    "\n",
    "To enable users to see the application in PhariaAssistant, it is necessary to assign them to the application in PhariaStudio. To do so, it is sufficient to click on the `Add Users` button on the application card.\n",
    "\n",
    "![pharia-studio-manage-application-add-users.png](../Visualizations/pharia-studio-manage-application-add-users.png)\n",
    "\n",
    "The application will now be visible and accessible from PhariaAssistant to all the users that were assigned."
   ]
  },
  {
   "cell_type": "markdown",
   "metadata": {},
   "source": [
    "### 5.5 Update your application\n",
    "\n",
    "To update your application after making changes, follow the above steps to build, publish and deploy the updated version:\n",
    "\n",
    "```bash\n",
    "npx @aleph-alpha/pharia-ai-cli publish\n",
    "npx @aleph-alpha/pharia-ai-cli deploy --project <PROJECT ID>\n",
    "```"
   ]
  },
  {
   "cell_type": "markdown",
   "metadata": {},
   "source": [
    "### 5.6 Remove your application\n",
    "\n",
    "If you need to remove your application from production, do the following:\n",
    "\n",
    "```bash\n",
    "cd <your-app-name>\n",
    "npx @aleph-alpha/pharia-ai-cli undeploy\n",
    "```"
   ]
  },
  {
   "cell_type": "markdown",
   "metadata": {},
   "source": [
    "You can undeploy an application also via the PhariaStudio interface.\n",
    "\n",
    "The `undeploy` command performs the following operations:\n",
    "\n",
    "1. It removes your application from the PhariaAssistant interface\n",
    "2. It stops all running containers\n",
    "3. It releases allocated resources\n",
    "4. It maintains your container images in the registry for potential future redeployment\n",
    "\n",
    "**Important:** Undeploying an application makes it immediately unavailable to all users. Ensure you communicate this change to stakeholders before proceeding."
   ]
  }
 ],
 "metadata": {
  "kernelspec": {
   "display_name": "Python 3",
   "language": "python",
   "name": "python3"
  },
  "language_info": {
   "codemirror_mode": {
    "name": "ipython",
    "version": 3
   },
   "file_extension": ".py",
   "mimetype": "text/x-python",
   "name": "python",
   "nbconvert_exporter": "python",
   "pygments_lexer": "ipython3",
   "version": "3.11.11"
  }
 },
 "nbformat": 4,
 "nbformat_minor": 4
}
