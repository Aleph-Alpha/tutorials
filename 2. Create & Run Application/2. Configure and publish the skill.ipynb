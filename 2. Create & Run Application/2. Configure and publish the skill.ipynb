{
 "cells": [
  {
   "cell_type": "markdown",
   "metadata": {},
   "source": [
    "# The Core Concepts\n",
    "\n",
    "<details>\n",
    "<summary><strong>📚 Click to expand Core Concepts section</strong></summary>\n",
    "\n",
    "<br>\n",
    "\n",
    "> **Note:** This section provides a quick mental model of how PhariaKernel components work together. Detailed implementation steps follow in the next notebooks.\n",
    "\n",
    "## Quick Overview\n",
    "\n",
    "PhariaKernel lets you deploy AI components as serverless functions. Here's the workflow:\n",
    "\n",
    "1. **Write** a Skill (Python function with AI logic)\n",
    "2. **Build** it to WebAssembly \n",
    "3. **Publish** to a registry\n",
    "4. **Configure** which Skills are available\n",
    "5. **Invoke** via REST API\n",
    "\n",
    "<div align=\"center\">\n",
    "  <img src=\"./images/skill_flow.png\" width=\"600\" alt=\"PhariaKernel Deployment Workflow\">\n",
    "  <p><em>Complete deployment workflow from development to production</em></p>\n",
    "</div>\n",
    "\n",
    "---\n",
    "\n",
    "## Concept 1: The PhariaKernel Instance\n",
    "\n",
    "**What:** A serverless runtime specifically designed for AI workloads - think AWS Lambda, but optimized for AI.\n",
    "\n",
    "**Why it matters:** Handles all infrastructure complexity (scaling, queuing, load balancing) so you focus only on AI logic.\n",
    "\n",
    "**To connect:** You need two environment variables from your PhariaKernel operator:\n",
    "```bash\n",
    "PHARIA_KERNEL_ADDRESS=<your-instance-url>\n",
    "PHARIA_AI_TOKEN=<your-auth-token>\n",
    "```\n",
    "\n",
    "---\n",
    "\n",
    "## Concept 2: Skills\n",
    "\n",
    "**What:** Python functions that encapsulate AI logic with defined input/output schemas using Pydantic models.\n",
    "\n",
    "**Why it matters:** Skills are stateless, strongly-typed, and testable - perfect for production AI systems.\n",
    "\n",
    "<div align=\"center\">\n",
    "  <img src=\"./images/skill_structure.png\" width=\"400\" alt=\"Skill Structure\">\n",
    "  <p><em>Anatomy of a Skill: Input Schema → Business Logic → Output Schema</em></p>\n",
    "</div>\n",
    "\n",
    "**Example:**\n",
    "```python\n",
    "from pharia_skill import ChatParams, Csi, Message, skill\n",
    "from pydantic import BaseModel\n",
    "\n",
    "class Input(BaseModel):\n",
    "    topic: str\n",
    "\n",
    "class Output(BaseModel):\n",
    "    haiku: str\n",
    "\n",
    "@skill\n",
    "def create_haiku(csi: Csi, input: Input) -> Output:\n",
    "    response = csi.chat(\n",
    "        \"llama-3.1-8b-instruct\",\n",
    "        [Message.user(f\"Write a haiku about {input.topic}\")],\n",
    "        ChatParams(max_tokens=64)\n",
    "    )\n",
    "    return Output(haiku=response.message.content)\n",
    "```\n",
    "\n",
    "---\n",
    "\n",
    "## Concept 3: Building Skills\n",
    "\n",
    "**What:** Compile your Python Skill to WebAssembly for secure, portable execution.\n",
    "\n",
    "**Why it matters:** WASM provides isolation, consistent performance, and language independence.\n",
    "\n",
    "<div align=\"center\">\n",
    "  <img src=\"./images/skill_build.png\" width=\"500\" alt=\"Build Process\">\n",
    "  <p><em>Build process transforms Python code into portable WebAssembly</em></p>\n",
    "</div>\n",
    "\n",
    "**Command:**\n",
    "```bash\n",
    "uv run pharia-skill build my_skill\n",
    "```\n",
    "This creates `my_skill.wasm` ready for deployment.\n",
    "\n",
    "---\n",
    "\n",
    "## Concept 4: Skill Registry\n",
    "\n",
    "**What:** A container registry (like Docker Hub) but for WASM components.\n",
    "\n",
    "**Why it matters:** Central storage for versioned Skills that PhariaKernel can load on-demand.\n",
    "\n",
    "<div align=\"center\">\n",
    "  <img src=\"./images/skill_registry.png\" width=\"450\" alt=\"Skill Registry\">\n",
    "  <p><em>OCI-compliant registries store and version your Skills</em></p>\n",
    "</div>\n",
    "\n",
    "**Setup:** Configure registry credentials (get from your DevOps team):\n",
    "```bash\n",
    "export SKILL_REGISTRY=registry.example.com      # Registry URL\n",
    "export SKILL_REPOSITORY=team/skills             # Your namespace\n",
    "export SKILL_REGISTRY_USER=<username>           # Your username  \n",
    "export SKILL_REGISTRY_TOKEN=<token>             # Access token\n",
    "```\n",
    "\n",
    "**Publish:**\n",
    "```bash\n",
    "uv run pharia-skill publish my_skill.wasm --name my_skill\n",
    "```\n",
    "\n",
    "---\n",
    "\n",
    "## Concept 5: Namespace Configuration\n",
    "\n",
    "**What:** A TOML file that declares which Skills should be available in your namespace.\n",
    "\n",
    "**Why it matters:** Controls what Skills are loaded and accessible via API.\n",
    "\n",
    "<div align=\"center\">\n",
    "  <img src=\"./images/skill_namespace.png\" width=\"500\" alt=\"Namespace Configuration\">\n",
    "  <p><em>GitOps workflow: Configuration changes trigger automatic Skill deployment</em></p>\n",
    "</div>\n",
    "\n",
    "**Example `namespace.toml`:**\n",
    "```toml\n",
    "skills = [\n",
    "    { name = \"my_skill\", tag = \"latest\" },\n",
    "    { name = \"another_skill\", tag = \"v1.0.0\" }\n",
    "]\n",
    "```\n",
    "\n",
    "**Update process:** \n",
    "1. Edit namespace.toml in your Git repo\n",
    "2. Create pull request\n",
    "3. Merge → PhariaKernel auto-loads new Skills\n",
    "\n",
    "---\n",
    "\n",
    "## Concept 6: Invoking Skills\n",
    "\n",
    "**What:** Call your deployed Skills via REST API.\n",
    "\n",
    "**Example:**\n",
    "```bash\n",
    "curl 'https://pharia-kernel.domain/v1/skills/{namespace}/{skill_name}/run' \\\n",
    "  --header \"Authorization: Bearer $PHARIA_AI_TOKEN\" \\\n",
    "  --header 'Content-Type: application/json' \\\n",
    "  --data '{\"topic\": \"mountains\"}'\n",
    "```\n",
    "\n",
    "**Response:**\n",
    "```json\n",
    "{\n",
    "  \"haiku\": \"Peaks touch the sky high\\nSnow-capped giants stand in silence\\nClouds dance at their feet\"\n",
    "}\n",
    "```\n",
    "\n",
    "---\n",
    "\n",
    "## 🎯 Key Takeaway\n",
    "\n",
    "PhariaKernel transforms your Python AI functions into production-ready, scalable services with just a few commands. The complexity is hidden - you write Python, PhariaKernel handles the rest.\n",
    "\n",
    "> **Need Details?** Contact your PhariaKernel operator for environment-specific setup. They'll provide connection details, registry access, and namespace configuration.\n",
    "\n",
    "</details>\n",
    "\n",
    "---"
   ]
  },
  {
   "cell_type": "markdown",
   "metadata": {},
   "source": [
    "## 3 Configure and publish the Skill\n",
    "\n",
    "The Skill component contains the core logic of your application, including document retrieval and answer generation. Unlike the UI and service components, the Skill is designed to be executed by the PhariaKernel platform rather than running directly on your local machine. However, we need to set up the development environment locally.\n",
    "\n",
    "### 3.1 Configure the skill\n",
    "\n",
    "First, configure the environment variables for the OCI registry (<a href=\"https://oras.land/docs/#what-are-oci-registries\">What are OCI registries</a>), which are used to publish the skill. This refers to the .env file in the project root:\n",
    "\n",
    "```bash\n",
    "SKILL_REGISTRY=registry.your-organisation.com\n",
    "SKILL_REPOSITORY=your-pharia-skills-repository\n",
    "SKILL_REGISTRY_USER=your-registry-username\n",
    "SKILL_REGISTRY_TOKEN=your-registry-password\n",
    "```"
   ]
  },
  {
   "cell_type": "markdown",
   "metadata": {},
   "source": [
    "Second, in `qa.py` (located in `<Application-name>/skills`), update the `NAMESPACE`, `COLLECTION`, and `INDEX` values:\n",
    "\n",
    "```python\n",
    "NAMESPACE = \"Studio\"\n",
    "COLLECTION = \"papers\"\n",
    "INDEX = \"asym-64\"\n",
    "```\n",
    "\n",
    "Replace these with the values you configured in [**1. Setup collections and indexes with PhariaSearch**](../1.%20Enable%20searching%20documents/1.%20Setup%20collections%20and%20indexes%20with%20PhariaSearch.ipynb)."
   ]
  },
  {
   "cell_type": "markdown",
   "metadata": {},
   "source": [
    "In a ```new terminal window``` navigate to the skill directory and set up the environment:"
   ]
  },
  {
   "cell_type": "code",
   "execution_count": null,
   "metadata": {
    "vscode": {
     "languageId": "powershell"
    }
   },
   "outputs": [],
   "source": [
    "cd <your-app-name>/skills"
   ]
  },
  {
   "cell_type": "markdown",
   "metadata": {},
   "source": "Load the environment variables and install dependencies.\n\n**Choose the command for YOUR operating system:**"
  },
  {
   "cell_type": "markdown",
   "execution_count": null,
   "metadata": {
    "vscode": {
     "languageId": "powershell"
    }
   },
   "outputs": [],
   "source": "#### For Linux/macOS:\n```bash\nset -a && source ../.env\n```\n\n#### For Windows PowerShell:\n```powershell\nGet-Content \"../.env\" | ForEach-Object {\n    if ($_ -match '^\\s*([^#][^=]+?)\\s*=\\s*(.*)\\s*$') {\n        $key = $matches[1].Trim()\n        $value = $matches[2].Trim('\"')  # Optional: remove quotes\n        [System.Environment]::SetEnvironmentVariable($key, $value, \"Process\")\n    }\n}\n```"
  },
  {
   "cell_type": "code",
   "execution_count": null,
   "metadata": {
    "vscode": {
     "languageId": "powershell"
    }
   },
   "outputs": [],
   "source": [
    "uv sync --dev"
   ]
  },
  {
   "cell_type": "markdown",
   "metadata": {},
   "source": [
    "### 3.2 Publish the Skill\n",
    "\n",
    "We need now to add the Skill to the Kernel runtime in order to make it available for production use.\n",
    "\n",
    "In your terminal, ensure you are in the Skill folder (for example, enter `cd <your-app-name>/skill`). First, you build the Skill. This process packages your code and dependencies into a container that can be deployed on PhariaKernel:"
   ]
  },
  {
   "cell_type": "code",
   "execution_count": null,
   "metadata": {
    "vscode": {
     "languageId": "powershell"
    }
   },
   "outputs": [],
   "source": "cd <your-app-name>/skill\nuv run pharia-skill build qa"
  },
  {
   "cell_type": "markdown",
   "source": "If you choose to publish immediately (by typing 'y'), you can skip the next publish command. Otherwise, use the publish command shown below:",
   "metadata": {}
  },
  {
   "cell_type": "code",
   "metadata": {},
   "source": "# If you didn't publish during build (chose 'n'), you can publish separately:\nuv run pharia-skill publish qa.wasm --name qa-rag-tutorial --tag latest"
  },
  {
   "cell_type": "markdown",
   "metadata": {},
   "source": [
    "The last step is to configure PhariaKernel to recognise and serve your Skill. Update your ```namespace.toml``` in your OCI registry (ask your PhariaAI Operator for the location of this file) by adding the new Skill entry."
   ]
  },
  {
   "cell_type": "markdown",
   "source": "<div align=\"center\">\n  <img src=\"./images/build_skill_actual.png\" width=\"650\" alt=\"Actual Build Process Output\"><br>\n  <em>Example output when building a Skill</em>\n</div>\n\n<br><br>\n\n<div align=\"center\">\n  <img src=\"./images/publish_skill_actual.png\" width=\"650\" alt=\"Actual Publish Process Output\"><br>\n  <em>Example output when publishing a Skill to the registry</em>\n</div>",
   "metadata": {}
  }
 ],
 "metadata": {
  "kernelspec": {
   "display_name": "Python 3 (ipykernel)",
   "language": "python",
   "name": "python3"
  },
  "language_info": {
   "codemirror_mode": {
    "name": "ipython",
    "version": 3
   },
   "file_extension": ".py",
   "mimetype": "text/x-python",
   "name": "python",
   "nbconvert_exporter": "python",
   "pygments_lexer": "ipython3",
   "version": "3.12.9"
  }
 },
 "nbformat": 4,
 "nbformat_minor": 4
}