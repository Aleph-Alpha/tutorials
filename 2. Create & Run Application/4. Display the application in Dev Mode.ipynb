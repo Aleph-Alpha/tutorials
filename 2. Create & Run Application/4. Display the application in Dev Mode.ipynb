{
 "cells": [
  {
   "cell_type": "markdown",
   "metadata": {},
   "source": [
    "## 4. Display the application in Dev Mode\n",
    "\n",
    "### 4.1 Adjust the routing configuration\n",
    "\n",
    "After publishing your Skill, you need to connect your application's service component to the published Skill. This requires updating the routing configuration in your service component to point to the correct namespace and Skill name.\n",
    "\n",
    "To be able to connect the UI to the Skill you just published, we adjust the `<Application-name>/service/src/service/routes.py` file to point to the correct namespace and skill. In this file, you need to update the following line of code:\n",
    "\n",
    "```python\n",
    "skill = Skill(namespace=\"app\", name=\"qa\")"
   ]
  },
  {
   "cell_type": "markdown",
   "metadata": {},
   "source": [
    "Replace the namespace value with the one provided as part of the onboarding material. As for the Skill name, please use the one defined in the previous step. In our case:"
   ]
  },
  {
   "cell_type": "markdown",
   "metadata": {},
   "source": [
    "```python\n",
    "skill = Skill(namespace=\"<namespace-shared-in-material>\", name=\"qa-rag-tutorial\")\n",
    "```"
   ]
  },
  {
   "cell_type": "markdown",
   "metadata": {},
   "source": [
    "Once the changes are saved, please restart your service component. First, enter Ctrl-C in your terminal to stop the service, and then start it again with this:"
   ]
  },
  {
   "cell_type": "code",
   "execution_count": null,
   "metadata": {
    "vscode": {
     "languageId": "powershell"
    }
   },
   "outputs": [],
   "source": [
    "uv sync --dev\n",
    "uv run dev"
   ]
  },
  {
   "cell_type": "markdown",
   "metadata": {},
   "source": [
    "### 4.2 Enable Dev Mode in PhariaAssistant\n",
    "\n",
    "With your application components set up, Skill published, and routing configured, you can now preview and test your application. The PhariaAI platform provides tools for previewing applications locally before making them available to all users.\n",
    "\n",
    "<div class=\"alert alert-block alert-info\">\n",
    "<b>Note:</b> Before using the `pharia-ai-cli` command below, ensure all necessary environment variables are configured correctly in `<your-app-name>/.env`.\n",
    "</div>\n",
    "\n",
    "To preview your application, run the following command:"
   ]
  },
  {
   "cell_type": "code",
   "execution_count": null,
   "metadata": {
    "vscode": {
     "languageId": "powershell"
    }
   },
   "outputs": [],
   "source": [
    "cd <your-app-name>\n",
    "npx @aleph-alpha/pharia-ai-cli preview"
   ]
  },
  {
   "cell_type": "markdown",
   "metadata": {},
   "source": [
    "This command starts your application in a local development mode and provides a URL that you can add to PhariaAssistant for testing:"
   ]
  },
  {
   "cell_type": "markdown",
   "metadata": {},
   "source": [
    "Copy the preview URL and follow the instructions in [How to use developer mode in PhariaAssistant](https://docs.aleph-alpha.com/products/pharia-ai/pharia-assistant/use-dev-mode/). (You need to add the URL to the Developer Mode Server URL list in PhariaAssistant.)\n",
    "\n",
    "Your application now appears in PhariaAssistant's left sidebar."
   ]
  }
 ],
 "metadata": {
  "kernelspec": {
   "display_name": ".venv",
   "language": "python",
   "name": "python3"
  },
  "language_info": {
   "codemirror_mode": {
    "name": "ipython",
    "version": 3
   },
   "file_extension": ".py",
   "mimetype": "text/x-python",
   "name": "python",
   "nbconvert_exporter": "python",
   "pygments_lexer": "ipython3",
   "version": "3.12.9"
  }
 },
 "nbformat": 4,
 "nbformat_minor": 4
}
