{
 "cells": [
  {
   "cell_type": "markdown",
   "metadata": {},
   "source": [
    "### 4 Enable Dev Mode in PhariaAssistant\n",
    "\n",
    "With your application components set up, Skill published, and routing configured, you can now preview and test your application. The PhariaAI platform provides tools for previewing applications locally before making them available to all users.\n",
    "\n",
    "<div class=\"alert alert-block alert-info\">\n",
    "<b>Note:</b> Before using the `pharia-ai-cli` command below, ensure all necessary environment variables are configured correctly in `<your-app-name>/.env`.\n",
    "</div>\n",
    "\n",
    "To preview your application, run the following command:"
   ]
  },
  {
   "cell_type": "code",
   "execution_count": null,
   "metadata": {
    "vscode": {
     "languageId": "powershell"
    }
   },
   "outputs": [],
   "source": [
    "cd <your-app-name>\n",
    "npx @aleph-alpha/pharia-ai-cli preview"
   ]
  },
  {
   "cell_type": "markdown",
   "metadata": {},
   "source": [
    "This command starts your application in a local development mode and provides a URL that you can add to PhariaAssistant for testing:"
   ]
  },
  {
   "cell_type": "markdown",
   "metadata": {},
   "source": [
    "Copy the preview URL and follow the instructions in [How to use developer mode in PhariaAssistant](https://docs.aleph-alpha.com/products/pharia-ai/pharia-assistant/use-dev-mode/). (You need to add the URL to the Developer Mode Server URL list in PhariaAssistant.)\n",
    "\n",
    "Your application now appears in PhariaAssistant's left sidebar."
   ]
  },
  {
   "cell_type": "markdown",
   "metadata": {},
   "source": [
    "<br><br>\n",
    "\n",
    "<div align=\"center\">\n",
    "  <img src=\"./images/add_appl_to_assistant.png\" width=\"650\" alt=\"Adding application to PhariaAssistant\"><br>\n",
    "  <em>Adding your application URL in PhariaAssistant Developer Mode</em>\n",
    "</div>\n",
    "\n",
    "<br><br>\n",
    "\n",
    "<div align=\"center\">\n",
    "  <img src=\"./images/see_app_in_assistant.png\" width=\"650\" alt=\"Application visible in PhariaAssistant\"><br>\n",
    "  <em>Your application now appears in PhariaAssistant's sidebar</em>\n",
    "</div>"
   ]
  }
 ],
 "metadata": {
  "kernelspec": {
   "display_name": "Python 3 (ipykernel)",
   "language": "python",
   "name": "python3"
  },
  "language_info": {
   "codemirror_mode": {
    "name": "ipython",
    "version": 3
   },
   "file_extension": ".py",
   "mimetype": "text/x-python",
   "name": "python",
   "nbconvert_exporter": "python",
   "pygments_lexer": "ipython3",
   "version": "3.12.9"
  }
 },
 "nbformat": 4,
 "nbformat_minor": 4
}
