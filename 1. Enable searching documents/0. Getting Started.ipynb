{
 "cells": [
  {
   "cell_type": "markdown",
   "metadata": {},
   "source": [
    "# Getting Started - Document Search Setup\n",
    "\n",
    "Welcome to PhariaAI's document search tutorial! This guide will help you set up your environment to enable searching through your own documents using PhariaAI's semantic search capabilities.\n",
    "\n",
    "## What you'll learn\n",
    "\n",
    "This tutorial will show you how to:\n",
    "- Set up a Python environment for document search\n",
    "- Install the required PhariaAI SDK and dependencies\n",
    "- Run interactive examples directly in Jupyter notebooks"
   ]
  },
  {
   "cell_type": "markdown",
   "metadata": {},
   "source": [
    "---"
   ]
  },
  {
   "cell_type": "markdown",
   "metadata": {},
   "source": [
    "## Prerequisites and Setup\n",
    "\n",
    "## Required Software Installation\n",
    "\n",
    "You need to install `uv` (a fast Python package manager) to manage dependencies efficiently.\n",
    "Further we recommend using **Python 3.11 or 3.12** for optimal compatibility with the PhariaAI SDK.\n",
    "\n",
    "### macOS Installation\n",
    "\n",
    "1. **Install Homebrew** (if not already installed): https://docs.brew.sh/Installation\n",
    "\n",
    "2. **Install uv using Homebrew:**\n",
    "   ```bash\n",
    "   brew install uv\n",
    "   ```\n",
    "\n",
    "3. **Install Python 3.11 or 3.12** (if needed):\n",
    "   ```bash\n",
    "   brew install python@3.11\n",
    "   # or\n",
    "   brew install python@3.12\n",
    "   ```\n",
    "\n",
    "### Windows Installation\n",
    "\n",
    "1. **Install uv:** Follow the installation guide at https://docs.astral.sh/uv/getting-started/installation/\n",
    "\n",
    "2. **Install Python 3.11 or 3.12:** Download from https://python.org/downloads/ (ensure you select version 3.11 or 3.12)"
   ]
  },
  {
   "cell_type": "markdown",
   "metadata": {},
   "source": [
    "---"
   ]
  },
  {
   "cell_type": "markdown",
   "metadata": {},
   "source": [
    "## Setting Up Your Environment\n",
    "\n",
    "### 1. Create Virtual Environment with uv\n",
    "\n",
    "Navigate to your project directory and create a virtual environment:\n",
    "\n",
    "```bash\n",
    "uv venv --python 3.11\n",
    "```\n",
    "\n",
    "### 2. Activate the Virtual Environment\n",
    "\n",
    "**On macOS/Linux:**\n",
    "```bash\n",
    "source .venv/bin/activate\n",
    "```\n",
    "\n",
    "**On Windows:**\n",
    "```bash\n",
    ".venv\\Scripts\\activate\n",
    "```\n",
    "\n",
    "### 3. Install Required Dependencies\n",
    "\n",
    "Initialize uv\n",
    "```bash\n",
    "uv init\n",
    "\n",
    "```\n",
    "\n",
    "Install the core packages needed for document search functionality using uv all in one command:\n",
    "\n",
    "```bash\n",
    "uv pip install python-dotenv pharia-data-sdk pandas tenacity pharia_skill==0.19.0 ipywidgets\n",
    "```\n",
    "\n",
    "Install the Jupyter related packages.\n",
    "\n",
    "```bash\n",
    "uv pip install jupyter notebook ipykernel\n",
    "```"
   ]
  },
  {
   "cell_type": "markdown",
   "metadata": {},
   "source": [
    "---"
   ]
  },
  {
   "cell_type": "markdown",
   "metadata": {
    "vscode": {
     "languageId": "plaintext"
    }
   },
   "source": [
    "## Create and populate local .env file\n",
    "\n",
    "The `.env` file stores your environment-specific configuration (API endpoints, credentials, etc.) outside of version control.\n",
    "\n",
    "1. **Copy the environment template**\n",
    "   ```bash\n",
    "   cd \"1. Enable searching documents\"\n",
    "   cp .env.sample .env\n",
    "   ```\n",
    "\n",
    "&nbsp;\n",
    "\n",
    "2. **Fill in the missing values**\n",
    "   \n",
    "   Open `.env` and populate any empty variables. These values couldn't be pre-filled because they're unique to your company's infrastructure (API URLs, authentication tokens, service endpoints). Contact your administrator to obtain the correct values for your organization's PhariaAI setup.\n"
   ]
  },
  {
   "cell_type": "markdown",
   "metadata": {},
   "source": [
    "---"
   ]
  },
  {
   "cell_type": "markdown",
   "metadata": {},
   "source": [
    "## Running the Tutorial\n",
    "\n",
    "### Interactive Jupyter Experience\n",
    "\n",
    "All interactions in this tutorial can be executed directly within the Jupyter notebooks provided. \n",
    "\n",
    "Simply:\n",
    "\n",
    "1. Execute in terminal \n",
    "\n",
    "```bash\n",
    "uv run jupyter notebook\n",
    "``` \n",
    "to start the Jupyter notebook\n",
    "2. **Run each code section** sequentially \n",
    "3. **Follow along** with the examples and explanations\n",
    "\n",
    "No additional setup is required - the notebooks are designed to be self-contained and interactive.\n",
    "\n",
    ">**Note:**  You can also execute the Jupyter notebook in your favorite environment (Jupyter Lab, VS Code, etc.) (and not via `uv run jupyter notebook` command as above). Make sure that the jupyter notebooks also use the venv to run if you choose to run it like this."
   ]
  },
  {
   "cell_type": "markdown",
   "metadata": {},
   "source": [
    "---\n"
   ]
  },
  {
   "cell_type": "markdown",
   "metadata": {
    "vscode": {
     "languageId": "plaintext"
    }
   },
   "source": [
    "## Validate environment configuration\n",
    "\n",
    "Before proceeding, let's ensure your `.env` file is properly configured. Run the following code to validate:\n",
    "- All required environment variables are set\n",
    "- URLs are properly formatted\n",
    "- Authentication token provides valid access to PhariaAI services\n"
   ]
  },
  {
   "cell_type": "code",
   "execution_count": null,
   "metadata": {},
   "outputs": [],
   "source": [
    "from validation_utils import validate_environment\n",
    "\n",
    "# Run validation\n",
    "validate_environment()"
   ]
  }
 ],
 "metadata": {
  "kernelspec": {
   "display_name": ".venv",
   "language": "python",
   "name": "python3"
  },
  "language_info": {
   "codemirror_mode": {
    "name": "ipython",
    "version": 3
   },
   "file_extension": ".py",
   "mimetype": "text/x-python",
   "name": "python",
   "nbconvert_exporter": "python",
   "pygments_lexer": "ipython3",
   "version": "3.11.11"
  }
 },
 "nbformat": 4,
 "nbformat_minor": 4
}
