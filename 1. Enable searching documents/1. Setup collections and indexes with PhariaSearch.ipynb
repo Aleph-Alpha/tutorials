{
 "cells": [
  {
   "cell_type": "markdown",
   "metadata": {},
   "source": [
    "# Setup collections and indexes with PhariaSearch\n",
    "\n",
    "While large language models come equipped with extensive built-in knowledge, answering questions given a known text may not be sufficient for your use case. At some point, you will probably want to search through, or answer questions about, your own knowledge base.\n",
    "\n",
    "You can leverage Aleph Alpha's PhariaSearch (previously known as DocumentIndex) – a robust semantic search tool – to pinpoint sections in documents that align closely with your query.\n",
    "\n",
    "In this tutorial, we will go through the creation of Collections and Index configurations, and the upload of text directly to PhariaSearch."
   ]
  },
  {
   "cell_type": "markdown",
   "metadata": {},
   "source": [
    "## Environment Validation\n",
    "\n",
    "⚠️ **CRITICAL: Validate your environment before proceeding**\n",
    "\n",
    "This step ensures your `.env` file is properly configured with valid API endpoints, authentication tokens, and unique resource names.\n",
    "\n",
    "**DO NOT SKIP!** If validation fails:\n",
    "- Check your `.env` file for missing values\n",
    "- Contact your infrastructure administrator if errors persist\n",
    "\n",
    "Only proceed after ALL checks pass."
   ]
  },
  {
   "cell_type": "code",
   "execution_count": 220,
   "metadata": {},
   "outputs": [
    {
     "name": "stdout",
     "output_type": "stream",
     "text": [
      "🔍 Validating environment configuration...\n",
      "\n",
      "1️⃣  Checking required environment variables:\n",
      "   ✅ PHARIA_API_BASE_URL: https://api.customer.pharia.com\n",
      "   ✅ PHARIA_AI_TOKEN: eyJhbGci...\n",
      "   ✅ PHARIA_DATA_NAMESPACE: Studio\n",
      "   ✅ PHARIA_DATA_COLLECTION: pharia-tutorial-rag-vsp-1\n",
      "   ✅ INDEX: rag-tutorial-index-1\n",
      "   ✅ HYBRID_INDEX: rag-tutorial-hybrid-index-vsp-1\n",
      "   ✅ FILTER_INDEX: rag-tutorial-filter-index-vsp-1\n",
      "   ✅ EMBEDDING_MODEL_NAME: luminous-base\n",
      "\n",
      "2️⃣  Validating URL format:\n",
      "   ✅ PHARIA_API_BASE_URL: Valid format\n",
      "\n",
      "3️⃣  Testing PhariaAI API access:\n",
      "   ✅ API connection successful\n",
      "\n",
      "==================================================\n",
      "✅ All validation checks passed! Your environment is properly configured.\n",
      "\n",
      "You can now proceed with the tutorial.\n"
     ]
    },
    {
     "data": {
      "text/plain": [
       "True"
      ]
     },
     "execution_count": 220,
     "metadata": {},
     "output_type": "execute_result"
    }
   ],
   "source": [
    "from validation_utils import validate_environment\n",
    "\n",
    "# Run environment validation\n",
    "validate_environment()\n",
    "\n",
    "# If validation fails, DO NOT proceed with the rest of the tutorial\n",
    "# Fix the issues identified above first!"
   ]
  },
  {
   "cell_type": "markdown",
   "metadata": {},
   "source": [
    "### Load Environment Variables\n",
    "\n",
    "  Now we'll load all the configuration parameters from your `.env` file. These include API endpoints, authentication tokens, and the names of resources\n",
    "  we'll create in PhariaSearch."
   ]
  },
  {
   "cell_type": "code",
   "execution_count": 221,
   "metadata": {},
   "source": [
    "## Environment Validation\n",
    "\n",
    "⚠️ **CRITICAL: Validate your environment before proceeding**\n",
    "\n",
    "This step ensures your `.env` file is properly configured with valid API endpoints, authentication tokens, and unique resource names.\n",
    "\n",
    "**DO NOT SKIP!** If validation fails:\n",
    "- Check your `.env` file for missing values\n",
    "- Contact your infrastructure administrator if errors persist\n",
    "\n",
    "Only proceed after ALL checks pass."
   ]
  },
  {
   "cell_type": "code",
   "execution_count": 86,
   "metadata": {},
   "outputs": [
    {
     "name": "stdout",
     "output_type": "stream",
     "text": [
      "🔍 Validating environment configuration...\n",
      "\n",
      "1️⃣  Checking required environment variables:\n",
      "   ✅ PHARIA_API_BASE_URL: https://api.customer.pharia.com\n",
      "   ✅ PHARIA_AI_TOKEN: eyJhbGci...\n",
      "   ✅ PHARIA_DATA_NAMESPACE: Studio\n",
      "   ✅ PHARIA_DATA_COLLECTION: pharia-tutorial-rag-vsp-1\n",
      "   ✅ INDEX: rag-tutorial-index-1\n",
      "   ✅ HYBRID_INDEX: rag-tutorial-hybrid-index-vsp-1\n",
      "   ✅ FILTER_INDEX: rag-tutorial-filter-index-vsp-1\n",
      "   ✅ EMBEDDING_MODEL_NAME: luminous-base\n",
      "\n",
      "2️⃣  Validating URL format:\n",
      "   ✅ PHARIA_API_BASE_URL: Valid format\n",
      "\n",
      "3️⃣  Testing PhariaAI API access:\n",
      "   ✅ API connection successful\n",
      "\n",
      "==================================================\n",
      "✅ All validation checks passed! Your environment is properly configured.\n",
      "\n",
      "You can now proceed with the tutorial.\n"
     ]
    },
    {
     "data": {
      "text/plain": [
       "True"
      ]
     },
     "execution_count": 86,
     "metadata": {},
     "output_type": "execute_result"
    }
   ],
   "source": [
    "from validation_utils import validate_environment\n",
    "\n",
    "# Run environment validation\n",
    "validate_environment()\n",
    "\n",
    "# If validation fails, DO NOT proceed with the rest of the tutorial\n",
    "# Fix the issues identified above first!"
   ]
  },
  {
   "cell_type": "markdown",
   "metadata": {},
   "source": [
    "### Load Environment Variables\n",
    "\n",
    "  Now we'll load all the configuration parameters from your `.env` file. These include API endpoints, authentication tokens, and the names of resources\n",
    "  we'll create in PhariaSearch."
   ]
  },
  {
   "cell_type": "code",
   "execution_count": 87,
   "metadata": {},
   "outputs": [
    {
     "name": "stdout",
     "output_type": "stream",
     "text": [
      "\n",
      "\n",
      "\u001b[92m✅ SUCCESS: Environment variables loaded\u001b[0m\n",
      "   • Namespace: Studio\n",
      "   • Collection: pharia-tutorial-rag-vsp-1\n",
      "   • API Base URL: https://api.customer.pharia.com\n",
      "\n",
      "\n"
     ]
    }
   ],
   "source": [
    "from os import getenv\n",
    "from dotenv import load_dotenv\n",
    "\n",
    "load_dotenv(override=True)\n",
    "\n",
    "# Please make sure to include the /v1 in the api base url\n",
    "PHARIA_API_BASE_URL = getenv(\"PHARIA_API_BASE_URL\")\n",
    "PHARIA_SEARCH_API_URL = f\"{PHARIA_API_BASE_URL}/v1/studio/search\"\n",
    "TOKEN = getenv(\"PHARIA_AI_TOKEN\")\n",
    "\n",
    "NAMESPACE = getenv(\"PHARIA_DATA_NAMESPACE\")\n",
    "COLLECTION = getenv(\"PHARIA_DATA_COLLECTION\")\n",
    "INDEX = getenv(\"INDEX\")\n",
    "HYBRID_INDEX = getenv(\"HYBRID_INDEX\")\n",
    "FILTER_INDEX = getenv(\"FILTER_INDEX\")\n",
    "\n",
    "EMBEDDING_MODEL_NAME = getenv(\"EMBEDDING_MODEL_NAME\")\n",
    "\n",
    "print(\"\\n\")\n",
    "print(\"\\033[92m✅ SUCCESS: Environment variables loaded\\033[0m\")\n",
    "print(f\"   • Namespace: {NAMESPACE}\")\n",
    "print(f\"   • Collection: {COLLECTION}\")\n",
    "print(f\"   • API Base URL: {PHARIA_API_BASE_URL}\")\n",
    "print(\"\\n\")"
   ]
  },
  {
   "cell_type": "markdown",
   "metadata": {},
   "source": [
    "## 1. Setup a Search Client with Pharia Data SDK\n",
    "\n",
    "To search through PhariaSearch, you'll first need to setup the Search Client using the environment variables we specified at the beginning of the notebook."
   ]
  },
  {
   "cell_type": "code",
   "execution_count": 224,
   "metadata": {},
   "outputs": [
    {
     "name": "stdout",
     "output_type": "stream",
     "text": [
      "\n",
      "\n",
      "\u001b[92m✅ SUCCESS: Search client created\u001b[0m\n",
      "   • Server URL: https://api.customer.pharia.com/v1/studio/search/\n",
      "\n",
      "\n"
     ]
    }
   ],
   "source": [
    "from pharia_data_sdk.connectors import DocumentIndexClient\n",
    "\n",
    "search_client = DocumentIndexClient(\n",
    "    token=TOKEN,\n",
    "    base_url=PHARIA_SEARCH_API_URL,\n",
    ")\n",
    "\n",
    "print(\"\\n\")\n",
    "try:\n",
    "    print(f\"\\033[92m✅ SUCCESS: Search client created\\033[0m\")\n",
    "    print(f\"   • Server URL: {search_client._base_url}\")\n",
    "except AttributeError:\n",
    "    print(\"\\033[92m✅ SUCCESS: Search client created\\033[0m\")\n",
    "print(\"\\n\")"
   ]
  },
  {
   "cell_type": "markdown",
   "metadata": {},
   "source": [
    "## 2. Create a collection\n",
    "The collection is the place where our searchable content will be stored. The following code will user the Pharia Data SDK to create a new collection with the specified details."
   ]
  },
  {
   "cell_type": "code",
   "execution_count": 225,
   "metadata": {},
   "outputs": [
    {
     "name": "stdout",
     "output_type": "stream",
     "text": [
      "\n",
      "\n",
      "\u001b[92m✅ SUCCESS: Collection created/retrieved\u001b[0m\n",
      "   • Collection: pharia-tutorial-rag-vsp-1\n",
      "   • Namespace: Studio\n",
      "\n",
      "\n"
     ]
    }
   ],
   "source": [
    "from pharia_data_sdk.connectors.document_index.document_index import CollectionPath\n",
    "\n",
    "collection_path = CollectionPath(namespace=NAMESPACE, collection=COLLECTION)\n",
    "\n",
    "search_client.create_collection(collection_path)\n",
    "\n",
    "print(\"\\n\")\n",
    "print(\"\\033[92m✅ SUCCESS: Collection created/retrieved\\033[0m\")\n",
    "print(f\"   • Collection: {COLLECTION}\")\n",
    "print(f\"   • Namespace: {NAMESPACE}\")\n",
    "print(\"\\n\")"
   ]
  },
  {
   "cell_type": "markdown",
   "metadata": {},
   "source": [
    "## 3. Create a semantic index configuration\n",
    "\n",
    "Now, let's create an index and assign it to this collection. You can do this before or after populating the collection with documents; PhariaSearch automatically updates semantic indexes in the background.\n",
    "In this tutorial we use `pharia-1-embedding-256-control` embedding model. If this model is not available in the environment, please, replace the name with the one that is available (e.g. `luminous-base`)."
   ]
  },
  {
   "cell_type": "code",
   "execution_count": 227,
   "metadata": {},
   "outputs": [
    {
     "name": "stdout",
     "output_type": "stream",
     "text": [
      "\n",
      "\n",
      "\u001b[92m✅ SUCCESS: Semantic index created\u001b[0m\n",
      "   • Index: rag-tutorial-index-1\n",
      "   • Model: luminous-base\n",
      "\n",
      "\n",
      "\u001b[92m✅ SUCCESS: Index assigned to collection\u001b[0m\n",
      "   • Collection: pharia-tutorial-rag-vsp-1\n",
      "\n",
      "\n"
     ]
    }
   ],
   "source": [
    "from pharia_data_sdk.connectors.document_index.document_index import (\n",
    "    IndexConfiguration,\n",
    "    IndexPath,\n",
    "    SemanticEmbed,\n",
    ")\n",
    "\n",
    "index_path = IndexPath(namespace=NAMESPACE, index=INDEX)\n",
    "\n",
    "# customise the parameters of the index here\n",
    "index_configuration = IndexConfiguration(\n",
    "    chunk_size=64,\n",
    "    chunk_overlap=0,\n",
    "    embedding=SemanticEmbed(model_name=EMBEDDING_MODEL_NAME, representation=\"asymmetric\"),\n",
    ")\n",
    "\n",
    "search_client.create_index(index_path, index_configuration)\n",
    "\n",
    "print(\"\\n\")\n",
    "print(\"\\033[92m✅ SUCCESS: Semantic index created\\033[0m\")\n",
    "print(f\"   • Index: {INDEX}\")\n",
    "print(f\"   • Model: {EMBEDDING_MODEL_NAME}\")\n",
    "print(\"\\n\")\n",
    "\n",
    "# assign the index to the collection\n",
    "search_client.assign_index_to_collection(collection_path, INDEX)\n",
    "\n",
    "print(\"\\033[92m✅ SUCCESS: Index assigned to collection\\033[0m\")\n",
    "print(f\"   • Collection: {COLLECTION}\")\n",
    "print(\"\\n\")"
   ]
  },
  {
   "cell_type": "markdown",
   "metadata": {},
   "source": [
    "## 4. Upload some text to the collection\n",
    "\n",
    "Now that we have our collection set up, we need to populate it with content that can be searched. Let's create three text objects that will serve as our sample knowledge base. These documents will demonstrate how PhariaSearch can identify relevant information across different types of content.\n",
    "\n",
    "We'll add biographical information about notable figures to showcase the semantic search capabilities. The document content is defined in `sample_documents.py` file, outside of the notebook and imported below.\n",
    "\n",
    "We'll upload each document to our collection. The SDK will automatically handle the document storage and prepare them for indexing."
   ]
  },
  {
   "cell_type": "code",
   "execution_count": 228,
   "metadata": {},
   "outputs": [
    {
     "name": "stdout",
     "output_type": "stream",
     "text": [
      "\n",
      "\n",
      "\u001b[93m⚙️  PROCESSING: Uploading documents to collection\u001b[0m\n",
      "\n",
      "\n",
      "   ✓ Document 'robert_moses' uploaded\n",
      "   ✓ Document 'jane_jacobs' uploaded\n",
      "   ✓ Document 'nelson_rockefeller' uploaded\n",
      "\n",
      "\n",
      "\u001b[92m✅ SUCCESS: All 3 documents uploaded\u001b[0m\n",
      "\n",
      "\n"
     ]
    }
   ],
   "source": [
    "from pharia_data_sdk.connectors.document_index.document_index import (\n",
    "    DocumentContents,\n",
    "    DocumentPath,\n",
    ")\n",
    "\n",
    "from sample_documents import documents\n",
    "\n",
    "print(\"\\n\")\n",
    "print(\"\\033[93m⚙️  PROCESSING: Uploading documents to collection\\033[0m\")\n",
    "print(\"\\n\")\n",
    "\n",
    "for doc in documents:\n",
    "    document_path = DocumentPath(\n",
    "        collection_path=collection_path, document_name=doc[\"name\"]\n",
    "    )\n",
    "    search_client.add_document(\n",
    "        document_path, contents=DocumentContents.from_text(doc[\"content\"])\n",
    "    )\n",
    "    print(f\"   ✓ Document '{doc['name']}' uploaded\")\n",
    "\n",
    "print(\"\\n\")\n",
    "print(f\"\\033[92m✅ SUCCESS: All {len(documents)} documents uploaded\\033[0m\")\n",
    "print(\"\\n\")"
   ]
  },
  {
   "cell_type": "markdown",
   "metadata": {},
   "source": [
    "  ### Verify Documents in Collection\n",
    "\n",
    "  Let's verify that our documents have been successfully uploaded to the collection:"
   ]
  },
  {
   "cell_type": "code",
   "execution_count": 229,
   "metadata": {},
   "outputs": [
    {
     "data": {
      "text/plain": [
       "[DocumentInfo(document_path=DocumentPath(collection_path=CollectionPath(namespace='Studio', collection='pharia-tutorial-rag-vsp-1'), document_name='nelson_rockefeller'), created=datetime.datetime(2025, 9, 7, 9, 38, 25, 932990), version=5),\n",
       " DocumentInfo(document_path=DocumentPath(collection_path=CollectionPath(namespace='Studio', collection='pharia-tutorial-rag-vsp-1'), document_name='jane_jacobs'), created=datetime.datetime(2025, 9, 7, 9, 38, 25, 785678), version=5),\n",
       " DocumentInfo(document_path=DocumentPath(collection_path=CollectionPath(namespace='Studio', collection='pharia-tutorial-rag-vsp-1'), document_name='robert_moses'), created=datetime.datetime(2025, 9, 7, 9, 38, 25, 628045), version=5),\n",
       " DocumentInfo(document_path=DocumentPath(collection_path=CollectionPath(namespace='Studio', collection='pharia-tutorial-rag-vsp-1'), document_name='7503bf30-1098-486a-bc9d-770e7d1c458d'), created=datetime.datetime(2025, 9, 7, 9, 35, 45, 213407), version=1),\n",
       " DocumentInfo(document_path=DocumentPath(collection_path=CollectionPath(namespace='Studio', collection='pharia-tutorial-rag-vsp-1'), document_name='772194d8-cbc2-4b5b-8279-53a3a78ce6f9'), created=datetime.datetime(2025, 9, 7, 9, 35, 41, 259203), version=1),\n",
       " DocumentInfo(document_path=DocumentPath(collection_path=CollectionPath(namespace='Studio', collection='pharia-tutorial-rag-vsp-1'), document_name='15c4a9b6-71e9-45c4-a648-69f24955aa76'), created=datetime.datetime(2025, 9, 7, 9, 35, 38, 272887), version=1),\n",
       " DocumentInfo(document_path=DocumentPath(collection_path=CollectionPath(namespace='Studio', collection='pharia-tutorial-rag-vsp-1'), document_name='ff94ed2a-2bf7-4081-8df0-cfd0703bfe33'), created=datetime.datetime(2025, 9, 7, 9, 35, 33, 35044), version=1),\n",
       " DocumentInfo(document_path=DocumentPath(collection_path=CollectionPath(namespace='Studio', collection='pharia-tutorial-rag-vsp-1'), document_name='54cd1358-efaf-4b4d-bc61-0cf7de05a07d'), created=datetime.datetime(2025, 9, 7, 9, 35, 16, 607060), version=1),\n",
       " DocumentInfo(document_path=DocumentPath(collection_path=CollectionPath(namespace='Studio', collection='pharia-tutorial-rag-vsp-1'), document_name='3f162a75-5a31-469d-be60-eb47506f8085'), created=datetime.datetime(2025, 9, 7, 9, 35, 11, 954885), version=1),\n",
       " DocumentInfo(document_path=DocumentPath(collection_path=CollectionPath(namespace='Studio', collection='pharia-tutorial-rag-vsp-1'), document_name='4e935527-1e14-40af-b9fa-692cfe624db2'), created=datetime.datetime(2025, 9, 7, 9, 35, 3, 68718), version=1),\n",
       " DocumentInfo(document_path=DocumentPath(collection_path=CollectionPath(namespace='Studio', collection='pharia-tutorial-rag-vsp-1'), document_name='9c89d6c8-ac58-435f-97c7-10a318e1b87c'), created=datetime.datetime(2025, 9, 7, 9, 34, 59, 230888), version=1),\n",
       " DocumentInfo(document_path=DocumentPath(collection_path=CollectionPath(namespace='Studio', collection='pharia-tutorial-rag-vsp-1'), document_name='5faeb490-762d-403a-b72c-c1c61a115738'), created=datetime.datetime(2025, 9, 7, 9, 20, 45, 838893), version=1),\n",
       " DocumentInfo(document_path=DocumentPath(collection_path=CollectionPath(namespace='Studio', collection='pharia-tutorial-rag-vsp-1'), document_name='59a9bab5-4d73-44ce-bb63-5d0ddafb89d3'), created=datetime.datetime(2025, 9, 7, 9, 20, 42, 114110), version=1),\n",
       " DocumentInfo(document_path=DocumentPath(collection_path=CollectionPath(namespace='Studio', collection='pharia-tutorial-rag-vsp-1'), document_name='c288ffe3-1940-4acc-92dc-442aabfc8aeb'), created=datetime.datetime(2025, 9, 7, 9, 20, 32, 582058), version=1),\n",
       " DocumentInfo(document_path=DocumentPath(collection_path=CollectionPath(namespace='Studio', collection='pharia-tutorial-rag-vsp-1'), document_name='d188a8f5-b118-45e3-b4d6-f2ea04ced4ba'), created=datetime.datetime(2025, 9, 7, 9, 20, 28, 848282), version=1),\n",
       " DocumentInfo(document_path=DocumentPath(collection_path=CollectionPath(namespace='Studio', collection='pharia-tutorial-rag-vsp-1'), document_name='e3d95d3d-232b-4eb9-b08e-fa0106cbd7b2'), created=datetime.datetime(2025, 9, 7, 9, 13, 26, 746176), version=1),\n",
       " DocumentInfo(document_path=DocumentPath(collection_path=CollectionPath(namespace='Studio', collection='pharia-tutorial-rag-vsp-1'), document_name='2f6227af-a302-4c09-8b7c-f4578c8923f3'), created=datetime.datetime(2025, 9, 7, 9, 13, 24, 167959), version=1),\n",
       " DocumentInfo(document_path=DocumentPath(collection_path=CollectionPath(namespace='Studio', collection='pharia-tutorial-rag-vsp-1'), document_name='eb7df59d-5728-495d-af94-f4a255a46369'), created=datetime.datetime(2025, 9, 7, 9, 13, 13, 457914), version=1),\n",
       " DocumentInfo(document_path=DocumentPath(collection_path=CollectionPath(namespace='Studio', collection='pharia-tutorial-rag-vsp-1'), document_name='f9dac3d9-e999-4bd5-9e9a-31d25e2860e9'), created=datetime.datetime(2025, 9, 7, 9, 13, 8, 159069), version=1),\n",
       " DocumentInfo(document_path=DocumentPath(collection_path=CollectionPath(namespace='Studio', collection='pharia-tutorial-rag-vsp-1'), document_name='624570db-6ca5-430d-9768-1d245d844d48'), created=datetime.datetime(2025, 9, 5, 16, 32, 23, 285909), version=1),\n",
       " DocumentInfo(document_path=DocumentPath(collection_path=CollectionPath(namespace='Studio', collection='pharia-tutorial-rag-vsp-1'), document_name='c91f247a-8555-4f86-917c-df546e4530a2'), created=datetime.datetime(2025, 9, 5, 16, 32, 18, 291383), version=1),\n",
       " DocumentInfo(document_path=DocumentPath(collection_path=CollectionPath(namespace='Studio', collection='pharia-tutorial-rag-vsp-1'), document_name='4c2735c0-28b3-4e38-be43-a622f66fd4ae'), created=datetime.datetime(2025, 9, 5, 16, 32, 10, 292767), version=1),\n",
       " DocumentInfo(document_path=DocumentPath(collection_path=CollectionPath(namespace='Studio', collection='pharia-tutorial-rag-vsp-1'), document_name='f6de9665-8346-4bfe-a93e-3f8dcfec50a5'), created=datetime.datetime(2025, 9, 5, 16, 32, 6, 63525), version=1),\n",
       " DocumentInfo(document_path=DocumentPath(collection_path=CollectionPath(namespace='Studio', collection='pharia-tutorial-rag-vsp-1'), document_name='6ef5830b-69fa-4206-915b-4b6933548d3b'), created=datetime.datetime(2025, 9, 5, 16, 32, 2, 888946), version=1),\n",
       " DocumentInfo(document_path=DocumentPath(collection_path=CollectionPath(namespace='Studio', collection='pharia-tutorial-rag-vsp-1'), document_name='e85c6f06-1727-462d-977d-78b7a9311d6a'), created=datetime.datetime(2025, 9, 5, 16, 31, 54, 240606), version=1),\n",
       " DocumentInfo(document_path=DocumentPath(collection_path=CollectionPath(namespace='Studio', collection='pharia-tutorial-rag-vsp-1'), document_name='4043f8f3-9d1a-4df2-9fb1-cc5daa0336b1'), created=datetime.datetime(2025, 9, 5, 16, 31, 48, 370890), version=1),\n",
       " DocumentInfo(document_path=DocumentPath(collection_path=CollectionPath(namespace='Studio', collection='pharia-tutorial-rag-vsp-1'), document_name='265e02bf-2266-46ed-b96c-f5810d5c542a'), created=datetime.datetime(2025, 9, 5, 16, 31, 39, 181317), version=1),\n",
       " DocumentInfo(document_path=DocumentPath(collection_path=CollectionPath(namespace='Studio', collection='pharia-tutorial-rag-vsp-1'), document_name='7de91fde-1f52-4624-b128-601607c7b6e5'), created=datetime.datetime(2025, 9, 5, 16, 31, 33, 175814), version=1),\n",
       " DocumentInfo(document_path=DocumentPath(collection_path=CollectionPath(namespace='Studio', collection='pharia-tutorial-rag-vsp-1'), document_name='77d835d4-bc34-4829-aa4d-27b8855c124c'), created=datetime.datetime(2025, 9, 5, 16, 31, 31, 780495), version=1),\n",
       " DocumentInfo(document_path=DocumentPath(collection_path=CollectionPath(namespace='Studio', collection='pharia-tutorial-rag-vsp-1'), document_name='1b114f15-35ed-4985-b95a-bc225c4777e0'), created=datetime.datetime(2025, 9, 5, 16, 31, 18, 3317), version=1),\n",
       " DocumentInfo(document_path=DocumentPath(collection_path=CollectionPath(namespace='Studio', collection='pharia-tutorial-rag-vsp-1'), document_name='38590fdc-2f29-43f2-bbed-27631330a015'), created=datetime.datetime(2025, 9, 5, 16, 31, 14, 639675), version=1),\n",
       " DocumentInfo(document_path=DocumentPath(collection_path=CollectionPath(namespace='Studio', collection='pharia-tutorial-rag-vsp-1'), document_name='674b66d7-ac82-4669-8141-126788a2e812'), created=datetime.datetime(2025, 9, 5, 16, 29, 41, 804473), version=1),\n",
       " DocumentInfo(document_path=DocumentPath(collection_path=CollectionPath(namespace='Studio', collection='pharia-tutorial-rag-vsp-1'), document_name='ad02e564-bfd4-4f1e-8742-22b6ddf50eb2'), created=datetime.datetime(2025, 9, 5, 16, 29, 41, 254085), version=1),\n",
       " DocumentInfo(document_path=DocumentPath(collection_path=CollectionPath(namespace='Studio', collection='pharia-tutorial-rag-vsp-1'), document_name='101ff85d-743e-49a8-b3e0-a81ed40a39bf'), created=datetime.datetime(2025, 9, 5, 16, 29, 28, 974623), version=1),\n",
       " DocumentInfo(document_path=DocumentPath(collection_path=CollectionPath(namespace='Studio', collection='pharia-tutorial-rag-vsp-1'), document_name='596a6f47-e44d-492e-a735-41af5654cf53'), created=datetime.datetime(2025, 9, 5, 16, 29, 24, 64717), version=1)]"
      ]
     },
     "execution_count": 229,
     "metadata": {},
     "output_type": "execute_result"
    }
   ],
   "source": [
    "search_client.documents(collection_path)"
   ]
  },
  {
   "cell_type": "markdown",
   "metadata": {},
   "source": [
    "Once the text is indexed, we can also have a look at its chunks:"
   ]
  },
  {
   "cell_type": "code",
   "execution_count": 230,
   "metadata": {},
   "outputs": [
    {
     "name": "stdout",
     "output_type": "stream",
     "text": [
      "\n",
      "\n",
      "\u001b[94mℹ️  INFO: Checking document chunks (if indexed)\u001b[0m\n",
      "\n",
      "\n",
      "\u001b[92m✅ SUCCESS: Found 66 chunks for document 'robert_moses'\u001b[0m\n",
      "[DocumentChunk(document_path=DocumentPath(collection_path=CollectionPath(namespace='Studio', collection='pharia-tutorial-rag-vsp-1'), document_name='robert_moses'), section=\"Robert Moses''' (December 18, 1888 – July 29, 1981) was an American [[urban planner]] and public official who worked in the [[New York metropolitan area]] during the early to mid 20th century.\", position=DocumentTextPosition(item=0, start_position=0, end_position=191)), DocumentChunk(document_path=DocumentPath(collection_path=CollectionPath(namespace='Studio', collection='pharia-tutorial-rag-vsp-1'), document_name='robert_moses'), section='Despite never being elected to any office, Moses is regarded as one of the most powerful and influential individuals in the history of New York City and New York State.', position=DocumentTextPosition(item=0, start_position=193, end_position=360)), DocumentChunk(document_path=DocumentPath(collection_path=CollectionPath(namespace='Studio', collection='pharia-tutorial-rag-vsp-1'), document_name='robert_moses'), section='The grand scale of his infrastructural projects and his philosophy of urban development influenced a generation of engineers, architects, and urban planners across the United States.<ref name=\":0\" />', position=DocumentTextPosition(item=0, start_position=362, end_position=560)), DocumentChunk(document_path=DocumentPath(collection_path=CollectionPath(namespace='Studio', collection='pharia-tutorial-rag-vsp-1'), document_name='robert_moses'), section='Moses held various positions throughout his more than forty-year long career.', position=DocumentTextPosition(item=0, start_position=563, end_position=639)), DocumentChunk(document_path=DocumentPath(collection_path=CollectionPath(namespace='Studio', collection='pharia-tutorial-rag-vsp-1'), document_name='robert_moses'), section='He at times held up to 12 titles simultaneously, including [[New York City Parks Commissioner]] and chairman of the [[Long Island State Park Commission]].<ref>{{Cite web|url=https://www.pbs.org/wnet/need-to-know/environment/the-legacy-', position=DocumentTextPosition(item=0, start_position=641, end_position=875)), DocumentChunk(document_path=DocumentPath(collection_path=CollectionPath(namespace='Studio', collection='pharia-tutorial-rag-vsp-1'), document_name='robert_moses'), section='of-robert-moses/16018/|title=The legacy of Robert Moses|last=Sarachan|first=Sydney|date=January 17, 2013|website=Need to Know {{!}}', position=DocumentTextPosition(item=0, start_position=876, end_position=1006)), DocumentChunk(document_path=DocumentPath(collection_path=CollectionPath(namespace='Studio', collection='pharia-tutorial-rag-vsp-1'), document_name='robert_moses'), section='PBS|language=en-US|access-date=December 3, 2019}}</ref> Having worked closely with New York governor [[Al Smith]] early in his career, Moses became expert in writing laws and navigating and manipulating the inner workings of state government.', position=DocumentTextPosition(item=0, start_position=1008, end_position=1249)), DocumentChunk(document_path=DocumentPath(collection_path=CollectionPath(namespace='Studio', collection='pharia-tutorial-rag-vsp-1'), document_name='robert_moses'), section='He created and led numerous semi-autonomous [[Public authority|public authorities]], through which he controlled millions of dollars in revenue and directly issued [[Bond (finance)|bonds]] to fund new ventures with little outside input or oversight.', position=DocumentTextPosition(item=0, start_position=1251, end_position=1499)), DocumentChunk(document_path=DocumentPath(collection_path=CollectionPath(namespace='Studio', collection='pharia-tutorial-rag-vsp-1'), document_name='robert_moses'), section=\"Moses's projects transformed the New York area and revolutionized the way cities in the U.S. were designed and built.\", position=DocumentTextPosition(item=0, start_position=1502, end_position=1618)), DocumentChunk(document_path=DocumentPath(collection_path=CollectionPath(namespace='Studio', collection='pharia-tutorial-rag-vsp-1'), document_name='robert_moses'), section='As Long Island State Park Commissioner, Moses oversaw the construction of [[Jones Beach State Park]], the most visited public beach in the United States,<ref name=\"Jones Beach\">{{cite news |url=http://www.longislandexchange.com/jones-beach.html |website=Long Island Exchange', position=DocumentTextPosition(item=0, start_position=1620, end_position=1893)), DocumentChunk(document_path=DocumentPath(collection_path=CollectionPath(namespace='Studio', collection='pharia-tutorial-rag-vsp-1'), document_name='robert_moses'), section='|title=Jones Beach |access-date=November 21, 2012 |archive-url=https://web.archive.org/web/20130121130008/http://www.longislandexchange.com/jones-beach.html |archive-date=January 21, 2013 |url-', position=DocumentTextPosition(item=0, start_position=1895, end_position=2087)), DocumentChunk(document_path=DocumentPath(collection_path=CollectionPath(namespace='Studio', collection='pharia-tutorial-rag-vsp-1'), document_name='robert_moses'), section='status=dead }}</ref> and was the primary architect of the [[Parkways in New York|New York State Parkway System]].', position=DocumentTextPosition(item=0, start_position=2088, end_position=2200)), DocumentChunk(document_path=DocumentPath(collection_path=CollectionPath(namespace='Studio', collection='pharia-tutorial-rag-vsp-1'), document_name='robert_moses'), section='As head of the [[MTA Bridges and Tunnels|Triborough Bridge Authority]], Moses had near-complete control over bridges and tunnels in New York City as well as the tolls collected from them, and built, among others, the [[Robert F.', position=DocumentTextPosition(item=0, start_position=2202, end_position=2429)), DocumentChunk(document_path=DocumentPath(collection_path=CollectionPath(namespace='Studio', collection='pharia-tutorial-rag-vsp-1'), document_name='robert_moses'), section='Kennedy Bridge|Triborough Bridge]], the [[Brooklyn–Battery Tunnel]], and the [[Throgs Neck Bridge]], as well as several major highways.', position=DocumentTextPosition(item=0, start_position=2431, end_position=2565)), DocumentChunk(document_path=DocumentPath(collection_path=CollectionPath(namespace='Studio', collection='pharia-tutorial-rag-vsp-1'), document_name='robert_moses'), section='These roadways and bridges, alongside [[urban renewal]] efforts that saw the destruction of huge swaths of tenement housing and their replacement with large [[New York City Housing Authority|public housing projects]], transformed the physical fabric of New York and inspired other cities to undertake similar development endeavors.', position=DocumentTextPosition(item=0, start_position=2567, end_position=2897)), DocumentChunk(document_path=DocumentPath(collection_path=CollectionPath(namespace='Studio', collection='pharia-tutorial-rag-vsp-1'), document_name='robert_moses'), section=\"Moses's reputation declined following the publication of [[Robert Caro]]'s [[Pulitzer Prize]]-winning biography ''[[The Power Broker]]'' (1974), which cast doubt on the purported benefits of many of Moses's projects and further cast Moses as racist.\", position=DocumentTextPosition(item=0, start_position=2900, end_position=3148)), DocumentChunk(document_path=DocumentPath(collection_path=CollectionPath(namespace='Studio', collection='pharia-tutorial-rag-vsp-1'), document_name='robert_moses'), section=\"In large part because of ''The Power Broker'', Moses is today considered a controversial figure in the history of New York City.\", position=DocumentTextPosition(item=0, start_position=3150, end_position=3277)), DocumentChunk(document_path=DocumentPath(collection_path=CollectionPath(namespace='Studio', collection='pharia-tutorial-rag-vsp-1'), document_name='robert_moses'), section='==Early life and career==', position=DocumentTextPosition(item=0, start_position=3280, end_position=3304)), DocumentChunk(document_path=DocumentPath(collection_path=CollectionPath(namespace='Studio', collection='pharia-tutorial-rag-vsp-1'), document_name='robert_moses'), section='Moses was born in [[New Haven, Connecticut]], on December 18, 1888, to [[German Jewish]] parents, Bella (Silverman) and Emanuel Moses.<ref>{{cite news | url=https://www.nytimes.com/learning/general/onthisday/bday/1218.', position=DocumentTextPosition(item=0, start_position=3306, end_position=3523)), DocumentChunk(document_path=DocumentPath(collection_path=CollectionPath(namespace='Studio', collection='pharia-tutorial-rag-vsp-1'), document_name='robert_moses'), section='html | title=Robert Moses, Master Builder, is Dead at 92| newspaper=The New York Times |archive-url=https://web.archive.org/web/20160305003155/https://www.nytimes.com/learning/general/onthisday/bday/1218', position=DocumentTextPosition(item=0, start_position=3524, end_position=3726)), DocumentChunk(document_path=DocumentPath(collection_path=CollectionPath(namespace='Studio', collection='pharia-tutorial-rag-vsp-1'), document_name='robert_moses'), section='.html |archive-date=March 5, 2016 |url-status=dead}}</ref>{{sfn|Caro|1974|p=25}} He spent the first nine years of his life living at 83 Dwight Street in New Haven, two blocks from [[Yale University]].', position=DocumentTextPosition(item=0, start_position=3727, end_position=3926)), DocumentChunk(document_path=DocumentPath(collection_path=CollectionPath(namespace='Studio', collection='pharia-tutorial-rag-vsp-1'), document_name='robert_moses'), section='In 1897, the Moses family moved to New York City,{{sfn|Caro|1974|pp=29}} where they lived on East 46th Street off Fifth Avenue.<ref>{{cite web |url=http://www.newsday.com/community/guide/lihistory/ny-history-', position=DocumentTextPosition(item=0, start_position=3928, end_position=4135)), DocumentChunk(document_path=DocumentPath(collection_path=CollectionPath(namespace='Studio', collection='pharia-tutorial-rag-vsp-1'), document_name='robert_moses'), section='hs722a,0,7092161.story |title=The Master Builder |access-date=April 4, 2007 |last=DeWan |first=George |year=2007 |website=Long Island History |publisher=Newsday |archive-url=https://', position=DocumentTextPosition(item=0, start_position=4136, end_position=4317)), DocumentChunk(document_path=DocumentPath(collection_path=CollectionPath(namespace='Studio', collection='pharia-tutorial-rag-vsp-1'), document_name='robert_moses'), section='web.archive.org/web/20061211045554/http://www.newsday.com/community/guide/lihistory/ny-history-hs722a%2C0%2C7092161.story |archive-date=December 11, 2006 |url-status=', position=DocumentTextPosition(item=0, start_position=4318, end_position=4483)), DocumentChunk(document_path=DocumentPath(collection_path=CollectionPath(namespace='Studio', collection='pharia-tutorial-rag-vsp-1'), document_name='robert_moses'), section=\"dead  }}</ref> Moses's father was a successful department store owner and [[real estate]] speculator in New Haven.\", position=DocumentTextPosition(item=0, start_position=4484, end_position=4597)), DocumentChunk(document_path=DocumentPath(collection_path=CollectionPath(namespace='Studio', collection='pharia-tutorial-rag-vsp-1'), document_name='robert_moses'), section=\"In order for the family to move to New York City, he sold his real estate holdings and store, then retired.{{sfn|Caro|1974|pp=29}} Moses's mother was active in the [[settlement movement]], with her own love of building.\", position=DocumentTextPosition(item=0, start_position=4599, end_position=4817)), DocumentChunk(document_path=DocumentPath(collection_path=CollectionPath(namespace='Studio', collection='pharia-tutorial-rag-vsp-1'), document_name='robert_moses'), section='Robert Moses and his brother Paul attended several schools for their elementary and [[secondary education]], including the [[Ethical Culture Fieldston School|Ethical Culture School]], the [[Dwight School]] and the [[Mohegan Lake, New York#Historic places|Mohegan Lake School]], a military academy', position=DocumentTextPosition(item=0, start_position=4819, end_position=5114)), DocumentChunk(document_path=DocumentPath(collection_path=CollectionPath(namespace='Studio', collection='pharia-tutorial-rag-vsp-1'), document_name='robert_moses'), section='near [[Peekskill, New York|Peekskill]].{{sfn|Caro|1974|pp=35}}', position=DocumentTextPosition(item=0, start_position=5116, end_position=5177)), DocumentChunk(document_path=DocumentPath(collection_path=CollectionPath(namespace='Studio', collection='pharia-tutorial-rag-vsp-1'), document_name='robert_moses'), section='After graduating from [[Yale College]] (B.A., 1909) and [[Wadham College]], [[Oxford University|Oxford]] (B.A., Jurisprudence, 1911; M.A., 1913), and earning a Ph.D. in [[political science]] from [[Columbia University]] in', position=DocumentTextPosition(item=0, start_position=5180, end_position=5401)), DocumentChunk(document_path=DocumentPath(collection_path=CollectionPath(namespace='Studio', collection='pharia-tutorial-rag-vsp-1'), document_name='robert_moses'), section='1914, Moses became attracted to New York City reform politics.<ref>{{Cite web|url=http://c250.columbia.edu/c250_celebrates/remarkable_columbians/robert_moses.html|title = Robert Moses}}</ref> A committed [[', position=DocumentTextPosition(item=0, start_position=5403, end_position=5608)), DocumentChunk(document_path=DocumentPath(collection_path=CollectionPath(namespace='Studio', collection='pharia-tutorial-rag-vsp-1'), document_name='robert_moses'), section='idealism|idealist]], he developed several plans to rid New York of [[Patronage#Politics|patronage hiring]] practices, including being the lead author of a 1919 proposal to reorganize the New York state government.', position=DocumentTextPosition(item=0, start_position=5609, end_position=5821)), DocumentChunk(document_path=DocumentPath(collection_path=CollectionPath(namespace='Studio', collection='pharia-tutorial-rag-vsp-1'), document_name='robert_moses'), section=\"None went very far, but Moses, due to his intelligence, caught the notice of [[Belle Moskowitz]], a friend and trusted advisor to Governor [[Al Smith]].{{sfn|Caro|1974}}  When the state [[Secretary of State of New York|Secretary of State's]] position became\", position=DocumentTextPosition(item=0, start_position=5823, end_position=6079)), DocumentChunk(document_path=DocumentPath(collection_path=CollectionPath(namespace='Studio', collection='pharia-tutorial-rag-vsp-1'), document_name='robert_moses'), section='appointive rather than elective, Smith named Moses. He served from 1927 to 1929.<ref>{{cite news |date=December 19, 1928 |title=Moses Resigns State Position |url=http://cdsun.library.cornell.edu/cgi-bin/cornell?', position=DocumentTextPosition(item=0, start_position=6081, end_position=6291)), DocumentChunk(document_path=DocumentPath(collection_path=CollectionPath(namespace='Studio', collection='pharia-tutorial-rag-vsp-1'), document_name='robert_moses'), section='a=d&d=CDS19281219.2.63.7# |newspaper=Cornell Daily Sun |location=Ithaca, NY |page=8}}</ref>', position=DocumentTextPosition(item=0, start_position=6292, end_position=6382)), DocumentChunk(document_path=DocumentPath(collection_path=CollectionPath(namespace='Studio', collection='pharia-tutorial-rag-vsp-1'), document_name='robert_moses'), section=\"Moses rose to power with Smith, who was elected as governor in 1918, and then again in 1922. With Smith's support, Moses set in motion a sweeping consolidation of the New York State government.\", position=DocumentTextPosition(item=0, start_position=6385, end_position=6577)), DocumentChunk(document_path=DocumentPath(collection_path=CollectionPath(namespace='Studio', collection='pharia-tutorial-rag-vsp-1'), document_name='robert_moses'), section=\"During that period Moses began his first foray into large-scale public work initiatives, while drawing on Smith's political power to enact legislation.\", position=DocumentTextPosition(item=0, start_position=6579, end_position=6729)), DocumentChunk(document_path=DocumentPath(collection_path=CollectionPath(namespace='Studio', collection='pharia-tutorial-rag-vsp-1'), document_name='robert_moses'), section='This helped create the new [[Long Island State Park Commission]] and the State Council of Parks.<ref>{{cite web|last=Gutfreund|first=Owen|title=Moses, Robert|url=http://www.anb.org/articles/07/07-00375.html|', position=DocumentTextPosition(item=0, start_position=6731, end_position=6937)), DocumentChunk(document_path=DocumentPath(collection_path=CollectionPath(namespace='Studio', collection='pharia-tutorial-rag-vsp-1'), document_name='robert_moses'), section='publisher=Anb.org|access-date=December 24, 2014}}</ref> In 1924, Governor Smith appointed Moses chairman of the State Council of Parks and president of the Long Island State Park Commission.<ref>{{Cite book|title=Encyclopedia of the City|url=https://', position=DocumentTextPosition(item=0, start_position=6938, end_position=7187)), DocumentChunk(document_path=DocumentPath(collection_path=CollectionPath(namespace='Studio', collection='pharia-tutorial-rag-vsp-1'), document_name='robert_moses'), section='archive.org/details/encyclopediacity00cave|url-access=limited|last=Caves|first=R.', position=DocumentTextPosition(item=0, start_position=7188, end_position=7268)), DocumentChunk(document_path=DocumentPath(collection_path=CollectionPath(namespace='Studio', collection='pharia-tutorial-rag-vsp-1'), document_name='robert_moses'), section='W.|publisher=Routledge|year=2004|isbn=978-0-415-25225-6|pages=[https://archive.org/details/encyclopediacity00cave/page/n512 472]}}</ref> This centralization allowed Smith to run a government', position=DocumentTextPosition(item=0, start_position=7270, end_position=7459)), DocumentChunk(document_path=DocumentPath(collection_path=CollectionPath(namespace='Studio', collection='pharia-tutorial-rag-vsp-1'), document_name='robert_moses'), section='later used as a model for Franklin D.', position=DocumentTextPosition(item=0, start_position=7461, end_position=7497)), DocumentChunk(document_path=DocumentPath(collection_path=CollectionPath(namespace='Studio', collection='pharia-tutorial-rag-vsp-1'), document_name='robert_moses'), section=\"Roosevelt's [[New Deal]] federal government.{{or|date=October 2022}} Moses also received numerous commissions that he carried out efficiently, such as the development of [[Jones Beach State Park]].{{cn|date=October 2022}} Displaying a strong command of [[law]] as well as matters of [[\", position=DocumentTextPosition(item=0, start_position=7499, end_position=7783)), DocumentChunk(document_path=DocumentPath(collection_path=CollectionPath(namespace='Studio', collection='pharia-tutorial-rag-vsp-1'), document_name='robert_moses'), section='engineering]], Moses became known for his skill in drafting legislation, and was called \"the best bill drafter in [[Albany, New York|Albany]]\".<ref name=\":0\">{{cite news |title=Annals of Power |first=Robert A. |last=Caro |author-link', position=DocumentTextPosition(item=0, start_position=7784, end_position=8016)), DocumentChunk(document_path=DocumentPath(collection_path=CollectionPath(namespace='Studio', collection='pharia-tutorial-rag-vsp-1'), document_name='robert_moses'), section='=Robert Caro |url=http://archives.newyorker.com/?', position=DocumentTextPosition(item=0, start_position=8017, end_position=8065)), DocumentChunk(document_path=DocumentPath(collection_path=CollectionPath(namespace='Studio', collection='pharia-tutorial-rag-vsp-1'), document_name='robert_moses'), section='i=1974-07-22#folio=032 |magazine=[[The New Yorker]] |date=July 22, 1974 |access-date=September 1, 2011}}</ref> At a time when the public was accustomed to [[Tammany Hall]] corruption and incompetence, Moses was seen as', position=DocumentTextPosition(item=0, start_position=8066, end_position=8283)), DocumentChunk(document_path=DocumentPath(collection_path=CollectionPath(namespace='Studio', collection='pharia-tutorial-rag-vsp-1'), document_name='robert_moses'), section='a savior of government.{{sfn|Caro|1974}}', position=DocumentTextPosition(item=0, start_position=8285, end_position=8324)), DocumentChunk(document_path=DocumentPath(collection_path=CollectionPath(namespace='Studio', collection='pharia-tutorial-rag-vsp-1'), document_name='robert_moses'), section=\"Shortly after [[President of the United States|President]] [[Franklin Delano Roosevelt|Franklin D. Roosevelt's]] [[First inauguration of Franklin D.\", position=DocumentTextPosition(item=0, start_position=8327, end_position=8474)), DocumentChunk(document_path=DocumentPath(collection_path=CollectionPath(namespace='Studio', collection='pharia-tutorial-rag-vsp-1'), document_name='robert_moses'), section='Roosevelt|inauguration]] in 1933, the [[United States federal government|federal government]] found itself with millions of [[New Deal]] dollars to spend, yet states and cities had few projects ready. Moses was one of the few local officials who had projects [[shovel ready]].', position=DocumentTextPosition(item=0, start_position=8476, end_position=8751)), DocumentChunk(document_path=DocumentPath(collection_path=CollectionPath(namespace='Studio', collection='pharia-tutorial-rag-vsp-1'), document_name='robert_moses'), section='For that reason, New York City was able to obtain significant [[Works Progress Administration]] (WPA), [[Civilian Conservation Corps]] (CCC), and other Depression-era funding.', position=DocumentTextPosition(item=0, start_position=8753, end_position=8927)), DocumentChunk(document_path=DocumentPath(collection_path=CollectionPath(namespace='Studio', collection='pharia-tutorial-rag-vsp-1'), document_name='robert_moses'), section='One of his most influential and longest-lasting positions was that of Parks Commissioner of New York City, a role he served from January 18, 1934, to May 23, 1960.<ref>{{Cite web|url=https://www.nycgovparks.org/about/history/commissioners|', position=DocumentTextPosition(item=0, start_position=8929, end_position=9167)), DocumentChunk(document_path=DocumentPath(collection_path=CollectionPath(namespace='Studio', collection='pharia-tutorial-rag-vsp-1'), document_name='robert_moses'), section='title=New York City Parks Commissioners : NYC Parks|website=www.nycgovparks.org|language=en|access-date=March 29, 2018}}</ref>', position=DocumentTextPosition(item=0, start_position=9168, end_position=9293)), DocumentChunk(document_path=DocumentPath(collection_path=CollectionPath(namespace='Studio', collection='pharia-tutorial-rag-vsp-1'), document_name='robert_moses'), section='==Offices held==', position=DocumentTextPosition(item=0, start_position=9296, end_position=9311)), DocumentChunk(document_path=DocumentPath(collection_path=CollectionPath(namespace='Studio', collection='pharia-tutorial-rag-vsp-1'), document_name='robert_moses'), section='The many offices and professional titles that Moses held gave him unusually broad power to shape urban development in the New York metropolitan region.', position=DocumentTextPosition(item=0, start_position=9313, end_position=9463)), DocumentChunk(document_path=DocumentPath(collection_path=CollectionPath(namespace='Studio', collection='pharia-tutorial-rag-vsp-1'), document_name='robert_moses'), section='These include, according to the New York Preservation Archive Project:<ref>{{Cite web|url=http://www.nypap.org/preservation-history/robert-moses/|title=Robert Moses {{!}}', position=DocumentTextPosition(item=0, start_position=9465, end_position=9634)), DocumentChunk(document_path=DocumentPath(collection_path=CollectionPath(namespace='Studio', collection='pharia-tutorial-rag-vsp-1'), document_name='robert_moses'), section='|website=www.nypap.org|language=en-US|access-date=March 29, 2018}}</ref>\\n*[[Long Island State Park Commission]] (President, 1924–1963)\\n* New York State Council of Parks (Chairman, 1924–1963)', position=DocumentTextPosition(item=0, start_position=9635, end_position=9824)), DocumentChunk(document_path=DocumentPath(collection_path=CollectionPath(namespace='Studio', collection='pharia-tutorial-rag-vsp-1'), document_name='robert_moses'), section='*[[Secretary of State of New York|New York Secretary of State]] (1927–1928)\\n* Bethpage State Park Authority (President, 1933–1963)\\n* Emergency Public Works Commission (Chairman, 1933–1934)\\n* Jones Beach Parkway Authority (President, 1933–1963)', position=DocumentTextPosition(item=0, start_position=9826, end_position=10068)), DocumentChunk(document_path=DocumentPath(collection_path=CollectionPath(namespace='Studio', collection='pharia-tutorial-rag-vsp-1'), document_name='robert_moses'), section='*[[New York City Department of Parks and Recreation|New York City Department of Parks]] (Commissioner, 1934–1960)\\n* [[Triborough Bridge]] and Tunnel Authority (Chairman, 1934–1968)\\n* New York City Planning Commission (Commissioner, 1942–1960)', position=DocumentTextPosition(item=0, start_position=10070, end_position=10311)), DocumentChunk(document_path=DocumentPath(collection_path=CollectionPath(namespace='Studio', collection='pharia-tutorial-rag-vsp-1'), document_name='robert_moses'), section=\"* New York State Power Authority (Chairman, 1954–1962)\\n* [[1964 New York World's Fair|New York's World Fair]] (President, 1960–1966)\\n* Office of the Governor of New York (Special Advisor on Housing, 1974–1975)\", position=DocumentTextPosition(item=0, start_position=10313, end_position=10521)), DocumentChunk(document_path=DocumentPath(collection_path=CollectionPath(namespace='Studio', collection='pharia-tutorial-rag-vsp-1'), document_name='robert_moses'), section='==Influence==', position=DocumentTextPosition(item=0, start_position=10524, end_position=10536)), DocumentChunk(document_path=DocumentPath(collection_path=CollectionPath(namespace='Studio', collection='pharia-tutorial-rag-vsp-1'), document_name='robert_moses'), section='During the 1920s, Moses sparred with [[Franklin D. Roosevelt]], then head of the Taconic State Park Commission, who favored the prompt construction of a [[parkway]] through the [[Hudson Valley]].', position=DocumentTextPosition(item=0, start_position=10538, end_position=10732)), DocumentChunk(document_path=DocumentPath(collection_path=CollectionPath(namespace='Studio', collection='pharia-tutorial-rag-vsp-1'), document_name='robert_moses'), section='Moses succeeded in diverting funds to his Long Island parkway projects (the [[Northern State Parkway]], the [[Southern State Parkway]] and the [[Wantagh State Parkway]]), although the [[Taconic State Parkway]] was later completed as well.<ref>{{cite web|url=http://', position=DocumentTextPosition(item=0, start_position=10734, end_position=10998)), DocumentChunk(document_path=DocumentPath(collection_path=CollectionPath(namespace='Studio', collection='pharia-tutorial-rag-vsp-1'), document_name='robert_moses'), section=\"www.nycroads.com/roads/taconic/ |title=Taconic State Parkway |website=NYCRoads.com |access-date=May 25, 2006}}</ref> Moses helped build Long Island's [[Meadowbrook State Parkway]].\", position=DocumentTextPosition(item=0, start_position=10999, end_position=11178)), DocumentChunk(document_path=DocumentPath(collection_path=CollectionPath(namespace='Studio', collection='pharia-tutorial-rag-vsp-1'), document_name='robert_moses'), section='It was the first fully divided limited access highway in the world.<ref name=\"Leonard 1991 339\">{{cite book|last=Leonard|first=Wallock|title=The Myth of The Master Builder|year=1991|publisher=Journal of Urban History|page=339}}</ref>', position=DocumentTextPosition(item=0, start_position=11180, end_position=11412)), DocumentChunk(document_path=DocumentPath(collection_path=CollectionPath(namespace='Studio', collection='pharia-tutorial-rag-vsp-1'), document_name='robert_moses'), section=\"Moses was a highly influential figure in the initiation of many of the reforms that restructured New York state's government during the 1920s.\", position=DocumentTextPosition(item=0, start_position=11415, end_position=11556)), DocumentChunk(document_path=DocumentPath(collection_path=CollectionPath(namespace='Studio', collection='pharia-tutorial-rag-vsp-1'), document_name='robert_moses'), section=\"A 'Reconstruction Commission' headed by Moses produced a highly influential report that provided recommendations that would largely be adopted, including the consolidation of 187 existing agencies under 18 departments, a new executive budget system, and the four-year term limit for the governorship.{{sfn|Caro|1974|pp=106\", position=DocumentTextPosition(item=0, start_position=11558, end_position=11879)), DocumentChunk(document_path=DocumentPath(collection_path=CollectionPath(namespace='Studio', collection='pharia-tutorial-rag-vsp-1'), document_name='robert_moses'), section=', 260}}', position=DocumentTextPosition(item=0, start_position=11880, end_position=11886))]\n",
      "\n",
      "\n"
     ]
    }
   ],
   "source": [
    "from pharia_data_sdk.connectors import ResourceNotFound\n",
    "\n",
    "print(\"\\n\")\n",
    "print(\"\\033[94mℹ️  INFO: Checking document chunks (if indexed)\\033[0m\")\n",
    "print(\"\\n\")\n",
    "\n",
    "try:\n",
    "    chunks = search_client.chunks(\n",
    "        DocumentPath(collection_path=collection_path, document_name=documents[0][\"name\"]),\n",
    "        index_name=INDEX,\n",
    "    )\n",
    "    print(f\"\\033[92m✅ SUCCESS: Found {len(chunks)} chunks for document '{documents[0]['name']}'\\033[0m\")\n",
    "    print(chunks)\n",
    "except ResourceNotFound:\n",
    "    print(\"\\033[93m⚙️  PROCESSING: Document still embedding, try again in a couple of minutes\\033[0m\")\n",
    "    pass  # This is expected if the document is still embedding.\n",
    "    \n",
    "print(\"\\n\")"
   ]
  },
  {
   "cell_type": "markdown",
   "metadata": {},
   "source": [
    "## 5. Setup search indexes\n",
    "\n",
    "### 5.1. Perform semantic search\n",
    "\n",
    "Now that we have uploaded our text, we can search through it using the semantic similarities between a given query and each chunk.\n",
    "\n",
    "To do so, let's use the `DocumentIndexRetriever`:"
   ]
  },
  {
   "cell_type": "code",
   "execution_count": 233,
   "metadata": {},
   "outputs": [
    {
     "name": "stdout",
     "output_type": "stream",
     "text": [
      "\n",
      "\n",
      "\u001b[94mℹ️  INFO: Testing semantic search with query 'The influence of Robert Moses'\u001b[0m\n",
      "\u001b[94mℹ️  INFO: Search in progress, please wait...'\u001b[0m\n",
      "\n",
      "\n",
      "\u001b[92m✅ SUCCESS: Found 5 relevant documents\u001b[0m\n",
      "\n",
      "\n"
     ]
    },
    {
     "data": {
      "text/plain": [
       "[SearchResult(id=DocumentPath(collection_path=CollectionPath(namespace='Studio', collection='pharia-tutorial-rag-vsp-1'), document_name='robert_moses'), score=0.70327467, document_chunk=DocumentChunk(text=\"Robert Moses''' (December 18, 1888 – July 29, 1981) was an American [[urban planner]] and public official who worked in the [[New York metropolitan area]] during the early to mid 20th century.\", start=0, end=191, metadata=None)),\n",
       " SearchResult(id=DocumentPath(collection_path=CollectionPath(namespace='Studio', collection='pharia-tutorial-rag-vsp-1'), document_name='robert_moses'), score=0.641685, document_chunk=DocumentChunk(text='As head of the [[MTA Bridges and Tunnels|Triborough Bridge Authority]], Moses had near-complete control over bridges and tunnels in New York City as well as the tolls collected from them, and built, among others, the [[Robert F.', start=2202, end=2429, metadata=None)),\n",
       " SearchResult(id=DocumentPath(collection_path=CollectionPath(namespace='Studio', collection='pharia-tutorial-rag-vsp-1'), document_name='robert_moses'), score=0.62051475, document_chunk=DocumentChunk(text=\"Moses was a highly influential figure in the initiation of many of the reforms that restructured New York state's government during the 1920s.\", start=11415, end=11556, metadata=None)),\n",
       " SearchResult(id=DocumentPath(collection_path=CollectionPath(namespace='Studio', collection='pharia-tutorial-rag-vsp-1'), document_name='robert_moses'), score=0.61622477, document_chunk=DocumentChunk(text='1914, Moses became attracted to New York City reform politics.<ref>{{Cite web|url=http://c250.columbia.edu/c250_celebrates/remarkable_columbians/robert_moses.html|title = Robert Moses}}</ref> A committed [[', start=5403, end=5608, metadata=None)),\n",
       " SearchResult(id=DocumentPath(collection_path=CollectionPath(namespace='Studio', collection='pharia-tutorial-rag-vsp-1'), document_name='robert_moses'), score=0.6021129, document_chunk=DocumentChunk(text='Robert Moses and his brother Paul attended several schools for their elementary and [[secondary education]], including the [[Ethical Culture Fieldston School|Ethical Culture School]], the [[Dwight School]] and the [[Mohegan Lake, New York#Historic places|Mohegan Lake School]], a military academy', start=4819, end=5114, metadata=None))]"
      ]
     },
     "execution_count": 233,
     "metadata": {},
     "output_type": "execute_result"
    }
   ],
   "source": [
    "from pharia_data_sdk.connectors.retrievers import DocumentIndexRetriever\n",
    "\n",
    "document_index_retriever = DocumentIndexRetriever(\n",
    "    document_index=search_client,\n",
    "    index_name=INDEX,\n",
    "    namespace=NAMESPACE,\n",
    "    collection=COLLECTION,\n",
    "    k=5,\n",
    ")\n",
    "\n",
    "print(\"\\n\")\n",
    "print(\"\\033[94mℹ️  INFO: Testing semantic search with query 'The influence of Robert Moses'\\033[0m\")\n",
    "print(\"\\033[94mℹ️  INFO: Search in progress, please wait...'\\033[0m\")\n",
    "print(\"\\n\")\n",
    "\n",
    "results = document_index_retriever.get_relevant_documents_with_scores(\n",
    "    query=\"The influence of Robert Moses\"\n",
    ")\n",
    "\n",
    "print(f\"\\033[92m✅ SUCCESS: Found {len(results)} relevant documents\\033[0m\")\n",
    "print(\"\\n\")\n",
    "\n",
    "results"
   ]
  },
  {
   "cell_type": "markdown",
   "metadata": {},
   "source": [
    "### 5.2 Hybrid Search\n",
    "\n",
    "PhariaSearch supports hybrid search, which combines results of semantic search and keyword search.\n",
    "In order to use hybrid search, we need to create a hybrid index and assign it to the collection:"
   ]
  },
  {
   "cell_type": "code",
   "execution_count": null,
   "metadata": {},
   "outputs": [],
   "source": [
    "index_path = IndexPath(namespace=NAMESPACE, index=HYBRID_INDEX)\n",
    "\n",
    "# customise the parameters of the index here\n",
    "index_configuration = IndexConfiguration(\n",
    "    chunk_size=64,\n",
    "    chunk_overlap=0,\n",
    "    hybrid_index=\"bm25\",\n",
    "    embedding=SemanticEmbed(model_name=EMBEDDING_MODEL_NAME, representation=\"asymmetric\"),\n",
    ")\n",
    "\n",
    "# create the namespace-wide index resource\n",
    "index = search_client.create_index(index_path, index_configuration)\n",
    "\n",
    "print(\"\\n\")\n",
    "print(\"\\033[92m✅ SUCCESS: Hybrid index created\\033[0m\")\n",
    "print(f\"   • Index: {HYBRID_INDEX}\")\n",
    "print(f\"   • Type: BM25 + Semantic\")\n",
    "print(\"\\n\")\n",
    "\n",
    "# assign the index to the collection\n",
    "search_client.assign_index_to_collection(collection_path, HYBRID_INDEX)\n",
    "\n",
    "print(\"\\033[92m✅ SUCCESS: Hybrid index assigned to collection\\033[0m\")\n",
    "print(\"\\n\")"
   ]
  },
  {
   "cell_type": "code",
   "execution_count": 112,
   "metadata": {},
   "outputs": [
    {
     "data": {
      "text/plain": [
       "[IndexPath(namespace='Studio', index='asym-1024'),\n",
       " IndexPath(namespace='Studio', index='asym-384-hybrid'),\n",
       " IndexPath(namespace='Studio', index='asym-1024-hybrid'),\n",
       " IndexPath(namespace='Studio', index='sts-v0-query-instruct'),\n",
       " IndexPath(namespace='Studio', index='asym-384'),\n",
       " IndexPath(namespace='Studio', index='asym-512-hybrid'),\n",
       " IndexPath(namespace='Studio', index='sts-v0-no-instruct-hybrid'),\n",
       " IndexPath(namespace='Studio', index='studio-tutorial-index'),\n",
       " IndexPath(namespace='Studio', index='test-index-123'),\n",
       " IndexPath(namespace='Studio', index='asym-1024-pharia-256'),\n",
       " IndexPath(namespace='Studio', index='asym-2046-pharia-1'),\n",
       " IndexPath(namespace='Studio', index='asym-512'),\n",
       " IndexPath(namespace='Studio', index='sts-v0-no-instruct'),\n",
       " IndexPath(namespace='Studio', index='asym-768'),\n",
       " IndexPath(namespace='Studio', index='asym-2046'),\n",
       " IndexPath(namespace='Studio', index='test-12'),\n",
       " IndexPath(namespace='Studio', index='asym-1024-pharia-1'),\n",
       " IndexPath(namespace='Studio', index='asym-2046-pharia-1-hybrid'),\n",
       " IndexPath(namespace='Studio', index='studio-tutorial-index-try'),\n",
       " IndexPath(namespace='Studio', index='studio-tutorial-index-test'),\n",
       " IndexPath(namespace='Studio', index='rag-tutorial-index'),\n",
       " IndexPath(namespace='Studio', index='asym-1024-overlap-50'),\n",
       " IndexPath(namespace='Studio', index='rag-tutorial-index-v2'),\n",
       " IndexPath(namespace='Studio', index='rag-tutorial-hybrid-index'),\n",
       " IndexPath(namespace='Studio', index='rag-tutorial-index-tony'),\n",
       " IndexPath(namespace='Studio', index='rag-tutorial-index-joe'),\n",
       " IndexPath(namespace='Studio', index='rag-tutorial-hybrid-index-joe'),\n",
       " IndexPath(namespace='Studio', index='rag-tutorial-index-1'),\n",
       " IndexPath(namespace='Studio', index='rag-tutorial-index-vps-1'),\n",
       " IndexPath(namespace='Studio', index='rag-tutorial-index-vsp-3'),\n",
       " IndexPath(namespace='Studio', index='rag-tutorial-hybrid-index-vsp-3'),\n",
       " IndexPath(namespace='Studio', index='rag-tutorial-index-imd'),\n",
       " IndexPath(namespace='Studio', index='rag-tutorial-hybrid-index-imd'),\n",
       " IndexPath(namespace='Studio', index='rag-tutorial-index-red-hans'),\n",
       " IndexPath(namespace='Studio', index='rag-tutorial-hybrid-index-red-hans'),\n",
       " IndexPath(namespace='Studio', index='rag-tutorial-index-vova'),\n",
       " IndexPath(namespace='Studio', index='rag-tutorial-hybrid-index-vova'),\n",
       " IndexPath(namespace='Studio', index='rag-tutorial-index-red-selen'),\n",
       " IndexPath(namespace='Studio', index='rag-tutorial-hybrid-index-red-selen'),\n",
       " IndexPath(namespace='Studio', index='rag-tutorial-index-yellow-sushant'),\n",
       " IndexPath(namespace='Studio', index='rag-tutorial-hybrid-index-vsp-1')]"
      ]
     },
     "execution_count": 112,
     "metadata": {},
     "output_type": "execute_result"
    }
   ],
   "source": [
    "search_client.list_indexes(NAMESPACE)"
   ]
  },
  {
   "cell_type": "markdown",
   "metadata": {},
   "source": [
    "If we now search on the hybrid index, we will not only get chunks with a semantic similarity but also chunks that match the keywords in the query:"
   ]
  },
  {
   "cell_type": "code",
   "execution_count": 239,
   "metadata": {},
   "outputs": [
    {
     "name": "stdout",
     "output_type": "stream",
     "text": [
      "\n",
      "\n",
      "\u001b[94mℹ️  INFO: Testing hybrid search with query '25 April'\u001b[0m\n",
      "\u001b[94mℹ️  INFO: Search in progress, please wait...\u001b[0m\n",
      "\n",
      "\n",
      "\u001b[92m✅ SUCCESS: Found 5 relevant documents using hybrid search\u001b[0m\n",
      "\n",
      "\n",
      "[SearchResult(id=DocumentPath(collection_path=CollectionPath(namespace='Studio', collection='pharia-tutorial-rag-vsp-1'), document_name='jane_jacobs'), score=0.5, document_chunk=DocumentChunk(text='Jane Jacobs OC OOnt (née Butzner; 4 May 1916 – 25 April 2006) was an American-Canadian journalist, author, theorist, and activist who influenced urban studies, sociology, and economics.', start=0, end=184, metadata=None)), SearchResult(id=DocumentPath(collection_path=CollectionPath(namespace='Studio', collection='pharia-tutorial-rag-vsp-1'), document_name='c91f247a-8555-4f86-917c-df546e4530a2'), score=0.33333334, document_chunk=DocumentChunk(text='We trained a 4-layer transformer with dmodel = 1024 on the Wall Street Journal (WSJ) portion of the Penn Treebank [25], about 40K training sentences.', start=25605, end=25753, metadata=None)), SearchResult(id=DocumentPath(collection_path=CollectionPath(namespace='Studio', collection='pharia-tutorial-rag-vsp-1'), document_name='robert_moses'), score=0.25, document_chunk=DocumentChunk(text=\"www.nycroads.com/roads/taconic/ |title=Taconic State Parkway |website=NYCRoads.com |access-date=May 25, 2006}}</ref> Moses helped build Long Island's [[Meadowbrook State Parkway]].\", start=10999, end=11178, metadata=None)), SearchResult(id=DocumentPath(collection_path=CollectionPath(namespace='Studio', collection='pharia-tutorial-rag-vsp-1'), document_name='7503bf30-1098-486a-bc9d-770e7d1c458d'), score=0.2, document_chunk=DocumentChunk(text='There has been extensive previous work proposing architectures to enrich systems with non-parametric memory which are trained from scratch for specific tasks, e.g. memory networks [64 , 55], stackaugmented networks [25] and memory layers [30].', start=4541, end=4783, metadata=None)), SearchResult(id=DocumentPath(collection_path=CollectionPath(namespace='Studio', collection='pharia-tutorial-rag-vsp-1'), document_name='54cd1358-efaf-4b4d-bc61-0cf7de05a07d'), score=0.16666667, document_chunk=DocumentChunk(text='There has been extensive previous work proposing architectures to enrich systems with non-parametric memory which are trained from scratch for specific tasks, e.g. memory networks [64 , 55], stackaugmented networks [25] and memory layers [30].', start=4541, end=4783, metadata=None))]\n",
      "\n",
      "\n"
     ]
    }
   ],
   "source": [
    "document_index_retriever = DocumentIndexRetriever(\n",
    "    document_index=search_client,\n",
    "    index_name=HYBRID_INDEX,\n",
    "    namespace=NAMESPACE,\n",
    "    collection=COLLECTION,\n",
    "    k=5,\n",
    "    threshold=0.5,\n",
    ")\n",
    "\n",
    "print(\"\\n\")\n",
    "print(\"\\033[94mℹ️  INFO: Testing hybrid search with query '25 April'\\033[0m\")\n",
    "print(\"\\033[94mℹ️  INFO: Search in progress, please wait...\\033[0m\")\n",
    "print(\"\\n\")\n",
    "\n",
    "results = document_index_retriever.get_relevant_documents_with_scores(query=\"25 April\")\n",
    "\n",
    "print(f\"\\033[92m✅ SUCCESS: Found {len(results)} relevant documents using hybrid search\\033[0m\")\n",
    "print(\"\\n\")\n",
    "\n",
    "print(results)\n",
    "print(\"\\n\")"
   ]
  },
  {
   "cell_type": "markdown",
   "metadata": {},
   "source": [
    "### 5.3  Search with Metadata filtering\n",
    "\n",
    "PhariaSearch also supports filter-indexes, which gives us the ability to provide specific filters in case we want to filter our search based on each document's metadata.\n",
    "\n",
    "To do so, let's first upload another version of our documents but this time with some metadata e.g. the \"title\" field."
   ]
  },
  {
   "cell_type": "code",
   "execution_count": null,
   "metadata": {},
   "outputs": [],
   "source": [
    "print(\"\\n\")\n",
    "print(\"\\033[93m⚙️  PROCESSING: Re-uploading documents with metadata\\033[0m\")\n",
    "print(\"\\n\")\n",
    "\n",
    "for doc in documents:\n",
    "    document_path = DocumentPath(\n",
    "        collection_path=collection_path, document_name=doc[\"name\"]\n",
    "    )\n",
    "    search_client.add_document(\n",
    "        document_path,\n",
    "        contents=DocumentContents(\n",
    "            contents=[doc[\"content\"]], metadata={\"title\": doc[\"name\"]}\n",
    "        ),\n",
    "    )\n",
    "    print(f\"   ✓ Document '{doc['name']}' uploaded with metadata\")\n",
    "\n",
    "print(\"\\n\")\n",
    "print(f\"\\033[92m✅ SUCCESS: All {len(documents)} documents uploaded with metadata\\033[0m\")\n",
    "print(\"\\n\")"
   ]
  },
  {
   "cell_type": "markdown",
   "metadata": {},
   "source": [
    "#### Preparation of the Filter Index\n",
    "To be able to use metadata filtering, we need to first check the following:\n",
    "1. Check if we already have a search index assigned. If not, we need to assign one because filter-indexes can be defined at the namespace level but can only be assigned to already existing search indexes \n",
    "2. Define a new filter-index configuration for our specific collection metadata.\n",
    "3. Assign the filter-index that we created to a search index."
   ]
  },
  {
   "cell_type": "code",
   "execution_count": 115,
   "metadata": {},
   "outputs": [
    {
     "data": {
      "text/plain": [
       "['rag-tutorial-hybrid-index-vsp-1',\n",
       " 'rag-tutorial-index-vps-1',\n",
       " 'rag-tutorial-index-1']"
      ]
     },
     "execution_count": 115,
     "metadata": {},
     "output_type": "execute_result"
    }
   ],
   "source": [
    "# 1\n",
    "# list all the assigned search indexes for our collection\n",
    "search_client.list_assigned_index_names(collection_path=collection_path)"
   ]
  },
  {
   "cell_type": "code",
   "execution_count": null,
   "metadata": {},
   "outputs": [],
   "source": [
    "# 2\n",
    "# define a new filter-index\n",
    "search_client.create_filter_index_in_namespace(\n",
    "    namespace=collection_path.namespace,\n",
    "    filter_index_name=FILTER_INDEX,  # this is how our filter-index is identified in our namespace\n",
    "    field_name=\"title\",  # this is the name of the field to which we want to apply our filter\n",
    "    field_type=\"string\",  # type of the field we want to apply our filter to. Must be one of \"string\", \"integer\", \"float\", \"boolean\" or \"datetime\"\n",
    ")\n",
    "\n",
    "# let's check if our index is present now\n",
    "filter_present = FILTER_INDEX in search_client.list_filter_indexes_in_namespace(\n",
    "    namespace=collection_path.namespace\n",
    ")\n",
    "\n",
    "print(\"\\n\")\n",
    "if filter_present:\n",
    "    print(f\"\\033[92m✅ SUCCESS: Filter index created\\033[0m\")\n",
    "    print(f\"   • Filter: {FILTER_INDEX}\")\n",
    "    print(f\"   • Field: title (string)\")\n",
    "else:\n",
    "    print(f\"\\033[91m⚠️  ERROR: Filter index creation failed\\033[0m\")\n",
    "print(\"\\n\")"
   ]
  },
  {
   "cell_type": "code",
   "execution_count": null,
   "metadata": {},
   "outputs": [],
   "source": [
    "# 3\n",
    "# assign our new filter-index to our collection\n",
    "search_client.assign_filter_index_to_search_index(\n",
    "    collection_path=collection_path,\n",
    "    index_name=INDEX,  # we assign it to intelligence-layer-sdk-demo-index\n",
    "    filter_index_name=FILTER_INDEX,\n",
    ")\n",
    "\n",
    "# check if our filter-index is assigned to our collection\n",
    "assigned_filters = search_client.list_assigned_filter_index_names(\n",
    "    collection_path=collection_path, index_name=INDEX\n",
    ")\n",
    "\n",
    "print(\"\\n\")\n",
    "print(f\"\\033[92m✅ SUCCESS: Filter index assigned to collection\\033[0m\")\n",
    "print(f\"   • Assigned filters: {assigned_filters}\")\n",
    "print(\"\\n\")\n",
    "\n",
    "assigned_filters"
   ]
  },
  {
   "cell_type": "markdown",
   "metadata": {},
   "source": [
    " Now, as we have the filter-index enabled, we need to initialize a new `DocumentIndexRetriever` with the search index for which we added the filter-index."
   ]
  },
  {
   "cell_type": "code",
   "execution_count": null,
   "metadata": {},
   "outputs": [],
   "source": [
    "document_index_retriever = DocumentIndexRetriever(\n",
    "    document_index=search_client,\n",
    "    index_name=INDEX,\n",
    "    namespace=NAMESPACE,\n",
    "    collection=COLLECTION,\n",
    "    k=5,\n",
    ")\n",
    "\n",
    "print(\"\\n\")\n",
    "print(f\"\\033[94mℹ️  INFO: Document retriever configured for filtered search\\033[0m\")\n",
    "print(f\"   • Index: {INDEX}\")\n",
    "print(f\"   • Collection: {COLLECTION}\")\n",
    "print(\"\\n\")"
   ]
  },
  {
   "cell_type": "markdown",
   "metadata": {},
   "source": [
    "#### Defining and Using a Filter\n",
    "Before we perform the filtered search we have to define a filter.\n",
    "Filters are composed of the following elements:\n",
    "- `filter_type` which can be one of \"with\", \"without\" or \"with_one_of\"\n",
    "- `filter_fields`, which defines the actual filtering criteria over a certain value for our chosen field\n",
    "\n",
    "If we want a filter that accepts only documents with the value of the \"title\" field equal to the \"name\" field of `document_1`, we define the filter as follows:"
   ]
  },
  {
   "cell_type": "code",
   "execution_count": null,
   "metadata": {},
   "outputs": [],
   "source": [
    "from pharia_data_sdk.connectors import FilterField, FilterOps, Filters\n",
    "\n",
    "filters = Filters(\n",
    "    filter_type=\"with\",  # we want to only return documents matching our filter\n",
    "    fields=[\n",
    "        FilterField(\n",
    "            field_name=\"title\",  # this is the key we used in our metadata dict\n",
    "            field_value=documents[0][\n",
    "                \"name\"\n",
    "            ],  # this is what we used as a value in the metadata dict\n",
    "            criteria=FilterOps.EQUAL_TO,  # we want to match exactly\n",
    "        ),\n",
    "    ],\n",
    ")\n",
    "\n",
    "print(\"\\n\")\n",
    "print(f\"\\033[94mℹ️  INFO: Filter created for documents with title='{documents[0]['name']}'\\033[0m\")\n",
    "print(\"\\n\")"
   ]
  },
  {
   "cell_type": "code",
   "execution_count": null,
   "metadata": {},
   "outputs": [],
   "source": [
    "# let's use the filters with our query to restrict the search to documents with the title \"robert_moses\"\n",
    "print(\"\\n\")\n",
    "print(f\"\\033[94mℹ️  INFO: Testing filtered search with query 'Robert Moses'\\033[0m\")\n",
    "print(f\"   • Filter: Only documents with title='{documents[0]['name']}'\")\n",
    "print(\"\\n\")\n",
    "\n",
    "results = document_index_retriever.get_relevant_documents_with_scores(\n",
    "    query=\"Robert Moses\", filters=[filters]\n",
    ")\n",
    "\n",
    "print(f\"\\033[92m✅ SUCCESS: Found {len(results)} documents matching filter\\033[0m\")\n",
    "print(\"\\n\")\n",
    "\n",
    "results"
   ]
  },
  {
   "cell_type": "markdown",
   "metadata": {},
   "source": [
    "Great! We only get document with the \"robert_moses\" as the exact title in the metadata"
   ]
  },
  {
   "cell_type": "markdown",
   "metadata": {},
   "source": [
    "#### Exclusion of Documents\n",
    "We can also modify our filter such that we only get documents that do *not* match the specified filter fields. This is as simply as replacing the \"with\" filter_type with a \"without\": "
   ]
  },
  {
   "cell_type": "code",
   "execution_count": null,
   "metadata": {},
   "outputs": [],
   "source": [
    "# let's now try to exclude the document with the title \"robert_moses\"\n",
    "filters_without = Filters(\n",
    "    filter_type=\"without\",  # we change this to \"without\" to exclude the document\n",
    "    fields=[\n",
    "        FilterField(\n",
    "            field_name=\"title\",  # this is the key we used in our metadata dict\n",
    "            field_value=documents[0][\n",
    "                \"name\"\n",
    "            ],  # this is what we used as a value in the metadata dict\n",
    "            criteria=FilterOps.EQUAL_TO,  # we want to match exactly\n",
    "        ),\n",
    "    ],\n",
    ")\n",
    "\n",
    "print(\"\\n\")\n",
    "print(f\"\\033[94mℹ️  INFO: Filter created to EXCLUDE documents with title='{documents[0]['name']}'\\033[0m\")\n",
    "print(\"\\n\")"
   ]
  },
  {
   "cell_type": "code",
   "execution_count": null,
   "metadata": {},
   "outputs": [],
   "source": [
    "# let's use the filters with our query to exclude the document with the title \"robert_moses\"\n",
    "print(\"\\n\")\n",
    "print(f\"\\033[94mℹ️  INFO: Testing exclusion filter with query 'Robert Moses'\\033[0m\")\n",
    "print(f\"   • Filter: Exclude documents with title='{documents[0]['name']}'\")\n",
    "print(\"\\n\")\n",
    "\n",
    "results = document_index_retriever.get_relevant_documents_with_scores(\n",
    "    query=\"Robert Moses\", filters=[filters_without]\n",
    ")\n",
    "\n",
    "print(f\"\\033[92m✅ SUCCESS: Found {len(results)} documents excluding filtered document\\033[0m\")\n",
    "print(\"\\n\")\n",
    "\n",
    "results"
   ]
  },
  {
   "cell_type": "markdown",
   "metadata": {},
   "source": [
    "Notice, how we only get results where the `document_name` is not \"robert_moses\". "
   ]
  },
  {
   "cell_type": "markdown",
   "metadata": {},
   "source": [
    "## 6. Conclusions\n",
    "\n",
    "We have now a collection with some documents uploaded and with semantic indexing, hybrid indexing, and the possibility to use metadata for filtering results."
   ]
  }
 ],
 "metadata": {
  "kernelspec": {
   "display_name": "Python 3 (ipykernel)",
   "language": "python",
   "name": "python3"
  },
  "language_info": {
   "codemirror_mode": {
    "name": "ipython",
    "version": 3
   },
   "file_extension": ".py",
   "mimetype": "text/x-python",
   "name": "python",
   "nbconvert_exporter": "python",
   "pygments_lexer": "ipython3",
   "version": "3.12.9"
  }
 },
 "nbformat": 4,
 "nbformat_minor": 4
}
