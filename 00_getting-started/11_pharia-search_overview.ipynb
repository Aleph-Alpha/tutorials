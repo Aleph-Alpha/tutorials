{
 "cells": [
  {
   "cell_type": "markdown",
   "metadata": {},
   "source": [
    "# Pharia Search Overview\n",
    "\n",
    "Welcome to Pharia Search - your enterprise-grade solution for intelligent document search and retrieval. Formerly known as DocumentService, Pharia Search is a cornerstone component of the PhariaAI suite that transforms how organizations discover and leverage their knowledge.\n"
   ]
  },
  {
   "cell_type": "markdown",
   "metadata": {},
   "source": [
    "## What is Pharia Search?\n",
    "\n",
    "Pharia Search is a powerful semantic search service that enables you to:\n",
    "\n",
    "- **Find information intelligently** - Go beyond simple keyword matching to understand the meaning and context of your queries\n",
    "- **Scale enterprise knowledge** - Handle vast document collections with lightning-fast retrieval\n",
    "- **Power RAG applications** - Seamlessly integrate search results into generative AI workflows\n",
    "- **Maintain data sovereignty** - Keep your sensitive documents secure within your own infrastructure\n",
    "\n",
    "Whether you're building a knowledge management system, enhancing AI assistants with relevant context, or creating compliance search tools, Pharia Search provides the foundation you need.\n"
   ]
  },
  {
   "cell_type": "code",
   "execution_count": null,
   "metadata": {},
   "outputs": [],
   "source": [
    "TODO: EMBED SPOTLIGHT VIDEOS HERE"
   ]
  },
  {
   "cell_type": "code",
   "execution_count": null,
   "metadata": {},
   "outputs": [],
   "source": [
    "TODO: ADD SOME SCHEMATICS HERE TO EXPLAIN THE ARCHITECTURE FOR THE PRODUCT"
   ]
  },
  {
   "cell_type": "markdown",
   "metadata": {},
   "source": [
    "## Core Architecture\n",
    "\n",
    "Pharia Search is built on a hierarchical structure that makes organizing and accessing your documents intuitive:\n",
    "\n",
    "```\n",
    "Service (Pharia Search API)\n",
    "    └── Namespace (Logical partition)\n",
    "            └── Collection (Document group)\n",
    "                    └── Document (Your content)\n",
    "                            ├── Index (Search structures)\n",
    "                            └── Filter Index (Metadata filters)\n",
    "```\n",
    "\n",
    "### Key Components:\n",
    "\n",
    "- **Service**: The main API endpoint (`https://document-index.{your-domain}`) that handles all search operations\n",
    "- **Namespace**: Logical partitions that isolate different projects or departments\n",
    "- **Collection**: Groups of related documents (e.g., \"technical-docs\", \"contracts\", \"research-papers\")\n",
    "- **Document**: Individual pieces of content with associated metadata\n",
    "- **Index**: Optimized structures for different search types (semantic, keyword, hybrid)\n",
    "- **Filter Index**: Specialized indexes for metadata-based filtering\n"
   ]
  },
  {
   "cell_type": "markdown",
   "metadata": {},
   "source": [
    "## Search Capabilities\n",
    "\n",
    "Pharia Search offers three powerful search modes, each optimized for different use cases:\n",
    "\n",
    "### 🧠 Semantic Search\n",
    "Understands the **meaning** behind your queries using advanced language models.\n",
    "\n",
    "**Example**: Searching for \"employee onboarding process\" will find documents about:\n",
    "- New hire procedures\n",
    "- Staff orientation guides  \n",
    "- Training protocols\n",
    "- Welcome documentation\n",
    "\n",
    "Even if they don't contain the exact phrase \"employee onboarding\"!\n",
    "\n",
    "### 🔤 Keyword Search\n",
    "Provides precise, exact-match results when you know specific terms.\n",
    "\n",
    "**Example**: Searching for \"contract-2024-Q3\" will find:\n",
    "- Documents containing exactly that identifier\n",
    "- Perfect for finding specific references, codes, or technical terms\n",
    "\n",
    "### 🔀 Hybrid Search\n",
    "Combines the best of both worlds - semantic understanding with keyword precision.\n",
    "\n",
    "**Example**: Searching for \"Python error handling\" gets you:\n",
    "- Conceptually related content (exception management, debugging guides)\n",
    "- Documents with exact Python syntax and error codes\n",
    "- The most comprehensive and relevant results\n",
    "\n",
    "### 🏷️ Metadata Filtering\n",
    "Refine any search with powerful metadata filters:\n",
    "- Filter by date, department, document type, author\n",
    "- Combine multiple filters for precise results\n",
    "- Works seamlessly with all search types\n"
   ]
  },
  {
   "cell_type": "markdown",
   "metadata": {},
   "source": [
    "## Common Use Cases\n",
    "\n",
    "- **Knowledge Management**: Search technical docs, policies, and best practices\n",
    "- **RAG Applications**: Power chatbots and AI assistants with relevant context  \n",
    "- **Compliance**: Find regulatory documents and audit trails\n",
    "- **R&D**: Connect research insights across teams and projects\n"
   ]
  },
  {
   "cell_type": "markdown",
   "metadata": {},
   "source": [
    "## Why Choose Pharia Search?\n",
    "\n",
    "### 🏢 Enterprise-Ready\n",
    "- Handles millions of documents with sub-second response times\n",
    "- Scalable architecture that grows with your needs\n",
    "- Production-proven in regulated industries\n",
    "\n",
    "### 🔒 Sovereignty-First\n",
    "- Complete control over your data\n",
    "- On-premise deployment options\n",
    "- No data leaves your infrastructure\n",
    "\n",
    "### 🎯 Purpose-Built for AI\n",
    "- Optimized for RAG pipeline integration\n",
    "- Native support for context retrieval\n",
    "- Seamless LLM integration\n",
    "\n",
    "### 🚀 Developer-Friendly\n",
    "- Clean REST API design\n",
    "- Comprehensive documentation\n",
    "- Python SDK and code examples\n"
   ]
  },
  {
   "cell_type": "markdown",
   "metadata": {},
   "source": [
    "## Next Steps\n",
    "\n",
    "Ready to start searching? Here's where to go next:\n",
    "\n",
    "### 📖 Learn More\n",
    "In the **Single Product Deep Dives** section, you'll find hands-on tutorials for:\n",
    "- Setting up your first collection\n",
    "- Implementing semantic search\n",
    "- Building keyword search queries\n",
    "- Creating hybrid search solutions\n",
    "- Configuring metadata filters\n",
    "\n",
    "\n",
    "---\n",
    "\n",
    "Continue your journey with Pharia Search in our hands-on tutorials, where you'll build real search applications from scratch!\n"
   ]
  }
 ],
 "metadata": {
  "kernelspec": {
   "display_name": "Python 3 (ipykernel)",
   "language": "python",
   "name": "python3"
  },
  "language_info": {
   "codemirror_mode": {
    "name": "ipython",
    "version": 3
   },
   "file_extension": ".py",
   "mimetype": "text/x-python",
   "name": "python",
   "nbconvert_exporter": "python",
   "pygments_lexer": "ipython3",
   "version": "3.12.9"
  }
 },
 "nbformat": 4,
 "nbformat_minor": 4
}
