{
  "cells": [
    {
      "cell_type": "markdown",
      "metadata": {},
      "source": [
        "# Pharia Kernel Overview\n",
        "\n",
        "This is a placeholder notebook for the Pharia Kernel overview tutorial.\n",
        "\n",
        "TODO: Add content introducing Pharia Kernel for deploying and consuming skills.\n"
      ]
    }
  ],
  "metadata": {
    "language_info": {
      "name": "python"
    }
  },
  "nbformat": 4,
  "nbformat_minor": 2
}
