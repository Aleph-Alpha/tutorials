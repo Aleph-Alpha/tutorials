{
  "cells": [
    {
      "cell_type": "markdown",
      "metadata": {},
      "source": [
        "# Pharia OS Overview\n",
        "\n",
        "This is a placeholder notebook for the Pharia OS overview tutorial.\n",
        "\n",
        "TODO: Add content introducing Pharia OS for building and deploying applications.\n"
      ]
    }
  ],
  "metadata": {
    "language_info": {
      "name": "python"
    }
  },
  "nbformat": 4,
  "nbformat_minor": 2
}
