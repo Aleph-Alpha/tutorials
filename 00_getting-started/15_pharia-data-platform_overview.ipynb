{
  "cells": [
    {
      "cell_type": "markdown",
      "metadata": {},
      "source": [
        "# Pharia Data Platform Overview\n",
        "\n",
        "This is a placeholder notebook for the Pharia Data Platform overview tutorial.\n",
        "\n",
        "TODO: Add content introducing Pharia Data Platform for file upload and processing.\n"
      ]
    }
  ],
  "metadata": {
    "language_info": {
      "name": "python"
    }
  },
  "nbformat": 4,
  "nbformat_minor": 2
}
