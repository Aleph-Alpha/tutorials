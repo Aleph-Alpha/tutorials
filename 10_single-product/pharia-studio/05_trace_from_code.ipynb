{
  "cells": [
    {
      "cell_type": "markdown",
      "metadata": {},
      "source": [
        "# Trace from Code\n",
        "\n",
        "Implementing tracing in your code.\n"
      ]
    }
  ],
  "metadata": {
    "language_info": {
      "name": "python"
    }
  },
  "nbformat": 4,
  "nbformat_minor": 2
}
