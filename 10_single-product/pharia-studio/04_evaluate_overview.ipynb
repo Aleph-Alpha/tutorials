{
  "cells": [
    {
      "cell_type": "markdown",
      "metadata": {},
      "source": [
        "# Evaluate Overview\n",
        "\n",
        "Model evaluation capabilities.\n"
      ]
    }
  ],
  "metadata": {
    "language_info": {
      "name": "python"
    }
  },
  "nbformat": 4,
  "nbformat_minor": 2
}
