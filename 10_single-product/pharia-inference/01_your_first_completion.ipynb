{
  "cells": [
    {
      "cell_type": "markdown",
      "metadata": {},
      "source": [
        "# Your First Completion\n",
        "\n",
        "Make your first API call and generate text in under 5 minutes!\n",
        "\n",
        "## TODO: Content for this notebook\n",
        "\n",
        "This notebook will cover:\n",
        "- Import the SDK and create a client\n",
        "- Write a simple prompt\n",
        "- Make your first completion call\n",
        "- See the generated text\n",
        "- Try 2-3 different prompts\n",
        "- Celebrate success! 🎉\n",
        "\n",
        "**Key outcome**: User successfully generates text with Pharia Inference and gains confidence.\n",
        "\n",
        "**Note**: No parameter explanations, no theory - just make it work!\n"
      ]
    }
  ],
  "metadata": {
    "language_info": {
      "name": "python"
    }
  },
  "nbformat": 4,
  "nbformat_minor": 2
}
