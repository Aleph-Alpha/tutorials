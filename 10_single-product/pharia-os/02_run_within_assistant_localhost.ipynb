{
  "cells": [
    {
      "cell_type": "markdown",
      "metadata": {},
      "source": [
        "# Run Within Assistant (Localhost)\n",
        "\n",
        "Testing with Pharia Assistant locally.\n"
      ]
    }
  ],
  "metadata": {
    "language_info": {
      "name": "python"
    }
  },
  "nbformat": 4,
  "nbformat_minor": 2
}
