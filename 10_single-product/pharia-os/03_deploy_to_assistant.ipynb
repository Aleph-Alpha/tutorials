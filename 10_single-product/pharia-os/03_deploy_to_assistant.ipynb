{
  "cells": [
    {
      "cell_type": "markdown",
      "metadata": {},
      "source": [
        "# Deploy to Assistant\n",
        "\n",
        "Deploying your app to Pharia Assistant.\n"
      ]
    }
  ],
  "metadata": {
    "language_info": {
      "name": "python"
    }
  },
  "nbformat": 4,
  "nbformat_minor": 2
}
