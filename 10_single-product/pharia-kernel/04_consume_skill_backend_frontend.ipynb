{
  "cells": [
    {
      "cell_type": "markdown",
      "metadata": {},
      "source": [
        "# Consume Skill via Backend + Frontend\n",
        "\n",
        "Full stack application with authentication.\n"
      ]
    }
  ],
  "metadata": {
    "language_info": {
      "name": "python"
    }
  },
  "nbformat": 4,
  "nbformat_minor": 2
}
