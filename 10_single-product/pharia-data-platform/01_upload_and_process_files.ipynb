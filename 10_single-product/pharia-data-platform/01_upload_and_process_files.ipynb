{
  "cells": [
    {
      "cell_type": "markdown",
      "metadata": {},
      "source": [
        "# Upload and Process Files\n",
        "\n",
        "Working with file uploads and processing.\n"
      ]
    }
  ],
  "metadata": {
    "language_info": {
      "name": "python"
    }
  },
  "nbformat": 4,
  "nbformat_minor": 2
}
