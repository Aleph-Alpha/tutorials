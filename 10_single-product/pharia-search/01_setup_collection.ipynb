{
  "cells": [
    {
      "cell_type": "markdown",
      "metadata": {},
      "source": [
        "# Setup Collection\n",
        "\n",
        "Setting up document collections in PhariaSearch.\n"
      ]
    }
  ],
  "metadata": {
    "language_info": {
      "name": "python"
    }
  },
  "nbformat": 4,
  "nbformat_minor": 2
}
