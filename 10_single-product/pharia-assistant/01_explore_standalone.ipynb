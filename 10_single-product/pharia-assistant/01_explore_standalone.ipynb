{
  "cells": [
    {
      "cell_type": "markdown",
      "metadata": {},
      "source": [
        "# Explore Standalone\n",
        "\n",
        "PhariaAssistant as a standalone application.\n"
      ]
    }
  ],
  "metadata": {
    "language_info": {
      "name": "python"
    }
  },
  "nbformat": 4,
  "nbformat_minor": 2
}
