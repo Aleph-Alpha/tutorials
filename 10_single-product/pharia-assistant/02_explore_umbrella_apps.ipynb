{
  "cells": [
    {
      "cell_type": "markdown",
      "metadata": {},
      "source": [
        "# Explore Umbrella Apps\n",
        "\n",
        "PhariaAssistant as umbrella for custom apps.\n"
      ]
    }
  ],
  "metadata": {
    "language_info": {
      "name": "python"
    }
  },
  "nbformat": 4,
  "nbformat_minor": 2
}
