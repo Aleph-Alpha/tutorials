{
 "cells": [
  {
   "cell_type": "markdown",
   "metadata": {},
   "source": [
    "# 6. Application Deployment - Moving to Production\n",
    "\n",
    "This section guides you through the final stage of your RAG application journey: deployment to production. After building, testing, and evaluating your application, this step makes your solution available to end users through the Pharia OS environment and Assistant interface.\n",
    "\n",
    "## Deployment Components\n",
    "\n",
    "The production deployment process involves several interconnected components:\n",
    "\n",
    "- **Pharia CLI**: A command-line interface that streamlines the deployment workflow\n",
    "- **Assistant Integration**: The user-facing interface that provides access to your application\n",
    "- **Container Registry**: Secure storage for your application container images\n",
    "\n",
    "## What You'll Learn\n",
    "\n",
    "In this section, you'll learn how to:\n",
    "\n",
    "1. Prepare your application and environment for production deployment\n",
    "2. Configure necessary credentials & environment variables\n",
    "3. Use the Pharia CLI to build, publish, and deploy your application\n",
    "4. Verify successful deployment and test with end users\n",
    "5. Manage your application's lifecycle including updates and removal\n",
    "\n",
    "## Prerequisites\n",
    "\n",
    "Before starting the deployment process, ensure you have:\n",
    "\n",
    "- **Completed Application**: A fully developed and tested RAG application\n",
    "- **Container Management**: Docker or Podman installed on your development machine\n",
    "- **Registry Access**: Credentials for the container image registry\n",
    "- **Assistant Permissions**: Access rights to deploy applications to the Assistant interface\n",
    "\n",
    "<br>\n",
    "- - - - - - - - - - - - - - - - - - - - - - - - - - - - - - - - - - - - - - - - - - - - - - - - - - - - - - - - - - - - - - - - - - - - - - \n",
    "<br>"
   ]
  },
  {
   "cell_type": "markdown",
   "metadata": {},
   "source": [
    "## 1. Setting Up Deployment Credentials\n",
    "\n",
    "### Configuring Environment Variables\n",
    "\n",
    "Before deploying your application, you need to set up the necessary environment variables that provide authentication and identify deployment targets. These variables establish the secure connection between your development environment and the production platform.\n",
    "\n",
    "> **Note:** The values for these variables are specific to your organization's Pharia installation. Obtain the correct values from your system administrator or DevOps team before proceeding.\n",
    "\n",
    "Add the following environment variables to your project's `.env` file or set them in your development environment:"
   ]
  },
  {
   "cell_type": "markdown",
   "metadata": {},
   "source": [
    "```bash\n",
    "# Pharia OS manager endpoint\n",
    "PHARIAOS_MANAGER_URL=https://os-manager.your-organization.pharia.com\n",
    "\n",
    "# Container image registry details\n",
    "IMAGE_REGISTRY=registry.your-organization.com\n",
    "IMAGE_REPOSITORY=pharia-apps\n",
    "IMAGE_REGISTRY_USER=your-registry-username\n",
    "IMAGE_REGISTRY_PASSWORD=your-registry-password\n",
    "```"
   ]
  },
  {
   "cell_type": "markdown",
   "metadata": {},
   "source": [
    "These variables serve the following purposes:\n",
    "\n",
    "- **PHARIAOS_MANAGER_URL**: The API endpoint for the Pharia OS management service\n",
    "- **IMAGE_REGISTRY**: The container registry server address\n",
    "- **IMAGE_REPOSITORY**: The path within the registry where your application images will be stored\n",
    "- **IMAGE_REGISTRY_USER**: Username for authentication with the container registry\n",
    "- **IMAGE_REGISTRY_PASSWORD**: Password for the container registry"
   ]
  },
  {
   "cell_type": "markdown",
   "metadata": {},
   "source": [
    "## 2. Deployment Process\n",
    "\n",
    "### 2.1 Building and Publishing Your Application\n",
    "\n",
    "The deployment process consists of two main steps: publishing your container image to the registry and deploying the application to the Pharia OS platform.\n",
    "\n",
    "Navigate to your application directory and run the following commands:"
   ]
  },
  {
   "cell_type": "markdown",
   "metadata": {},
   "source": [
    "```bash\n",
    "cd <your-app-name>\n",
    "npx @aleph-alpha/pharia-ai-cli publish\n",
    "```"
   ]
  },
  {
   "cell_type": "markdown",
   "metadata": {},
   "source": [
    "The `publish` command performs several operations:\n",
    "\n",
    "1. Builds a containerized version of your application\n",
    "2. Authenticates with your container registry\n",
    "3. Pushes the container image to the registry\n",
    "4. Registers the new version in the Pharia application catalog\n",
    "\n",
    "> **Note:** The publishing process may take a few minutes depending on your application size and network speed. The CLI provides progress indicators during this operation."
   ]
  },
  {
   "cell_type": "markdown",
   "metadata": {},
   "source": [
    "### 2.2 Deploying Your Application\n",
    "\n",
    "Once your application is published to the registry, deploy it to make it available to users:"
   ]
  },
  {
   "cell_type": "markdown",
   "metadata": {},
   "source": [
    "```bash\n",
    "npx @aleph-alpha/pharia-ai-cli deploy\n",
    "```\n"
   ]
  },
  {
   "cell_type": "markdown",
   "metadata": {},
   "source": [
    "\n",
    "After successful deployment, your application will be available through the Assistant interface for all authorized users.\n",
    "\n",
    "### Verifying Your Deployment\n",
    "\n",
    "To verify that your application was deployed successfully:\n",
    "\n",
    "1. Log in to the Pharia Assistant interface\n",
    "2. Look for your application in the list of available skills\n",
    "3. Test your application by asking questions related to your document collection\n",
    "4. Verify that the responses include content from your indexed documents"
   ]
  },
  {
   "cell_type": "markdown",
   "metadata": {},
   "source": [
    "### 2.3 Updating Your Application\n",
    "\n",
    "To update your application after making changes, follow the above steps to build, publish & deploy the updated version:\n",
    "\n",
    "```bash\n",
    "npx @aleph-alpha/pharia-ai-cli publish\n",
    "npx @aleph-alpha/pharia-ai-cli deploy\n",
    "```"
   ]
  },
  {
   "cell_type": "markdown",
   "metadata": {},
   "source": [
    "### 2.4 Removing Your Application\n",
    "\n",
    "If you need to remove your application from production:\n",
    "\n",
    "```bash\n",
    "cd <your-app-name>\n",
    "npx @aleph-alpha/pharia-ai-cli undeploy\n",
    "```"
   ]
  },
  {
   "cell_type": "markdown",
   "metadata": {},
   "source": [
    "The `undeploy` command:\n",
    "\n",
    "1. Removes your application from the Assistant interface\n",
    "2. Stops all running containers\n",
    "3. Releases allocated resources\n",
    "4. Maintains your container images in the registry for potential future redeployment\n",
    "\n",
    "> **Important:** Undeploying an application makes it immediately unavailable to all users. Ensure you communicate this change to stakeholders before proceeding."
   ]
  },
  {
   "cell_type": "markdown",
   "metadata": {},
   "source": [
    "## Summary\n",
    "\n",
    "In this section, you've learned how to:\n",
    "\n",
    "✅ **Configure deployment credentials** with the necessary environment variables\n",
    "\n",
    "✅ **Publish your application** as a containerized service to your organization's registry\n",
    "\n",
    "✅ **Deploy your application** to make it available through the Assistant interface\n",
    "\n",
    "✅ **Manage your application** through its lifecycle including updates and removal\n",
    "\n",
    "With your application now in production, users can leverage the power of your RAG solution to find information and get answers from your document collection. \n",
    "\n",
    "This completes the end-to-end RAG application tutorial. You now have the knowledge and skills to develop, evaluate, and deploy retrieval-augmented generation solutions using the Pharia platform."
   ]
  }
 ],
 "metadata": {
  "kernelspec": {
   "display_name": ".venv",
   "language": "python",
   "name": "python3"
  },
  "language_info": {
   "codemirror_mode": {
    "name": "ipython",
    "version": 3
   },
   "file_extension": ".py",
   "mimetype": "text/x-python",
   "name": "python",
   "nbconvert_exporter": "python",
   "pygments_lexer": "ipython3",
   "version": "3.12.9"
  }
 },
 "nbformat": 4,
 "nbformat_minor": 4
}
