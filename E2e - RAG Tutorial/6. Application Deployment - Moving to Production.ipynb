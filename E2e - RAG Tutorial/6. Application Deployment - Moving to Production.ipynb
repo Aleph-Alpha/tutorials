{
 "cells": [
  {
   "cell_type": "markdown",
   "metadata": {},
   "source": [
    "# 6. Application deployment - Moving to production\n",
    "\n",
    "This section describes the final stage of your RAG application journey: deployment to production. After building, testing, and evaluating your application, this step makes your solution available to end users through the PhariaOS environment and PhariaAssistant interface.\n",
    "\n",
    "## Deployment components\n",
    "\n",
    "The production deployment process involves several interconnected components:\n",
    "\n",
    "- **PhariaAI CLI**: A command-line interface that streamlines the deployment workflow\n",
    "- **PhariaAssistant integration**: The user-facing interface that provides access to your application\n",
    "- **Container registry**: Secure storage for your application container images\n",
    "\n",
    "## What you will learn\n",
    "\n",
    "1. How to prepare your application and environment for production deployment\n",
    "2. How to configure necessary credentials and environment variables\n",
    "3. How to use the PhariaAI CLI to build, publish, and deploy your application\n",
    "4. How to verify successful deployment in Studio, manage user access to the application and test with Assistant\n",
    "5. How to manage your application's lifecycle including updates and removal\n",
    "\n",
    "## Prerequisites\n",
    "\n",
    "Before starting the deployment process, ensure you have:\n",
    "\n",
    "- **A completed application**: A fully developed and tested RAG application\n",
    "- **Container management**: Docker or Podman installed on your development machine\n",
    "- **Registry access**: Credentials for the container image registry\n",
    "- **PhariaAssistant permissions**: Access rights to deploy applications to the PhariaAssistant interface"
   ]
  },
  {
   "cell_type": "markdown",
   "metadata": {},
   "source": [
    "## Procedure\n",
    "\n",
    "### 1. Set up deployment credentials\n",
    "\n",
    "Before deploying your application, you need to set up the necessary environment variables that provide authentication and identify deployment targets. These variables establish the secure connection between your development environment and the production platform.\n",
    "\n",
    "**Note:** The values for these variables are specific to your organisation's PhariaAI installation. Obtain the correct values from your system administrator or DevOps team before proceeding.\n",
    "\n",
    "Add the following environment variables to your project's `.env` file or set them in your development environment:"
   ]
  },
  {
   "cell_type": "markdown",
   "metadata": {},
   "source": [
    "```bash\n",
    "# PhariaOS Manager endpoint\n",
    "PHARIAOS_MANAGER_URL=https://os-manager.your-organization.pharia.com\n",
    "\n",
    "# Container image registry details\n",
    "IMAGE_REGISTRY=registry.your-organization.com\n",
    "IMAGE_REPOSITORY=pharia-apps\n",
    "IMAGE_REGISTRY_USER=your-registry-username\n",
    "IMAGE_REGISTRY_PASSWORD=your-registry-password\n",
    "```"
   ]
  },
  {
   "cell_type": "markdown",
   "metadata": {},
   "source": [
    "The variables above serve the following purposes:\n",
    "\n",
    "- **PHARIAOS_MANAGER_URL**: The API endpoint for the PhariaOS management service\n",
    "- **IMAGE_REGISTRY**: The container registry server address\n",
    "- **IMAGE_REPOSITORY**: The path within the registry where your application images are stored\n",
    "- **IMAGE_REGISTRY_USER**: Username for authentication with the container registry\n",
    "- **IMAGE_REGISTRY_PASSWORD**: Password for the container registry"
   ]
  },
  {
   "cell_type": "markdown",
   "metadata": {},
   "source": [
    "### 2. Deployment process\n",
    "\n",
    "#### 2.1 Build and publish your application\n",
    "\n",
    "The deployment process consists of two main steps: publishing your container image to the registry and deploying the application to PhariaOS.\n",
    "\n",
    "Navigate to your application directory and run the following commands:"
   ]
  },
  {
   "cell_type": "markdown",
   "metadata": {},
   "source": [
    "```bash\n",
    "cd <your-app-name>\n",
    "npx @aleph-alpha/pharia-ai-cli publish\n",
    "```"
   ]
  },
  {
   "cell_type": "markdown",
   "metadata": {},
   "source": [
    "The `publish` command performs the following operations:\n",
    "\n",
    "1. It builds a containerised version of your application\n",
    "2. It authenticates with your container registry\n",
    "3. It pushes the container image to the registry\n",
    "4. It registers the new version in the PhariaAI application catalog\n",
    "\n",
    "**Note:** The publishing process may take a few minutes depending on your application size and network speed. The CLI provides progress indicators during this operation."
   ]
  },
  {
   "cell_type": "markdown",
   "metadata": {},
   "source": [
    "#### 2.2 Deploy Your Application\n",
    "\n",
    "Once your application has been published to the registry, the next step is deployment to make it accessible to end users.\n",
    "\n",
    "Studio provides centralized management for your deployed applications, including user access control and application monitoring.\n",
    "\n",
    "To link your application to your Studio project, you'll need to retrieve the project ID from the Studio URL (e.g., `https://pharia-studio.your-organization.pharia.com/projects/<projectID>/playground`) and add it as a configuration option."
   ]
  },
  {
   "cell_type": "markdown",
   "metadata": {},
   "source": [
    "```bash\n",
    "npx @aleph-alpha/pharia-ai-cli deploy --project <PROJECT ID>\n",
    "```\n"
   ]
  },
  {
   "cell_type": "markdown",
   "metadata": {},
   "source": [
    "\n",
    "After successful deployment, your application is available through the PhariaAssistant interface for all authorised users.\n",
    "\n",
    "#### 2.3 Verify your deployment\n",
    "\n",
    "To verify that your application was deployed successfully:\n",
    "\n",
    "1. Go to the PhariaStudio interface\n",
    "2. Look for your application in the list of available applications\n",
    "3. The status of your application should be \"Deployed\" (If you ran the deployment just now, it might still be \"Registered\", give it some more minutes to finish the deployment process.)\n",
    "4. With the \"Who has access\" button you can add add any Pharia user to access the application\n",
    "5. Click on \"Open in Assistant\" to view the application in Assistant\n",
    "3. Test your application by asking questions related to your document collection\n",
    "4. Verify that the responses include content from your indexed documents"
   ]
  },
  {
   "cell_type": "markdown",
   "metadata": {},
   "source": [
    "#### 2.4 Update your application\n",
    "\n",
    "To update your application after making changes, follow the above steps to build, publish and deploy the updated version:\n",
    "\n",
    "```bash\n",
    "npx @aleph-alpha/pharia-ai-cli publish\n",
    "npx @aleph-alpha/pharia-ai-cli deploy --project <PROJECT ID>\n",
    "```"
   ]
  },
  {
   "cell_type": "markdown",
   "metadata": {},
   "source": [
    "#### 2.5 Remove your application\n",
    "\n",
    "If you need to remove your application from production, do the following:\n",
    "\n",
    "```bash\n",
    "cd <your-app-name>\n",
    "npx @aleph-alpha/pharia-ai-cli undeploy\n",
    "```"
   ]
  },
  {
   "cell_type": "markdown",
   "metadata": {},
   "source": [
    "You can undeploy an application also via the PhariaStudio interface.\n",
    "\n",
    "The `undeploy` command performs the following operations:\n",
    "\n",
    "1. It removes your application from the PhariaAssistant interface\n",
    "2. It stops all running containers\n",
    "3. It releases allocated resources\n",
    "4. It maintains your container images in the registry for potential future redeployment\n",
    "\n",
    "**Important:** Undeploying an application makes it immediately unavailable to all users. Ensure you communicate this change to stakeholders before proceeding."
   ]
  },
  {
   "cell_type": "markdown",
   "metadata": {},
   "source": [
    "## Summary\n",
    "\n",
    "In this section, you deployed your RAG application to production:\n",
    "\n",
    "✅ **Configured deployment credentials** with the necessary environment variables\n",
    "\n",
    "✅ **Published your application** as a containerised service to your organisation's registry\n",
    "\n",
    "✅ **Deployed your application** to make it available through the PhariaAssistant interface\n",
    "\n",
    "✅ **Managed your application** through its lifecycle including updates and removal\n",
    "\n",
    "With your application now in production, users can leverage the power of your RAG solution to find information and get answers from your document collection. \n",
    "\n",
    "## The end\n",
    "\n",
    "Congratulations! You have completed our end-to-end RAG application tutorial. You now have the knowledge and skills to develop, evaluate, and deploy retrieval-augmented generation (RAG) solutions using the PhariaAI platform."
   ]
  }
 ],
 "metadata": {
  "kernelspec": {
   "display_name": "Python 3",
   "language": "python",
   "name": "python3"
  },
  "language_info": {
   "codemirror_mode": {
    "name": "ipython",
    "version": 3
   },
   "file_extension": ".py",
   "mimetype": "text/x-python",
   "name": "python",
   "nbconvert_exporter": "python",
   "pygments_lexer": "ipython3",
   "version": "3.11.11"
  }
 },
 "nbformat": 4,
 "nbformat_minor": 4
}
