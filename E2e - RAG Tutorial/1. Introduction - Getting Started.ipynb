{
 "cells": [
  {
   "cell_type": "markdown",
   "metadata": {},
   "source": [
    "# Building a RAG Application with Aleph-Alpha PhariaAI: An End-to-End Tutorial\n",
    "\n",
    "# 1. Introduction - Getting started\n",
    "\n",
    "Welcome to PhariaAI! This is our end-to-end tutorial for building a retrieval-augmented generation (RAG) application with PhariaAI. In this tutorial, you will create a complete system that can accurately answer questions based on your own document collection.\n",
    "\n",
    "## What you will build\n",
    "\n",
    "You will build a fully functional RAG application that:\n",
    "- Processes and indexes your documents\n",
    "- Retrieves relevant information based on queries\n",
    "- Generates accurate AI responses grounded in your data\n",
    "- Can be evaluated and optimised for performance\n",
    "\n",
    "## Tutorial roadmap\n",
    "\n",
    "| # | Stage | Focus | Key Components |\n",
    "|---|-------|-------|----------------|\n",
    "| 1 | **User setup** | Access & permissions | *StudioUser*, *OSUser*, *AssistantUser* permissions|\n",
    "| 2 | **Quick start app** | Q&A implementation | Building a question-answering interface |\n",
    "| 3 | **Data setup** | Document processing | Repositories, collections, indexing, ingestion |\n",
    "| 4 | **Skill setup** | Customisation | Developing Skills with PhariaStudio tracing |\n",
    "| 5 | **Evaluation** | Quality assessment | Testing accuracy of retrieval and answers |\n",
    "| 6 | **Deployment** | Production | PhariaOS deployment and PhariaAssistant integration |\n",
    "\n",
    "Let's begin building your intelligent RAG application!"
   ]
  },
  {
   "cell_type": "markdown",
   "metadata": {},
   "source": [
    "---"
   ]
  },
  {
   "cell_type": "markdown",
   "metadata": {},
   "source": [
    "# 1. User setup and prerequisites\n",
    "<a id=\"user-setup\"></a>\n",
    "\n",
    "\n",
    "Before you begin, ensure you have the following access permissions:\n",
    "\n",
    "## Required permissions\n",
    "\n",
    "| Permission | What it provides |\n",
    "|------------|------------------|\n",
    "| ***StudioUser*** | • Access to PhariaStudio<br>• The \"Studio\" namespace in PhariaDocument Index for testing |\n",
    "| ***OSUser*** | • The ability to deploy applications in the PhariaAI environment |\n",
    "| ***AssistantUser*** | • Access to PhariaAssistant<br>• The \"Assistant\" namespace in PhariaDocument Index<br>• *Note: PhariaAssistant can only access this namespace* |\n",
    "\n",
    "To verify your permissions or request access, contact your PhariaAI administrator.\n",
    "\n",
    "## Required libraries\n",
    "\n",
    "You must have the following libraries installed locally:\n",
    "- Node.js version 20.0 or higher\n",
    "- pnpm version 9.1 or higher\n",
    "- uv\n",
    "\n",
    "Your Python version must be:\n",
    "- 3.11 (only)\n",
    "\n",
    "## Installation of python dependencies\n",
    "\n",
    "This tutorial uses various Python packages. Please make sure to install them by using the `pyproject.toml` file using `uv`:\n",
    "\n",
    "1. **Navigate to the tutorial directory:**\n",
    "   ```bash\n",
    "   cd path/to/your/tutorial/directory\n",
    "   ```\n",
    "\n",
    "2. **Create the virtual environment and install all dependencies:**\n",
    "   ```bash\n",
    "   uv venv --python 3.11\n",
    "   uv sync\n",
    "   ```\n",
    "\n",
    "3. **Activate the virtual environment:**\n",
    "   \n",
    "   **On macOS/Linux:**\n",
    "   ```bash\n",
    "   source .venv/bin/activate\n",
    "   ```\n",
    "   \n",
    "   **On Windows:**\n",
    "   ```bash\n",
    "   .venv\\Scripts\\activate\n",
    "   ```\n",
    "\n",
    "**Note:** Keep the terminal session with the virtual environment active throughout the tutorial, as you'll need use a few terminal commands for this project.\n"
   ]
  },
  {
   "cell_type": "markdown",
   "metadata": {},
   "source": [
    "---"
   ]
  }
 ],
 "metadata": {
  "kernelspec": {
   "display_name": "Python 3",
   "language": "python",
   "name": "python3"
  },
  "language_info": {
   "codemirror_mode": {
    "name": "ipython",
    "version": 3
   },
   "file_extension": ".py",
   "mimetype": "text/x-python",
   "name": "python",
   "nbconvert_exporter": "python",
   "pygments_lexer": "ipython3",
   "version": "3.11.11"
  }
 },
 "nbformat": 4,
 "nbformat_minor": 4
}
