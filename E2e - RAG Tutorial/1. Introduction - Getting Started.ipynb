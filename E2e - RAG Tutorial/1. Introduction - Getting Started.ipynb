{
 "cells": [
  {
   "cell_type": "markdown",
   "metadata": {},
   "source": [
    "# Building a RAG Application with PhariaAI: End-to-End Tutorial\n",
    "\n",
    "# 1. Introduction - Getting Started\n",
    "\n",
    "Welcome to this hands-on guide for building a Retrieval-Augmented Generation (RAG) application with Pharia. You'll create a complete system that can accurately answer questions based on your own document collection.\n",
    "\n",
    "## What You'll Build\n",
    "\n",
    "A fully functional RAG application that:\n",
    "- Processes and indexes your documents\n",
    "- Retrieves relevant information based on queries\n",
    "- Generates accurate AI responses grounded in your data\n",
    "- Can be evaluated and optimized for performance\n",
    "\n",
    "## Tutorial Roadmap\n",
    "\n",
    "| # | Stage | Focus | Key Components |\n",
    "|---|-------|-------|----------------|\n",
    "| 1 | **User Setup** | Access & Permissions | StudioUser, OSUser, AssistantUser |\n",
    "| 2 | **Quick Start App** | Q&A Implementation | Building a question-answering interface |\n",
    "| 3 | **Data Setup** | Document Processing | Repositories, collections, indexing, ingestion |\n",
    "| 4 | **Skill Setup** | Customization | Developing kernel skills with Studio tracing |\n",
    "| 5 | **Evaluation** | Quality Assessment | Testing accuracy of retrieval and answers |\n",
    "| 6 | **Deployment** | Production | OS deployment and Assistant integration |\n",
    "\n",
    "Let's begin building your intelligent RAG application!"
   ]
  },
  {
   "cell_type": "markdown",
   "metadata": {},
   "source": [
    "---"
   ]
  },
  {
   "cell_type": "markdown",
   "metadata": {},
   "source": [
    "# 1. User Setup and Prerequisites\n",
    "\n",
    "Before you begin, ensure you have the following access permissions:\n",
    "\n",
    "## Required Permissions\n",
    "\n",
    "| Permission | What It Provides |\n",
    "|------------|------------------|\n",
    "| **StudioUser** | • Access to Studio<br>• \"Studio\" namespace in Document Index for testing |\n",
    "| **OSUser** | • Ability to deploy applications in the Pharia environment |\n",
    "| **AssistantUser** | • Access to the Assistant application<br>• \"Assistant\" namespace in Document Index<br>• *Note: Assistant can only access this namespace* |\n",
    "\n",
    "To verify your permissions or request access, contact your Pharia administrator.\n",
    "\n",
    "## Required Libraries\n",
    "\n",
    "You have the following libraries installed locally:\n",
    "- Node.js version 20.0 or higher\n",
    "- pnpm version 9.1 or higher\n",
    "- uv\n",
    "- poetry\n",
    "\n",
    "Your Python version is:\n",
    "- 3.11\n"
   ]
  },
  {
   "cell_type": "markdown",
   "metadata": {},
   "source": [
    "---"
   ]
  }
 ],
 "metadata": {
  "kernelspec": {
   "display_name": "Python 3",
   "language": "python",
   "name": "python3"
  },
  "language_info": {
   "codemirror_mode": {
    "name": "ipython",
    "version": 3
   },
   "file_extension": ".py",
   "mimetype": "text/x-python",
   "name": "python",
   "nbconvert_exporter": "python",
   "pygments_lexer": "ipython3",
   "version": "3.11.11"
  }
 },
 "nbformat": 4,
 "nbformat_minor": 4
}
