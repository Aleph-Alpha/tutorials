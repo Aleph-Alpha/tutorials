{
 "cells": [
  {
   "cell_type": "markdown",
   "metadata": {},
   "source": [
    "# 2. Application setup - Creating a boilerplate Q&A app\n",
    "\n",
    "In this tutorial, you create a functional question-and-answer application using the PhariaAI Custom Applications quick-start guide. Your interactive Q&A tool will respond to natural language queries.\n",
    "\n",
    "The Q&A app you build acts as the user-facing layer of your RAG system, connecting the document index with large language models to provide contextually relevant answers based on your specific document collection.\n",
    "\n",
    "## Application components\n",
    "\n",
    "The PhariaAI Q&A app architecture consists of several interconnected elements:\n",
    "\n",
    "- **PhariaAI CLI**: Command-line interface for scaffolding, creating, and managing applications\n",
    "- **Configuration files**: Define how your app accesses document collections and language models\n",
    "- **User interface**: Provides a web-based interface for users to submit questions and receive answers\n",
    "- **Service layer**: Handles request processing and orchestrates the retrieval and generation workflow\n",
    "- **Skill component**: Implements the core RAG logic that retrieves documents and generates answers\n",
    "\n",
    "## What you will do next\n",
    "\n",
    "1. Set up a new Q&A app using the PhariaAI CLI with the specialised `qa` template\n",
    "2. Configure the app components to access your document collection\n",
    "3. Customise the app settings for optimal retrieval and response performance\n",
    "4. Deploy your app for local testing and production environments\n",
    "\n",
    "## Prerequisites\n",
    "\n",
    "Before starting, ensure your PhariaAI installation satisfies the following prerequisites:\n",
    "\n",
    "- **PhariaAI version**: You are running PhariaAI version 0.52.4 or higher\n",
    "- **Custom Skills support**: Enabled in your PhariaAI instance with default PhariaKernel namespace names; and you have the credentials for the OCI registry\n",
    "- **Custom applications support**: Enabled in your PhariaAI instance and you have the credentials for the OCI registry\n",
    "- **Platform components**: You have enabled PhariaAssistant, PhariaOS Manager, PhariaKernel, and PhariaStudio, and you have the URLs to access them\n",
    "\n",
    "As a PhariaAI developer, you also need:\n",
    "\n",
    "- **API token**: A valid Aleph Alpha API token with appropriate permissions\n",
    "- **Component URLS**: You have the URLs to access PhariaAssistant, PhariaKernel, and PhariaStudio\n",
    "- **Permissions**: The *StudioUser* permission, as described in [User Setup](1.%20Introduction%20-%20Getting%20Started.ipynb#user-setup)"
   ]
  },
  {
   "cell_type": "markdown",
   "metadata": {},
   "source": [
    "### 1. Create a new custom app in PhariaAI\n",
    "\n",
    "The first step is to create the application scaffold using the PhariaAI CLI. This tool automatically generates the necessary files and folder structure for a complete app. The generated app includes the main components:\n",
    "\n",
    "* a user interface\n",
    "* a backend service\n",
    "* a Skill that contains the core app logic\n",
    "\n",
    "Run the following command in your terminal:"
   ]
  },
  {
   "cell_type": "code",
   "execution_count": null,
   "metadata": {
    "vscode": {
     "languageId": "powershell"
    }
   },
   "outputs": [],
   "source": [
    "npx @aleph-alpha/pharia-ai-cli create"
   ]
  },
  {
   "cell_type": "markdown",
   "metadata": {},
   "source": [
    "The CLI prompts you to provide configuration information for your new application. First, it will ask for an application name:"
   ]
  },
  {
   "cell_type": "markdown",
   "metadata": {},
   "source": [
    "```python\n",
    "✔ Please provide a new app name › <your-app-name>\n",
    "```"
   ]
  },
  {
   "cell_type": "markdown",
   "metadata": {},
   "source": [
    "Enter the name: \"rag_tutorial\"."
   ]
  },
  {
   "cell_type": "markdown",
   "metadata": {},
   "source": [
    "Next, the CLI asks you to select a template. Templates provide pre-configured application structures optimised for different use cases:"
   ]
  },
  {
   "cell_type": "markdown",
   "metadata": {},
   "source": [
    "```python\n",
    "✔ Please select a template › base / summary / qa\n",
    "```"
   ]
  },
  {
   "cell_type": "markdown",
   "metadata": {},
   "source": [
    "Select the `qa` template."
   ]
  },
  {
   "cell_type": "markdown",
   "metadata": {},
   "source": [
    "### 2. Set up application components\n",
    "\n",
    "After creating the application scaffold, we need to set up each component individually. The application consists of three main parts that operate together:\n",
    "- the user interface (UI)\n",
    "- the service, that is, the application backend\n",
    "- the Skill, that is, the application logic\n",
    "\n",
    "Each component requires its own dependencies to be installed and its environment to be configured.\n",
    "\n",
    "We need to use separate terminal sessions for each component, as the components run simultaneously during development."
   ]
  },
  {
   "cell_type": "markdown",
   "metadata": {},
   "source": [
    "#### 2.1 Configure the application UI\n",
    "\n",
    "The UI component provides the web interface that users interact with. It's built using modern web technologies and needs to be configured with authentication to communicate with the PhariaAI platform.\n",
    "\n",
    "**Note**: To get a token, see the PhariaAI documentation article: [How to obtain a bearer token in PhariaStudio](https://docs.aleph-alpha.com/products/pharia-ai/pharia-studio/tutorial/add-intelligence-layer/#set-your-environment-variables).\n",
    "\n",
    "In your terminal, enter the following commands:"
   ]
  },
  {
   "cell_type": "code",
   "execution_count": null,
   "metadata": {
    "vscode": {
     "languageId": "powershell"
    }
   },
   "outputs": [],
   "source": [
    "cd <your-app-name>/ui\n",
    "pnpm install"
   ]
  },
  {
   "cell_type": "markdown",
   "metadata": {},
   "source": [
    "Before starting the UI, you need to set up authentication. Open the environment file and set your bearer token in `<your-app-name>/ui/.env.` with the identifier `VITE_USER_TOKEN=<your-bearer-token>`"
   ]
  },
  {
   "cell_type": "markdown",
   "metadata": {},
   "source": [
    "Now start the UI development server:"
   ]
  },
  {
   "cell_type": "code",
   "execution_count": null,
   "metadata": {
    "vscode": {
     "languageId": "powershell"
    }
   },
   "outputs": [],
   "source": [
    "pnpm run dev"
   ]
  },
  {
   "cell_type": "markdown",
   "metadata": {},
   "source": [
    "#### 2.2 Configure the application service\n",
    "\n",
    "The service component functions as the backend for your application. It handles API requests from the UI, manages application state, and communicates with the Skill component to process user queries. It's built with Python and runs as a web server.\n",
    "\n",
    "In your terminal, enter the following commands:"
   ]
  },
  {
   "cell_type": "code",
   "execution_count": null,
   "metadata": {
    "vscode": {
     "languageId": "powershell"
    }
   },
   "outputs": [],
   "source": [
    "cd <your-app-name>/service"
   ]
  },
  {
   "cell_type": "markdown",
   "metadata": {},
   "source": [
    "**Important**: Before setting up the service, ensure your environment is properly configured:"
   ]
  },
  {
   "cell_type": "markdown",
   "metadata": {},
   "source": [
    "- Ensure your local Python version matches the one specified in pyproject.toml. For example, you can use the command `pyenv install x.x.x && pyenv local x.x.x`; see https://github.com/pyenv/pyenv\n",
    "- Verify that any missing environment variables are set in <your-app-name>/service/.env"
   ]
  },
  {
   "cell_type": "markdown",
   "metadata": {},
   "source": [
    "Now install the dependencies and start the service:"
   ]
  },
  {
   "cell_type": "code",
   "execution_count": null,
   "metadata": {
    "vscode": {
     "languageId": "powershell"
    }
   },
   "outputs": [],
   "source": [
    "uv sync --dev\n",
    "uv run dev"
   ]
  },
  {
   "cell_type": "markdown",
   "metadata": {},
   "source": [
    "#### 2.3 Configure the application Skill\n",
    "\n",
    "The Skill component contains the core logic of your application, including document retrieval and answer generation. Unlike the UI and service components, the Skill is designed to be executed by the PhariaKernel platform rather than running directly on your local machine. However, we need to set up the development environment locally.\n",
    "\n",
    "First, configure the environment variables for the OCI registry, which are used to publish the skill. This refers to the .env file in the project root:\n",
    "\n",
    "```bash\n",
    "SKILL_REGISTRY=registry.your-organisation.com\n",
    "SKILL_REPOSITORY=your-pharia-skills-repository\n",
    "SKILL_REGISTRY_USER=your-registry-username\n",
    "SKILL_REGISTRY_TOKEN=your-registry-password\n",
    "```"
   ]
  },
  {
   "cell_type": "markdown",
   "metadata": {},
   "source": [
    "Navigate to the skill directory and set up the environment:"
   ]
  },
  {
   "cell_type": "code",
   "execution_count": null,
   "metadata": {
    "vscode": {
     "languageId": "powershell"
    }
   },
   "outputs": [],
   "source": [
    "cd <your-app-name>/skill"
   ]
  },
  {
   "cell_type": "markdown",
   "metadata": {},
   "source": [
    "Load the environment variables and install dependencies:"
   ]
  },
  {
   "cell_type": "code",
   "execution_count": null,
   "metadata": {
    "vscode": {
     "languageId": "powershell"
    }
   },
   "outputs": [],
   "source": [
    "set -a && source ../.env\n",
    "uv sync --dev"
   ]
  },
  {
   "cell_type": "markdown",
   "metadata": {},
   "source": [
    "#### 2.4 Conclusion \n",
    "\n",
    "Congratulations! You now have your first custom PhariaAI application up and running. To see your application in action, simply visit the application UI URL. The user interface is already set up to communicate with the application service, and the application service is configured to work with the application Skill.\n",
    "\n",
    "**Note**: API calls from the application service to the Skill will fail! This is because the Skill needs to be served through PhariaKernel. To resolve this, you publish the Skill so that it can be served through your PhariaKernel instance.\n"
   ]
  },
  {
   "cell_type": "markdown",
   "metadata": {},
   "source": [
    "### 3. Publish the Skill\n",
    "\n",
    "Although your application is running locally, there remains a critical step to cover before it is fully functional. Currently, the Skill component is only accessible locally; it is not yet available to PhariaKernel. To solve this, we need to build and publish the Skill to the registry, making it available for production use.\n"
   ]
  },
  {
   "cell_type": "markdown",
   "metadata": {},
   "source": [
    "In your terminal, ensure you are in the Skill folder (for example, enter `cd <your-app-name>/skill`). First, you build the Skill. This process packages your code and dependencies into a container that can be deployed on PhariaKernel:"
   ]
  },
  {
   "cell_type": "code",
   "execution_count": null,
   "metadata": {
    "vscode": {
     "languageId": "powershell"
    }
   },
   "outputs": [],
   "source": [
    "cd <your-app-name>/skill\n",
    "uv run pharia-skill build qa"
   ]
  },
  {
   "cell_type": "markdown",
   "metadata": {},
   "source": [
    "Now, you are asked to publish the Skill to the registry. This makes it accessible to the PhariaKernel service.\n",
    "\n",
    "You are asked to provide both a name and a tag for your Skill when publishing it. For this example, we choose the name ```qa-rag-tutorial```\n",
    "\n",
    "**Note**:  Ensure that your chosen Skill name is unique. If you use an existing Skill's name, the Skill with that name will be replaced!"
   ]
  },
  {
   "cell_type": "markdown",
   "metadata": {},
   "source": [
    "The response looks something like this:"
   ]
  },
  {
   "cell_type": "markdown",
   "metadata": {},
   "source": [
    "```bash\n",
    "╭────────────────────────────────── Publish Successful ──────────────────────────────────╮\n",
    "│                                                                                        │\n",
    "│  Skill: qa-rag-tutorial                                                                │\n",
    "│  Tag: latest                                                                           │\n",
    "│  Registry: <your-registry>/skills                                                      │\n",
    "│                                                                                        │\n",
    "│  Published in 11.14 seconds                                                            │\n",
    "│                                                                                        │\n",
    "╰────────────────────────────────────────────────────────────────────────────────────────\n",
    "```"
   ]
  },
  {
   "cell_type": "markdown",
   "metadata": {},
   "source": [
    "The last step is to configure PhariaKernel to recognise and serve your Skill. Update your ```namespace.toml``` file (ask your PhariaAI Operator for the location of this file) by adding the new Skill entry. Once updated, your application is ready to use the published Skill."
   ]
  },
  {
   "cell_type": "markdown",
   "metadata": {},
   "source": [
    "### 4. Adjust the routing configuration\n",
    "\n",
    "After publishing your Skill, you need to connect your application's service component to the published Skill. This requires updating the routing configuration in your service component to point to the correct namespace and Skill name.\n",
    "\n",
    "The service component acts as a bridge between the UI and the Skill, passing requests and responses between them. By default, the service is configured to use a Skill named \"qa\" in the \"app\" namespace, but we need to update this to match our published Skill.\n",
    "\n",
    "To be able to connect the UI to the Skill you just published, we adjust the `<Application-name>/service/source/routes.py` file to point to the correct namespace and skill. In this file, you need to update the following line of code:\n",
    "\n",
    "```python\n",
    "skill = Skill(namespace=\"app\", name=\"qa\")"
   ]
  },
  {
   "cell_type": "markdown",
   "metadata": {},
   "source": [
    "In most of our deployments, the namespace in which PhariaKernel is running is called \"playground\", and the Skill has the name you gave it. So in our example, we need to replace the above line with:"
   ]
  },
  {
   "cell_type": "markdown",
   "metadata": {},
   "source": [
    "```python\n",
    "skill = Skill(namespace=\"playground\", name=\"qa-rag-tutorial\")"
   ]
  },
  {
   "cell_type": "markdown",
   "metadata": {},
   "source": [
    "As we have not adjusted the Skill yet, it still points to the example collection we set up, which contains papers regarding transformers. Although we will change this in the next part of the tutorial, when previewing your application now, you can ask questions like: \"What is an encoder?\""
   ]
  },
  {
   "cell_type": "markdown",
   "metadata": {},
   "source": [
    "After these changes, you need to restart the service component to point to the changed namespace and Skill. First, enter Ctrl-C in your terminal to stop the service, and then start it again with this:"
   ]
  },
  {
   "cell_type": "code",
   "execution_count": null,
   "metadata": {
    "vscode": {
     "languageId": "powershell"
    }
   },
   "outputs": [],
   "source": [
    "uv sync --dev\n",
    "uv run dev"
   ]
  },
  {
   "cell_type": "markdown",
   "metadata": {},
   "source": [
    "### 5. Preview your application\n",
    "\n",
    "With your application components set up, Skill published, and routing configured, you can now preview and test your application. The PhariaAI platform provides tools for previewing applications locally before making them available to all users.\n",
    "\n",
    "The preview process allows you to test your application in a development environment, ensuring everything is working correctly before deploying to production. During preview, your application runs locally but connects to the published Skill through PhariaKernel.\n",
    "\n",
    "**Note**: Before using the `pharia-ai-cli` command below, ensure all necessary environment variables are configured correctly in `<your-app-name>/.env`.\n",
    "\n",
    "To preview your application, run the following command:"
   ]
  },
  {
   "cell_type": "code",
   "execution_count": null,
   "metadata": {
    "vscode": {
     "languageId": "powershell"
    }
   },
   "outputs": [],
   "source": [
    "cd <your-app-name>\n",
    "npx @aleph-alpha/pharia-ai-cli preview"
   ]
  },
  {
   "cell_type": "markdown",
   "metadata": {},
   "source": [
    "This command starts your application in a local development mode and provides a URL that you can add to PhariaAssistant for testing:"
   ]
  },
  {
   "cell_type": "markdown",
   "metadata": {},
   "source": [
    "Copy the preview URL and follow the instructions in [How to use developer mode in PhariaAssistant](https://docs.aleph-alpha.com/products/pharia-ai/pharia-assistant/use-dev-mode/). (You need to add the URL to the Developer Mode Server URL list in PhariaAssistant.)\n",
    "\n",
    "Your application now appears in PhariaAssistant's left sidebar."
   ]
  },
  {
   "cell_type": "markdown",
   "metadata": {},
   "source": [
    "### 6. Conclusion\n",
    "\n",
    "In this section, you successfully created and deployed a PhariaAI Q&A application that can answer questions based on your document collection:\n",
    "\n",
    "✅ **Created the application scaffold** using the PhariaAI CLI with the `qa` template, which generated:\n",
    "   - A responsive user interface for submitting questions\n",
    "   - A backend service to handle requests\n",
    "   - A Skill component that implements the RAG logic\n",
    "\n",
    "✅ **Set up and configured all components**:\n",
    "   - Installed dependencies for each component\n",
    "   - Set up authentication and environment variables\n",
    "   - Started each component in development mode\n",
    "\n",
    "✅ **Published the Skill to the registry**:\n",
    "   - Built the Skill container with all necessary dependencies\n",
    "   - Published it to the OCI registry for use by PhariaKernel\n",
    "   - Updated your service configuration to point to the published Skill\n",
    "\n",
    "✅ **Previewed and tested the application**:\n",
    "   - Started the application in preview mode\n",
    "   - Connected it to PhariaAssistant for testing\n",
    "   - Verified proper document retrieval and answer generation\n",
    "\n",
    "Your Q&A application now provides a complete interface for users to ask questions about your document collection and receive contextually relevant answers generated by the language model while being grounded in your documents.\n",
    "\n",
    "In the next section, you will customise your Skill to connect to your specific document collection and finetune its behaviour for your use case."
   ]
  }
 ],
 "metadata": {
  "kernelspec": {
   "display_name": ".venv",
   "language": "python",
   "name": "python3"
  },
  "language_info": {
   "codemirror_mode": {
    "name": "ipython",
    "version": 3
   },
   "file_extension": ".py",
   "mimetype": "text/x-python",
   "name": "python",
   "nbconvert_exporter": "python",
   "pygments_lexer": "ipython3",
   "version": "3.12.9"
  }
 },
 "nbformat": 4,
 "nbformat_minor": 4
}
