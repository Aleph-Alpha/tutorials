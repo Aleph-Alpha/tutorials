{
 "cells": [
  {
   "cell_type": "markdown",
   "metadata": {},
   "source": [
    "# 2. Application Setup - Creating a Boilerplate QA App\n",
    "\n",
    "This section guides you through creating a functional question-answering application using the PhariaAI applications quick start guide. You'll leverage the document collection you set up in the previous section and transform it into an interactive Q&A tool that can respond to natural language queries.\n",
    "\n",
    "The Q&A application we'll build acts as the user-facing layer of your RAG system, connecting the document index with large language models to provide contextually relevant answers based on your specific document collection.\n",
    "\n",
    "## Application Components\n",
    "\n",
    "The PhariaAI Q&A application architecture consists of several interconnected elements:\n",
    "\n",
    "- **Pharia CLI**: Command-line interface for scaffolding, creating, and managing applications\n",
    "- **Configuration Files**: Define how your application accesses document collections and language models\n",
    "- **User Interface**: Provides a web-based interface for users to submit questions and receive answers\n",
    "- **Service Layer**: Handles request processing and orchestrates the retrieval and generation workflow\n",
    "- **Skill Component**: Implements the core RAG logic that retrieves documents and generates answers\n",
    "\n",
    "## What You'll Learn\n",
    "\n",
    "In this section, you'll learn how to:\n",
    "\n",
    "1. Set up a new Q&A application using the Pharia CLI with the specialized qa template\n",
    "2. Configure the application components to access your document collection\n",
    "3. Customize the application settings for optimal retrieval and response performance\n",
    "4. Deploy your application for local testing and production environments\n",
    "\n",
    "## Prerequisites\n",
    "\n",
    "Before starting, ensure you have the following in your Pharia Setup:\n",
    "\n",
    "- **PhariaAI Version**: You are running PhariaAI version 0.52.4 or higher\n",
    "- **Custom Skills Support**: Enabled in your PhariaAI instance with a default kernel namespace named app created and you have the credentials for the OCI registry\n",
    "- **Custom Applications Support**: Enabled in your PhariaAI instance and you have the credentials for the OCI registry\n",
    "- **Platform Components**: You have enabled PhariaAssistant, PhariaOS Manager, PhariaKernel, and PhariaStudio and you have the URLs to access them\n",
    "\n",
    "As a User make sure to have:\n",
    "\n",
    "- **API Token**: A valid Aleph Alpha API token with appropriate permissions\n",
    "- **Components URLS**: You have the URLs to access PhariaAssistant, PhariaKernel, and PhariaStudio\n",
    "- **Permissions**: StudioUser permission as described in the User Setup section\n",
    "\n",
    "<br>\n",
    "- - - - - - - - - - - - - - - - - - - - - - - - - - - - - - - - - - - - - - - - - - - - - - - - - - - - - - - - - - - - - - - - - - - - - - \n",
    "<br>"
   ]
  },
  {
   "cell_type": "markdown",
   "metadata": {},
   "source": [
    "### 1. Creating a New PhariaAI Application\n",
    "\n",
    "Our first step is to create the application scaffold using the PhariaAI CLI. This tool automatically generates the necessary files and folder structure for a complete application. When we create a new application, the CLI will generate three main components: a user interface, a backend service, and a skill that contains the core application logic.\n",
    "\n",
    "The generated application includes the following:\n",
    "* a PhariaAI application UI\n",
    "* a PhariaAI application service\n",
    "* a PhariaAI application skill\n",
    "\n",
    "Run the command below in your terminal:"
   ]
  },
  {
   "cell_type": "code",
   "execution_count": null,
   "metadata": {
    "vscode": {
     "languageId": "powershell"
    }
   },
   "outputs": [],
   "source": [
    "npx @aleph-alpha/pharia-ai-cli create"
   ]
  },
  {
   "cell_type": "markdown",
   "metadata": {},
   "source": [
    "The CLI will prompt you to provide configuration information for your new application. First, it will ask for an application name:"
   ]
  },
  {
   "cell_type": "markdown",
   "metadata": {},
   "source": [
    "```python\n",
    "✔ Please provide a new app name › <your-app-name>\n",
    "```"
   ]
  },
  {
   "cell_type": "markdown",
   "metadata": {},
   "source": [
    "> Enter the name: \"rag_tutorial\""
   ]
  },
  {
   "cell_type": "markdown",
   "metadata": {},
   "source": [
    "Next, the CLI will ask you to select a template. Templates provide pre-configured application structures optimized for different use cases:"
   ]
  },
  {
   "cell_type": "markdown",
   "metadata": {},
   "source": [
    "```python\n",
    "✔ Please select a template › base / summary / qa\n",
    "```"
   ]
  },
  {
   "cell_type": "markdown",
   "metadata": {},
   "source": [
    "> For our RAG application, select the **qa** template."
   ]
  },
  {
   "cell_type": "markdown",
   "metadata": {},
   "source": [
    "### 2. Setting Up Application Components\n",
    "\n",
    "After creating the application scaffold, we need to set up each component individually. The application consists of three main parts that operate together: the UI (user interface), the service (backend), and the skill (application logic). Each component needs its own dependencies installed and environment configured.\n",
    "\n",
    "We'll need to use separate terminal sessions for each component, as they'll be running simultaneously during development."
   ]
  },
  {
   "cell_type": "markdown",
   "metadata": {},
   "source": [
    "<br>\n",
    "- - - - - - - - - - - - - - - - - - - - - - - - - - -\n",
    "<br>"
   ]
  },
  {
   "cell_type": "markdown",
   "metadata": {},
   "source": [
    "#### 2.1 PhariaAI Application UI\n",
    "\n",
    "The UI component provides the web interface that users will interact with. It's built using modern web technologies and needs to be configured with authentication to communicate with the Pharia platform.\n",
    "\n",
    "> **Note**: To get a token, see: How to obtain a Bearer token in Pharia Studio https://docs.aleph-alpha.com/products/pharia-ai/pharia-studio/tutorial/add-intelligence-layer/#set-your-environment-variables\n",
    "\n",
    "In your Terminal use the following commands:"
   ]
  },
  {
   "cell_type": "code",
   "execution_count": null,
   "metadata": {
    "vscode": {
     "languageId": "powershell"
    }
   },
   "outputs": [],
   "source": [
    "cd <your-app-name>/ui\n",
    "pnpm install"
   ]
  },
  {
   "cell_type": "markdown",
   "metadata": {},
   "source": [
    "Before starting the UI, you need to set up authentication. Open the environment file and add your Pharia API token -> Set your Pharia AI user token in `<your-app-name>/ui/.env.` with the identifier `VITE_USER_TOKEN=<your-bearer-token>`"
   ]
  },
  {
   "cell_type": "markdown",
   "metadata": {},
   "source": [
    "Now you can start the UI development server:"
   ]
  },
  {
   "cell_type": "code",
   "execution_count": null,
   "metadata": {
    "vscode": {
     "languageId": "powershell"
    }
   },
   "outputs": [],
   "source": [
    "pnpm run dev"
   ]
  },
  {
   "cell_type": "markdown",
   "metadata": {},
   "source": [
    "<br>\n",
    "- - - - - - - - - - - - - - - - - - - - - - - - - - -\n",
    "<br>"
   ]
  },
  {
   "cell_type": "markdown",
   "metadata": {},
   "source": [
    "#### 2.2 PhariaAI Application Service\n",
    "\n",
    "The service component functions as the backend for your application. It handles API requests from the UI, manages application state, and communicates with the skill component to process user queries. It's built with Python and runs as a web server.\n",
    "\n",
    "In your Terminal use the following commands:"
   ]
  },
  {
   "cell_type": "code",
   "execution_count": null,
   "metadata": {
    "vscode": {
     "languageId": "powershell"
    }
   },
   "outputs": [],
   "source": [
    "cd <your-app-name>/service"
   ]
  },
  {
   "cell_type": "markdown",
   "metadata": {},
   "source": [
    "Before setting up the service, ensure your environment is properly configured:"
   ]
  },
  {
   "cell_type": "markdown",
   "metadata": {},
   "source": [
    "- Ensure your local Python version matches the one specified in pyproject.toml (e.g., pyenv install x.x.x && pyenv local x.x.x; see https://github.com/pyenv/pyenv)\n",
    "- Verify that any missing environment variables are set in <your-app-name>/service/.env"
   ]
  },
  {
   "cell_type": "markdown",
   "metadata": {},
   "source": [
    "Now install the dependencies and start the service:"
   ]
  },
  {
   "cell_type": "code",
   "execution_count": null,
   "metadata": {
    "vscode": {
     "languageId": "powershell"
    }
   },
   "outputs": [],
   "source": [
    "uv sync --dev\n",
    "uv run dev"
   ]
  },
  {
   "cell_type": "markdown",
   "metadata": {},
   "source": [
    "<br>\n",
    "- - - - - - - - - - - - - - - - - - - - - - - - - - -\n",
    "<br>"
   ]
  },
  {
   "cell_type": "markdown",
   "metadata": {},
   "source": [
    "#### 2.3 PhariaAI Application Skill\n",
    "\n",
    "The skill component contains the core logic of your application, including document retrieval and answer generation. Unlike the UI and service components, the skill is designed to be executed by the PhariaKernel platform rather than running directly on your local machine. However, we still need to set up the development environment locally.\n",
    "\n",
    "First, you need to configure the environment variables for the OCI registry, which will be used to publish the skill. This refers to the .env file in the project root:\n",
    "\n",
    "```bash\n",
    "SKILL_REGISTRY=registry.your-organization.com\n",
    "SKILL_REPOSITORY=your-pharia-skills-repository\n",
    "SKILL_REGISTRY_USER=your-registry-username\n",
    "SKILL_REGISTRY_TOKEN=your-registry-password\n",
    "```"
   ]
  },
  {
   "cell_type": "markdown",
   "metadata": {},
   "source": [
    "Navigate to the skill directory and set up the environment:"
   ]
  },
  {
   "cell_type": "code",
   "execution_count": null,
   "metadata": {
    "vscode": {
     "languageId": "powershell"
    }
   },
   "outputs": [],
   "source": [
    "cd <your-app-name>/skill"
   ]
  },
  {
   "cell_type": "markdown",
   "metadata": {},
   "source": [
    "Load the environment variables and install dependencies:\n",
    "\n",
    "> **Note**: Ensure your local Python version matches the one specified in pyproject.toml"
   ]
  },
  {
   "cell_type": "code",
   "execution_count": null,
   "metadata": {
    "vscode": {
     "languageId": "powershell"
    }
   },
   "outputs": [],
   "source": [
    "set -a && source ../.env\n",
    "uv sync --dev"
   ]
  },
  {
   "cell_type": "markdown",
   "metadata": {},
   "source": [
    "> **Note**: Congratulations! You now have your first PhariaAI application up and running. To see your application in action, simply visit the application UI URL. The user interface is already set up to communicate with the application service, and the application service is configured to work with the application skill.\n",
    "\n",
    "But there are still some steps to go:\n",
    "\n",
    "> **Warning**: At this point, API calls from the application service to the PhariaAI skill will fail. This is because the skill needs to be served through a PhariaKernel. To resolve this, you'll need to publish the skill so that it can be served through your PhariaKernel instance.\n",
    "\n",
    "<br>\n",
    "- - - - - - - - - - - - - - - - - - - - - - - - - - -\n",
    "<br>"
   ]
  },
  {
   "cell_type": "markdown",
   "metadata": {},
   "source": [
    "### 3. Publishing the Skill\n",
    "\n",
    "Although your application is running locally, there's a critical step needed to make it fully functional. Currently, the skill component is only accessible locally and not yet available to the PhariaKernel. To solve this, we need to build and publish the skill to the registry, making it available for production use.\n"
   ]
  },
  {
   "cell_type": "markdown",
   "metadata": {},
   "source": [
    "In your terminal make sure you are at the skill folder (`cd <your-app-name>/skill`), start with building the skill. This process packages your code and dependencies into a container that can be deployed on the PhariaKernel:"
   ]
  },
  {
   "cell_type": "code",
   "execution_count": null,
   "metadata": {
    "vscode": {
     "languageId": "powershell"
    }
   },
   "outputs": [],
   "source": [
    "cd <your-app-name>/skill\n",
    "uv run pharia-skill build qa"
   ]
  },
  {
   "cell_type": "markdown",
   "metadata": {},
   "source": [
    "After successfully building the skill, you are asked to publish it to the registry. This makes the skill accessible to the PhariaKernel service.\n",
    "\n",
    "You will be asked to provide both a name & a tag for your skill when publishing. For this example lets choose the name ```qa-rag-tutorial```\n",
    "> **Note**:  Please make sure that the name is not used already to avoid overriding another skill."
   ]
  },
  {
   "cell_type": "markdown",
   "metadata": {},
   "source": [
    "How the response will look like:"
   ]
  },
  {
   "cell_type": "markdown",
   "metadata": {},
   "source": [
    "```bash\n",
    "╭────────────────────────────────── Publish Successful ──────────────────────────────────╮\n",
    "│                                                                                        │\n",
    "│  Skill: qa-rag-tutorial                                                                │\n",
    "│  Tag: latest                                                                           │\n",
    "│  Registry: <your-registry>/skills                                                      │\n",
    "│                                                                                        │\n",
    "│  Published in 11.14 seconds                                                            │\n",
    "│                                                                                        │\n",
    "╰───────────────────────────────────────────────────────────────────────────────────\n",
    "```"
   ]
  },
  {
   "cell_type": "markdown",
   "metadata": {},
   "source": [
    "The final step is to configure the PhariaKernel to recognize and serve your skill. After publishing, update your ```namespace.toml``` file (ask your PhariaAI Operator for the location of this file) by adding the new skill entry. Once updated, your PhariaAI application is ready to use the published skill."
   ]
  },
  {
   "cell_type": "markdown",
   "metadata": {},
   "source": [
    "---"
   ]
  },
  {
   "cell_type": "markdown",
   "metadata": {},
   "source": [
    "### 4. Adjusting the Routing Configuration\n",
    "\n",
    "After publishing your skill, you need to connect your application's service component to the published skill. This requires updating the routing configuration in your service component to point to the correct namespace and skill name.\n",
    "\n",
    "The service component acts as a bridge between the UI and the skill, forwarding requests and responses between them. By default, the service is configured to use a skill named \"qa\" in the \"app\" namespace, but we need to update this to match our published skill.\n",
    "\n",
    "To be able to connect the frontend to the skill you just published, we need to adjust the `<Application-name>/service/source/routes.py` file to point to the right namespace and skill. In the file you need to update the following line of code:\n",
    "\n",
    "```python\n",
    "skill = Skill(namespace=\"app\", name=\"qa\")"
   ]
  },
  {
   "cell_type": "markdown",
   "metadata": {},
   "source": [
    "In most of our deployments, the namespace in which Kernel is running will be called \"playground\", and the skill will have the name you gave it. So in our example we need to replace the above line with:"
   ]
  },
  {
   "cell_type": "markdown",
   "metadata": {},
   "source": [
    "```python\n",
    "skill = Skill(namespace=\"playground\", name=\"qa-rag-tutorial\")"
   ]
  },
  {
   "cell_type": "markdown",
   "metadata": {},
   "source": [
    "As we have not adjusted the qa skill yet, it still points to the example collection we set up, which contains papers regarding transformers. While we'll change this in the next tutorial, when previewing your application now you can ask questions like: \"What is an encoder?\""
   ]
  },
  {
   "cell_type": "markdown",
   "metadata": {},
   "source": [
    "> **Restart Service**: After these changes we need to restart the service component to point to the changed namespace & skill!"
   ]
  },
  {
   "cell_type": "markdown",
   "metadata": {},
   "source": [
    "### 5. Previewing Your Application\n",
    "\n",
    "With your application components set up, skill published, and routing configured, you can now preview and test your application. The Pharia platform provides tools for previewing applications locally before making them available to all users.\n",
    "\n",
    "The preview process allows you to test your application in a development environment, ensuring everything is working correctly before deploying to production. During preview, your application runs locally but connects to the published skill through the PhariaKernel platform.\n",
    "\n",
    "> **Note**: Before using any pharia-ai-cli command below, make sure all necessary environment variables are configured correctly in `<your-app-name>/.env`.\n",
    "\n",
    "When you're ready to preview your PhariaAI application, run the following command:"
   ]
  },
  {
   "cell_type": "code",
   "execution_count": null,
   "metadata": {
    "vscode": {
     "languageId": "powershell"
    }
   },
   "outputs": [],
   "source": [
    "cd <your-app-name>\n",
    "npx @aleph-alpha/pharia-ai-cli preview"
   ]
  },
  {
   "cell_type": "markdown",
   "metadata": {},
   "source": [
    "This preview command starts your application in a local development mode and provides a URL that you can add to PhariaAssistant for testing:"
   ]
  },
  {
   "cell_type": "markdown",
   "metadata": {},
   "source": [
    "1. This command starts the application locally.\n",
    "\n",
    "2. Copy the preview URL and follow the instructions in How to use developer mode in PhariaAssistant\n",
    "\n",
    "3. Add the URL to the Developer Mode Server URL list in PhariaAssistant\n",
    "\n",
    "4. Your application should now appear in PhariaAssistant's left sidebar."
   ]
  },
  {
   "cell_type": "markdown",
   "metadata": {},
   "source": [
    "---"
   ]
  },
  {
   "cell_type": "markdown",
   "metadata": {},
   "source": [
    "In this section, you've successfully created and deployed a PhariaAI Q&A application that can answer questions based on your document collection:\n",
    "\n",
    "✅ **Created the application scaffold** using the PhariaAI CLI with the qa template, which generated:\n",
    "   - A responsive user interface for submitting questions\n",
    "   - A backend service to handle requests\n",
    "   - A skill component that implements the RAG logic\n",
    "\n",
    "✅ **Set up and configured all components**:\n",
    "   - Installed dependencies for each component\n",
    "   - Set up authentication and environment variables\n",
    "   - Started each component in development mode\n",
    "\n",
    "✅ **Published the skill to the registry**:\n",
    "   - Built the skill container with all necessary dependencies\n",
    "   - Published it to the OCI registry for use by PhariaKernel\n",
    "   - Updated your service configuration to point to the published skill\n",
    "\n",
    "✅ **Previewed and tested the application**:\n",
    "   - Started the application in preview mode\n",
    "   - Connected it to PhariaAssistant for testing\n",
    "   - Verified proper document retrieval and answer generation\n",
    "\n",
    "Your Q&A application now provides a complete interface for users to ask questions about your document collection and receive contextually relevant answers generated by the language model and grounded in your documents.\n",
    "\n",
    "In the next section, we'll explore how to customize the skill to connect to your specific document collections and fine-tune its behavior for your use case."
   ]
  }
 ],
 "metadata": {
  "kernelspec": {
   "display_name": ".venv",
   "language": "python",
   "name": "python3"
  },
  "language_info": {
   "codemirror_mode": {
    "name": "ipython",
    "version": 3
   },
   "file_extension": ".py",
   "mimetype": "text/x-python",
   "name": "python",
   "nbconvert_exporter": "python",
   "pygments_lexer": "ipython3",
   "version": "3.12.9"
  }
 },
 "nbformat": 4,
 "nbformat_minor": 4
}
