{
 "cells": [
  {
   "cell_type": "markdown",
   "metadata": {},
   "source": [
    "# 2. Update the skill in the runtime\n",
    "\n",
    "<div class=\"alert alert-info\">\n",
    "<b>Note:</b> this tutorial is run entirely on the terminal.\n",
    "</div>\n",
    "\n",
    "\n",
    "After editing the skill in the previous tutorial, we want now to create a new version of the skill in the runtime so that it can be consumed via APIs. You can run this tutorial entirely in your terminal.\n",
    "\n",
    "## Preconditions\n",
    "You have already done `2. Create & Run Applications` and the previous step in this tutorial. Additionally, you have access to the boilerplate folder where the UI, Service and Skills are.\n",
    "\n",
    "### 2.1 Change the skill code\n",
    "\n",
    "Navigate to the `<your-application-folder>/skills/qa.py` and replace the code with what you created in the previous step of this tutorial.\n",
    "\n",
    "<div class=\"alert alert-info\">\n",
    "<b>Note:</b> remove the comment on the decorator (`#@skill`) if you are taking the code from the previous step of this tutorial.\n",
    "</div>"
   ]
  },
  {
   "cell_type": "markdown",
   "metadata": {},
   "source": [
    "In a ```new terminal window``` navigate to the skills directory and set up the environment:"
   ]
  },
  {
   "cell_type": "code",
   "execution_count": null,
   "metadata": {
    "vscode": {
     "languageId": "powershell"
    }
   },
   "outputs": [],
   "source": [
    "cd <your-application-folder>/skills"
   ]
  },
  {
   "cell_type": "markdown",
   "metadata": {},
   "source": [
    "Add to your environment the following variables. One way of doing it is to add them to the `<your-application-folder>/.env` file and then perform the `source` in the next step.\n",
    "\n",
    "``` bash\n",
    "PHARIA_KERNEL_ADDRESS=\n",
    "PHARIA_KERNEL_NAMESPACE=\n",
    "PHARIA_SKILL_NAME=\n",
    "```"
   ]
  },
  {
   "cell_type": "markdown",
   "metadata": {},
   "source": [
    "Load the environment variables and install dependencies:"
   ]
  },
  {
   "cell_type": "code",
   "execution_count": null,
   "metadata": {
    "vscode": {
     "languageId": "powershell"
    }
   },
   "outputs": [],
   "source": [
    "#  If you are using linux based system, you can use the following command to source the .env file\n",
    "set -a && source ../.env\n",
    "\n",
    "# If you are using Windows Powershell, you can use the following command to source the .env file\n",
    "Get-Content \"../.env\" | ForEach-Object {\n",
    "    if ($_ -match '^\\s*([^#][^=]+?)\\s*=\\s*(.*)\\s*$') {\n",
    "        $key = $matches[1].Trim()\n",
    "        $value = $matches[2].Trim('\"')  # Optional: remove quotes\n",
    "        [System.Environment]::SetEnvironmentVariable($key, $value, \"Process\")\n",
    "    }\n",
    "}\n"
   ]
  },
  {
   "cell_type": "code",
   "execution_count": null,
   "metadata": {
    "vscode": {
     "languageId": "powershell"
    }
   },
   "outputs": [],
   "source": [
    "uv sync --dev"
   ]
  },
  {
   "cell_type": "markdown",
   "metadata": {},
   "source": [
    "### 2.2 Publish the Skill\n",
    "\n",
    "As previously done, let's build the skill and publish it. As past of the publishing, PhariaKernel CLI will ask to specify the version and the name of the skill. Let's use `latest` as version and the same name as before to avoid editing the `namespace.toml` in the OCI registry."
   ]
  },
  {
   "cell_type": "code",
   "execution_count": null,
   "metadata": {
    "vscode": {
     "languageId": "powershell"
    }
   },
   "outputs": [],
   "source": [
    "uv run pharia-skill build qa"
   ]
  },
  {
   "cell_type": "markdown",
   "metadata": {},
   "source": [
    "### 2.3 Access the Skill via CURL\n",
    "Let's now access the published skill via CURL."
   ]
  },
  {
   "cell_type": "code",
   "execution_count": null,
   "metadata": {
    "vscode": {
     "languageId": "powershell"
    }
   },
   "outputs": [],
   "source": [
    "curl \"$PHARIA_KERNEL_ADDRESS/v1/skills/$PHARIA_KERNEL_NAMESPACE/$PHARIA_SKILL_NAME/run\" \\\n",
    "  --request POST \\\n",
    "  --header 'Content-Type: application/json' \\\n",
    "  --header \"Authorization: Bearer $PHARIA_AI_TOKEN\" \\\n",
    "  --data '{\"question\": \"What is a transformer?\"}'"
   ]
  }
 ],
 "metadata": {
  "kernelspec": {
   "display_name": ".venv",
   "language": "python",
   "name": "python3"
  },
  "language_info": {
   "codemirror_mode": {
    "name": "ipython",
    "version": 3
   },
   "file_extension": ".py",
   "mimetype": "text/x-python",
   "name": "python",
   "nbconvert_exporter": "python",
   "pygments_lexer": "ipython3",
   "version": "3.12.9"
  }
 },
 "nbformat": 4,
 "nbformat_minor": 4
}
